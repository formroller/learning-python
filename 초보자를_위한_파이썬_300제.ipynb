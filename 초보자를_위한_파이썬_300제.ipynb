{
  "nbformat": 4,
  "nbformat_minor": 0,
  "metadata": {
    "colab": {
      "name": "초보자를 위한 파이썬 300제.ipynb",
      "provenance": [],
      "collapsed_sections": [],
      "toc_visible": true
    },
    "kernelspec": {
      "name": "python3",
      "display_name": "Python 3"
    }
  },
  "cells": [
    {
      "cell_type": "markdown",
      "metadata": {
        "id": "1dBKsUID5kOC"
      },
      "source": [
        "# [초보자를 위한 파이썬 300제](https://wikidocs.net/78558)\r\n",
        "---\r\n",
        "목적 : 파이썬 문법 이해와 기초 코드 연습을 통한 기본기 학습."
      ]
    },
    {
      "cell_type": "markdown",
      "metadata": {
        "id": "h5NCZFCD5ysm"
      },
      "source": [
        "## 1 파이썬 시작하기 (1~10)\r\n",
        "---\r\n",
        "print 함수와 관련된 문제 풀이"
      ]
    },
    {
      "cell_type": "code",
      "metadata": {
        "colab": {
          "base_uri": "https://localhost:8080/"
        },
        "id": "zXUlTeC552du",
        "outputId": "3229b86e-4cb6-4978-fe55-5184c0340642"
      },
      "source": [
        "# 1. Hello World \r\n",
        "print('Hello World')\r\n"
      ],
      "execution_count": null,
      "outputs": [
        {
          "output_type": "stream",
          "text": [
            "Hello World\n"
          ],
          "name": "stdout"
        }
      ]
    },
    {
      "cell_type": "code",
      "metadata": {
        "colab": {
          "base_uri": "https://localhost:8080/"
        },
        "id": "-GpzCBZx57nW",
        "outputId": "03e3722b-79a5-434c-b14a-565381dfe4e4"
      },
      "source": [
        "# 2. Mary's cosmetics \r\n",
        "print(\"Mary's cosmetics\")"
      ],
      "execution_count": null,
      "outputs": [
        {
          "output_type": "stream",
          "text": [
            "Mary's cosmetics\n"
          ],
          "name": "stdout"
        }
      ]
    },
    {
      "cell_type": "code",
      "metadata": {
        "colab": {
          "base_uri": "https://localhost:8080/"
        },
        "id": "uFuxxghF5_p_",
        "outputId": "e7afa536-3bbb-49eb-c94f-46b3ea73a80c"
      },
      "source": [
        "# 3.  신씨가 소리질렀다. \"도둑이야\". \r\n",
        "print('신씨가 소리질렀다. \"도둑이야\".')"
      ],
      "execution_count": null,
      "outputs": [
        {
          "output_type": "stream",
          "text": [
            "신씨가 소리질렀다. \"도둑이야\".\n"
          ],
          "name": "stdout"
        }
      ]
    },
    {
      "cell_type": "code",
      "metadata": {
        "colab": {
          "base_uri": "https://localhost:8080/"
        },
        "id": "L7_hZyZ-6Bef",
        "outputId": "11d94fc2-dcbc-4597-f5fc-0e0d052cfc58"
      },
      "source": [
        "# 4. \"C:\\windows\"\r\n",
        "print('\"C:\\Windows\"')"
      ],
      "execution_count": null,
      "outputs": [
        {
          "output_type": "stream",
          "text": [
            "\"C:\\Windows\"\n"
          ],
          "name": "stdout"
        }
      ]
    },
    {
      "cell_type": "code",
      "metadata": {
        "colab": {
          "base_uri": "https://localhost:8080/"
        },
        "id": "vMdFmYmE6Ep_",
        "outputId": "d96d2077-bc3f-4b66-ce5b-5ee5187f6052"
      },
      "source": [
        "# 5. \\t \\n 역할 알기  , \\n:줄바꿈 \\t:탭\r\n",
        "print(\"안녕.\\n 만나서 \\t\\t 반갑다.\")"
      ],
      "execution_count": null,
      "outputs": [
        {
          "output_type": "stream",
          "text": [
            "안녕.\n",
            " 만나서 \t\t 반갑다.\n"
          ],
          "name": "stdout"
        }
      ]
    },
    {
      "cell_type": "code",
      "metadata": {
        "colab": {
          "base_uri": "https://localhost:8080/"
        },
        "id": "-I8byNtJ6GH_",
        "outputId": "9471fdb4-d512-4868-c5f9-4c04ab0240fd"
      },
      "source": [
        "# 6. 여러단어 출력\r\n",
        "print(\"오늘은\",\"일요일\")"
      ],
      "execution_count": null,
      "outputs": [
        {
          "output_type": "stream",
          "text": [
            "오늘은 일요일\n"
          ],
          "name": "stdout"
        }
      ]
    },
    {
      "cell_type": "code",
      "metadata": {
        "colab": {
          "base_uri": "https://localhost:8080/"
        },
        "id": "XTSUqob06Gtf",
        "outputId": "3009e5bd-e5f4-4649-9bf6-c8aaead56151"
      },
      "source": [
        "# 7. naver;kakao;samsung 출력\r\n",
        "print('naver;'+'kakao;'+'samsung')\r\n",
        "print('naver','kakao','samsung',sep=';')"
      ],
      "execution_count": null,
      "outputs": [
        {
          "output_type": "stream",
          "text": [
            "naver;kakao;samsung\n",
            "naver;kakao;samsung\n"
          ],
          "name": "stdout"
        }
      ]
    },
    {
      "cell_type": "code",
      "metadata": {
        "colab": {
          "base_uri": "https://localhost:8080/"
        },
        "id": "ocuEimRI6IgP",
        "outputId": "2fcb710f-6909-4a83-f3dc-047b5b487f7f"
      },
      "source": [
        "# 8. naver/kakao/samsung 출력\r\n",
        "print('naver','kakao','samsung', sep='/')"
      ],
      "execution_count": null,
      "outputs": [
        {
          "output_type": "stream",
          "text": [
            "naver/kakao/samsung\n"
          ],
          "name": "stdout"
        }
      ]
    },
    {
      "cell_type": "code",
      "metadata": {
        "colab": {
          "base_uri": "https://localhost:8080/"
        },
        "id": "7V0f-4pz6Kf_",
        "outputId": "ee010de9-a774-4e7a-9157-10565003e5ac"
      },
      "source": [
        "# 9. print('first');print('second') 공백없이 출력\r\n",
        "print('first',end='');print('second')"
      ],
      "execution_count": null,
      "outputs": [
        {
          "output_type": "stream",
          "text": [
            "firstsecond\n"
          ],
          "name": "stdout"
        }
      ]
    },
    {
      "cell_type": "code",
      "metadata": {
        "colab": {
          "base_uri": "https://localhost:8080/"
        },
        "id": "xScSydk46Ll3",
        "outputId": "106041c9-fc7c-4ee8-e9ef-ff0850237d2a"
      },
      "source": [
        "# 10. 5/3 결과 출력\r\n",
        "print(5/3)"
      ],
      "execution_count": null,
      "outputs": [
        {
          "output_type": "stream",
          "text": [
            "1.6666666666666667\n"
          ],
          "name": "stdout"
        }
      ]
    },
    {
      "cell_type": "markdown",
      "metadata": {
        "id": "WR-WxWNz9TYm"
      },
      "source": [
        "## 2 변수 (11~20)\r\n",
        "---\r\n",
        "파이썬 변수는 자주 사용되는 값을 바인딩한다. </br>\r\n",
        "파이썬 변수의 개념을 이해하고 문제를 풀어보자"
      ]
    },
    {
      "cell_type": "code",
      "metadata": {
        "colab": {
          "base_uri": "https://localhost:8080/"
        },
        "id": "w5siaBW_9mdh",
        "outputId": "420b97ad-ee2e-44a9-81b9-3c93e6fe0c36"
      },
      "source": [
        "# 11. 변수 사용하기\r\n",
        "# 삼성전자라는 변수로 50,000원을 바인딩해보세요. 삼성전자 주식 10주를 보유하고 있을 때 총 평가금액을 출력하세요.\r\n",
        "삼성전자=50000\r\n",
        "총평가액=삼성전자*10\r\n",
        "print(총평가액)\r\n",
        "\r\n",
        "# 12. 변수 사용하기\r\n",
        "# 삼성전자라는 변수로 50,000원을 바인딩해보세요. 삼성전자 주식 10주를 보유하고 있을 때 총 평가금액을 출력하세요.\r\n",
        "시가총액=298000000000000\r\n",
        "현재가=50000\r\n",
        "per = 15.79\r\n",
        "print(시가총액, type(시가총액))\r\n",
        "\r\n",
        "# 13. 문자열 출력\r\n",
        "s='hello'; t='python'\r\n",
        "print(s+'!',t)\r\n",
        "\r\n",
        "# 14. 파이썬을 이용한 계산\r\n",
        "2+2*3\r\n",
        "\r\n",
        "# 15. type함수\r\n",
        "a=123;type(a)\r\n",
        "\r\n",
        "# 16. 문자열을 정수로 변환\r\n",
        "num_str = '720'; int(num_str)\r\n",
        "\r\n",
        "# 17. 정수를 문자열 100으로 변환\r\n",
        "num=100; str(num)\r\n",
        "\r\n",
        "# 18. 문자열을 실수로 변환\r\n",
        "string='15.79'; float(string)\r\n",
        "\r\n",
        "# 19. 문자열을 정수로 변환\r\n",
        "year = '2020';\r\n",
        "print(int(year)-3, int(year)-2, int(year)-1)\r\n",
        "\r\n",
        "# 20 파이썬 계산\r\n",
        "# 에어컨이 월 48,584원에 무이자 36개월의 조건으로 홈쇼핑에 판매되고 있다. 총 금액은 계산한 후 이를 출력\r\n",
        "month = 48584 \r\n",
        "month*36\r\n"
      ],
      "execution_count": null,
      "outputs": [
        {
          "output_type": "stream",
          "text": [
            "500000\n",
            "298000000000000 <class 'int'>\n",
            "hello! python\n",
            "2017 2018 2019\n"
          ],
          "name": "stdout"
        },
        {
          "output_type": "execute_result",
          "data": {
            "text/plain": [
              "1749024"
            ]
          },
          "metadata": {
            "tags": []
          },
          "execution_count": 94
        }
      ]
    },
    {
      "cell_type": "markdown",
      "metadata": {
        "id": "gZ8-laOv6M_n"
      },
      "source": [
        "## 3 문자열(21~50)\r\n",
        "---\r\n",
        "파이썬 문자열은 인덱싱, 슬라이싱 기능과 다양한 메서드를 제공한다.\r\n"
      ]
    },
    {
      "cell_type": "code",
      "metadata": {
        "colab": {
          "base_uri": "https://localhost:8080/"
        },
        "id": "oPVTLhUh6OKo",
        "outputId": "ddbda727-a0a3-4288-b8f4-86865174b7a9"
      },
      "source": [
        "# 21. (문자열 인덱싱) letters가 바인딩하는 문자열에서 첫번째, 세번째 문자 출력\r\n",
        "letters = 'python'\r\n",
        "print(letters[0],letters[2])"
      ],
      "execution_count": null,
      "outputs": [
        {
          "output_type": "stream",
          "text": [
            "p t\n"
          ],
          "name": "stdout"
        }
      ]
    },
    {
      "cell_type": "code",
      "metadata": {
        "colab": {
          "base_uri": "https://localhost:8080/"
        },
        "id": "F8Eq7gTC6OhI",
        "outputId": "5d6f0911-4de5-4cb4-adb7-5407cbddd2cd"
      },
      "source": [
        "# 22. (문자열 슬라이싱) 뒤 4자리만 출력\r\n",
        "license_plate = '24가 2210'\r\n",
        "print(license_plate[-4:])"
      ],
      "execution_count": null,
      "outputs": [
        {
          "output_type": "stream",
          "text": [
            "2210\n"
          ],
          "name": "stdout"
        }
      ]
    },
    {
      "cell_type": "code",
      "metadata": {
        "colab": {
          "base_uri": "https://localhost:8080/",
          "height": 34
        },
        "id": "fxiszD8X6Oqv",
        "outputId": "9326263a-1daa-401a-cbb2-a247ff902c95"
      },
      "source": [
        "# 23. (문자열 인덱싱) '홀'만 출력\r\n",
        "string = '홀짝홀짝홀짝'\r\n",
        "string[::2]"
      ],
      "execution_count": null,
      "outputs": [
        {
          "output_type": "execute_result",
          "data": {
            "application/vnd.google.colaboratory.intrinsic+json": {
              "type": "string"
            },
            "text/plain": [
              "'홀홀홀'"
            ]
          },
          "metadata": {
            "tags": []
          },
          "execution_count": 34
        }
      ]
    },
    {
      "cell_type": "code",
      "metadata": {
        "colab": {
          "base_uri": "https://localhost:8080/",
          "height": 34
        },
        "id": "SLPuFei26Ox_",
        "outputId": "e10e4893-e878-438f-f961-950a2b4a9c36"
      },
      "source": [
        "# 24. (문자열 슬라이싱) 문자열 뒤집어 출력\r\n",
        "string = 'PYTHON'\r\n",
        "string[::-1]"
      ],
      "execution_count": null,
      "outputs": [
        {
          "output_type": "execute_result",
          "data": {
            "application/vnd.google.colaboratory.intrinsic+json": {
              "type": "string"
            },
            "text/plain": [
              "'NOHTYP'"
            ]
          },
          "metadata": {
            "tags": []
          },
          "execution_count": 35
        }
      ]
    },
    {
      "cell_type": "code",
      "metadata": {
        "colab": {
          "base_uri": "https://localhost:8080/"
        },
        "id": "8A_MeB_B6O4w",
        "outputId": "6e799215-f17c-4437-d830-25c4f437155b"
      },
      "source": [
        "# 25.(문자열 치환) - 제거\r\n",
        "number = '010-1111-2222'\r\n",
        "print(number.replace('-',' '))"
      ],
      "execution_count": null,
      "outputs": [
        {
          "output_type": "stream",
          "text": [
            "010 1111 2222\n"
          ],
          "name": "stdout"
        }
      ]
    },
    {
      "cell_type": "code",
      "metadata": {
        "colab": {
          "base_uri": "https://localhost:8080/",
          "height": 34
        },
        "id": "SQhMWhQO6O-w",
        "outputId": "f18c32af-82a2-492e-dadf-9b762d2f9668"
      },
      "source": [
        "# 26. (문자열 다루기) 25번 문제 모두 붙여 출력\r\n",
        "number.replace('-','')"
      ],
      "execution_count": null,
      "outputs": [
        {
          "output_type": "execute_result",
          "data": {
            "application/vnd.google.colaboratory.intrinsic+json": {
              "type": "string"
            },
            "text/plain": [
              "'01011112222'"
            ]
          },
          "metadata": {
            "tags": []
          },
          "execution_count": 37
        }
      ]
    },
    {
      "cell_type": "code",
      "metadata": {
        "colab": {
          "base_uri": "https://localhost:8080/"
        },
        "id": "0aWWtq176PDP",
        "outputId": "9e044ea6-392d-4b98-f87c-9f234ff21309"
      },
      "source": [
        "# 27. (문자열 다루기) 도메인 출력 kr\r\n",
        "url = 'http://sharebook.kr'\r\n",
        "print(url.split('.')[1])"
      ],
      "execution_count": null,
      "outputs": [
        {
          "output_type": "stream",
          "text": [
            "kr\n"
          ],
          "name": "stdout"
        }
      ]
    },
    {
      "cell_type": "code",
      "metadata": {
        "colab": {
          "base_uri": "https://localhost:8080/",
          "height": 223
        },
        "id": "7zEQ3kot6PH4",
        "outputId": "52e9f91a-0b3c-47f1-c3a1-ccbf5a757a24"
      },
      "source": [
        "# 28. 문자열은 immutable\r\n",
        "lang='python'\r\n",
        "lang[0]='P'\r\n",
        "# 'str' object does not support item assignment"
      ],
      "execution_count": null,
      "outputs": [
        {
          "output_type": "error",
          "ename": "TypeError",
          "evalue": "ignored",
          "traceback": [
            "\u001b[0;31m---------------------------------------------------------------------------\u001b[0m",
            "\u001b[0;31mTypeError\u001b[0m                                 Traceback (most recent call last)",
            "\u001b[0;32m<ipython-input-39-c86454794655>\u001b[0m in \u001b[0;36m<module>\u001b[0;34m()\u001b[0m\n\u001b[1;32m      1\u001b[0m \u001b[0;31m# 28. 문자열은 immutable\u001b[0m\u001b[0;34m\u001b[0m\u001b[0;34m\u001b[0m\u001b[0;34m\u001b[0m\u001b[0m\n\u001b[1;32m      2\u001b[0m \u001b[0mlang\u001b[0m\u001b[0;34m=\u001b[0m\u001b[0;34m'python'\u001b[0m\u001b[0;34m\u001b[0m\u001b[0;34m\u001b[0m\u001b[0m\n\u001b[0;32m----> 3\u001b[0;31m \u001b[0mlang\u001b[0m\u001b[0;34m[\u001b[0m\u001b[0;36m0\u001b[0m\u001b[0;34m]\u001b[0m\u001b[0;34m=\u001b[0m\u001b[0;34m'P'\u001b[0m\u001b[0;34m\u001b[0m\u001b[0;34m\u001b[0m\u001b[0m\n\u001b[0m\u001b[1;32m      4\u001b[0m \u001b[0;31m# 'str' object does not support item assignment\u001b[0m\u001b[0;34m\u001b[0m\u001b[0;34m\u001b[0m\u001b[0;34m\u001b[0m\u001b[0m\n",
            "\u001b[0;31mTypeError\u001b[0m: 'str' object does not support item assignment"
          ]
        }
      ]
    },
    {
      "cell_type": "code",
      "metadata": {
        "colab": {
          "base_uri": "https://localhost:8080/"
        },
        "id": "OzEruuza6PM4",
        "outputId": "fbdfcc6b-dd90-4794-d8f9-fc77a6e790ad"
      },
      "source": [
        "# 29. replcae 메서드 'a' -> 'A'\r\n",
        "string = 'abcdefg12341aa1a12a'\r\n",
        "print(string.replace('a','A'))"
      ],
      "execution_count": null,
      "outputs": [
        {
          "output_type": "stream",
          "text": [
            "Abcdefg12341AA1A12A\n"
          ],
          "name": "stdout"
        }
      ]
    },
    {
      "cell_type": "code",
      "metadata": {
        "colab": {
          "base_uri": "https://localhost:8080/"
        },
        "id": "mEXg3iz06PQg",
        "outputId": "a12845af-94cf-461a-cf25-6b4bda2ae0d2"
      },
      "source": [
        "# 30. replace 메서드 예상하기\r\n",
        "string='abcd'\r\n",
        "print(string.replace('b','B'))"
      ],
      "execution_count": null,
      "outputs": [
        {
          "output_type": "stream",
          "text": [
            "aBcd\n"
          ],
          "name": "stdout"
        }
      ]
    },
    {
      "cell_type": "code",
      "metadata": {
        "colab": {
          "base_uri": "https://localhost:8080/"
        },
        "id": "RLxb2-Sx6PUQ",
        "outputId": "1be0c483-f721-404f-b24a-cc40bd12a0cc"
      },
      "source": [
        "# 31. 문자열 합치기\r\n",
        "a='3';b='4'\r\n",
        "print(a+b)"
      ],
      "execution_count": null,
      "outputs": [
        {
          "output_type": "stream",
          "text": [
            "34\n"
          ],
          "name": "stdout"
        }
      ]
    },
    {
      "cell_type": "code",
      "metadata": {
        "colab": {
          "base_uri": "https://localhost:8080/"
        },
        "id": "33VxQ4zG6PYQ",
        "outputId": "1fedf5c2-cb1b-4804-9ced-b6ac0541829a"
      },
      "source": [
        "# 32. 문자열 곱하기\r\n",
        "print('Hi'*3)"
      ],
      "execution_count": null,
      "outputs": [
        {
          "output_type": "stream",
          "text": [
            "HiHiHi\n"
          ],
          "name": "stdout"
        }
      ]
    },
    {
      "cell_type": "code",
      "metadata": {
        "colab": {
          "base_uri": "https://localhost:8080/"
        },
        "id": "P93UUQny6PcY",
        "outputId": "6a3f0d7f-afce-4ea0-d3b7-41821cbc2e8f"
      },
      "source": [
        "# 33. 문자열 곱하기 - 80번 출력\r\n",
        "print('-'*80)"
      ],
      "execution_count": null,
      "outputs": [
        {
          "output_type": "stream",
          "text": [
            "--------------------------------------------------------------------------------\n"
          ],
          "name": "stdout"
        }
      ]
    },
    {
      "cell_type": "code",
      "metadata": {
        "colab": {
          "base_uri": "https://localhost:8080/"
        },
        "id": "vt04o6p26yPb",
        "outputId": "33dece89-0d44-4283-eb7c-98ff07a86511"
      },
      "source": [
        "# 34. 문자열 곱하기\r\n",
        "t1 = 'python'; t2 = 'java'\r\n",
        "print((t1+' '+t2+' ')*3)"
      ],
      "execution_count": null,
      "outputs": [
        {
          "output_type": "stream",
          "text": [
            "python java python java python java \n"
          ],
          "name": "stdout"
        }
      ]
    },
    {
      "cell_type": "code",
      "metadata": {
        "colab": {
          "base_uri": "https://localhost:8080/"
        },
        "id": "OwwoTe-w6ylz",
        "outputId": "30286472-188d-43bf-b4ad-4e7b230b5149"
      },
      "source": [
        "# 35. (문자열 출력) %formattinng을 사용해 출력\r\n",
        "name1='민수'; age1=10; name2='철희';age2=13\r\n",
        "\r\n",
        "print('이름:%s, 나이:%d' % (name1,age1))"
      ],
      "execution_count": null,
      "outputs": [
        {
          "output_type": "stream",
          "text": [
            "이름:민수, 나이:10\n"
          ],
          "name": "stdout"
        }
      ]
    },
    {
      "cell_type": "code",
      "metadata": {
        "colab": {
          "base_uri": "https://localhost:8080/",
          "height": 34
        },
        "id": "Ovc3FFt06yq8",
        "outputId": "a671d08c-b3d5-4608-ee8a-deac95fbc732"
      },
      "source": [
        "# 36. (문자열 출력) format() 메서드 사용\r\n",
        "format('이름:{}, 나이:{}'.format(name1,age1))"
      ],
      "execution_count": null,
      "outputs": [
        {
          "output_type": "execute_result",
          "data": {
            "application/vnd.google.colaboratory.intrinsic+json": {
              "type": "string"
            },
            "text/plain": [
              "'이름:민수, 나이:10'"
            ]
          },
          "metadata": {
            "tags": []
          },
          "execution_count": 47
        }
      ]
    },
    {
      "cell_type": "code",
      "metadata": {
        "colab": {
          "base_uri": "https://localhost:8080/"
        },
        "id": "f0rOpUeb6yu7",
        "outputId": "be7d8760-38da-4a05-fbd4-75fb9ff105bd"
      },
      "source": [
        "# 37. (문자열 출력) f-string\r\n",
        "print(f'이름: {name1}, 나이:{age1}\\n이름: {name2}, 나이:{age2}') "
      ],
      "execution_count": null,
      "outputs": [
        {
          "output_type": "stream",
          "text": [
            "이름: 민수, 나이:10\n",
            "이름: 철희, 나이:13\n"
          ],
          "name": "stdout"
        }
      ]
    },
    {
      "cell_type": "code",
      "metadata": {
        "id": "eEvJUeBe6yzr"
      },
      "source": [
        "# 38. 컴마 제거 및 정수 출력\r\n",
        "nums = '5,969,782,550'"
      ],
      "execution_count": null,
      "outputs": []
    },
    {
      "cell_type": "code",
      "metadata": {
        "colab": {
          "base_uri": "https://localhost:8080/"
        },
        "id": "zoIS0dBw6y37",
        "outputId": "db6861c4-c07c-425e-a27d-71fc6aa4edcd"
      },
      "source": [
        "# 39. 문자열 슬라이싱, '2020/03'출력\r\n",
        "quarter = '2020/03(E) (IRS연결)'\r\n",
        "print(quarter[:7])\r\n",
        "print(quarter.split(' ')[0][:-3])"
      ],
      "execution_count": null,
      "outputs": [
        {
          "output_type": "stream",
          "text": [
            "2020/03\n",
            "2020/03\n"
          ],
          "name": "stdout"
        }
      ]
    },
    {
      "cell_type": "code",
      "metadata": {
        "colab": {
          "base_uri": "https://localhost:8080/"
        },
        "id": "XnskiZ_p6y8D",
        "outputId": "d21b0b35-9065-47f7-c354-e6eeedc86233"
      },
      "source": [
        "# 40. 공백 제거\r\n",
        "data = '  삼성전자   '\r\n",
        "print(data.strip())"
      ],
      "execution_count": null,
      "outputs": [
        {
          "output_type": "stream",
          "text": [
            "삼성전자\n"
          ],
          "name": "stdout"
        }
      ]
    },
    {
      "cell_type": "code",
      "metadata": {
        "colab": {
          "base_uri": "https://localhost:8080/",
          "height": 34
        },
        "id": "8PYJTbCo6y_0",
        "outputId": "16dacbf5-5238-4d7a-f6e9-89f256ffef50"
      },
      "source": [
        "# 41. upper 메서드 (대문자로 변경)\r\n",
        "ticker = 'btn_krw'\r\n",
        "ticker.upper()"
      ],
      "execution_count": null,
      "outputs": [
        {
          "output_type": "execute_result",
          "data": {
            "application/vnd.google.colaboratory.intrinsic+json": {
              "type": "string"
            },
            "text/plain": [
              "'BTN_KRW'"
            ]
          },
          "metadata": {
            "tags": []
          },
          "execution_count": 52
        }
      ]
    },
    {
      "cell_type": "code",
      "metadata": {
        "colab": {
          "base_uri": "https://localhost:8080/",
          "height": 34
        },
        "id": "B6jsgkpF6zET",
        "outputId": "d30dd1c8-cc1c-4bfb-f769-5c4d562a3261"
      },
      "source": [
        "# 42. lower 메서드\r\n",
        "ticker = 'BTN_KRW'\r\n",
        "ticker.lower()"
      ],
      "execution_count": null,
      "outputs": [
        {
          "output_type": "execute_result",
          "data": {
            "application/vnd.google.colaboratory.intrinsic+json": {
              "type": "string"
            },
            "text/plain": [
              "'btn_krw'"
            ]
          },
          "metadata": {
            "tags": []
          },
          "execution_count": 53
        }
      ]
    },
    {
      "cell_type": "code",
      "metadata": {
        "colab": {
          "base_uri": "https://localhost:8080/",
          "height": 34
        },
        "id": "s4FOdZij6zHr",
        "outputId": "dfab5290-06e8-4c9a-8521-4fb488d4564b"
      },
      "source": [
        "# 43. capitalize 메서드, hello -> Hello\r\n",
        "'hello'.capitalize()"
      ],
      "execution_count": null,
      "outputs": [
        {
          "output_type": "execute_result",
          "data": {
            "application/vnd.google.colaboratory.intrinsic+json": {
              "type": "string"
            },
            "text/plain": [
              "'Hello'"
            ]
          },
          "metadata": {
            "tags": []
          },
          "execution_count": 55
        }
      ]
    },
    {
      "cell_type": "code",
      "metadata": {
        "colab": {
          "base_uri": "https://localhost:8080/"
        },
        "id": "kn_wx17f7vgH",
        "outputId": "e3f0ea00-06db-485d-e6c7-99c2f2194ba1"
      },
      "source": [
        "# 44. (endswith 메서드) 파일 이름이 'xlsx'로 끝나는지 여부 확인\r\n",
        "fname = '보고서.xlsx'\r\n",
        "fname.endswith('xlsx')"
      ],
      "execution_count": null,
      "outputs": [
        {
          "output_type": "execute_result",
          "data": {
            "text/plain": [
              "True"
            ]
          },
          "metadata": {
            "tags": []
          },
          "execution_count": 57
        }
      ]
    },
    {
      "cell_type": "code",
      "metadata": {
        "colab": {
          "base_uri": "https://localhost:8080/"
        },
        "id": "isT1mUph6zLb",
        "outputId": "ff5abbac-9c6b-4565-dbde-395f6c612c47"
      },
      "source": [
        "# 45. (endswith 메서드) 파일 이름이 'xlsx' 혹은 'xls'로 끝나는지 확인\r\n",
        "fname.endswith(('xlsx','xls'))"
      ],
      "execution_count": null,
      "outputs": [
        {
          "output_type": "execute_result",
          "data": {
            "text/plain": [
              "True"
            ]
          },
          "metadata": {
            "tags": []
          },
          "execution_count": 61
        }
      ]
    },
    {
      "cell_type": "code",
      "metadata": {
        "colab": {
          "base_uri": "https://localhost:8080/"
        },
        "id": "VwEnEKrk6zPD",
        "outputId": "2f2c87de-d28d-4228-fc55-81985de64a66"
      },
      "source": [
        "# 46. (startswith 메서드) 파일명이 '2020'으로 시작하는지 확인\r\n",
        "fname = '2020_보고서.xlsx'\r\n",
        "fname.startswith('2020')"
      ],
      "execution_count": null,
      "outputs": [
        {
          "output_type": "execute_result",
          "data": {
            "text/plain": [
              "True"
            ]
          },
          "metadata": {
            "tags": []
          },
          "execution_count": 62
        }
      ]
    },
    {
      "cell_type": "code",
      "metadata": {
        "colab": {
          "base_uri": "https://localhost:8080/"
        },
        "id": "9x4JVZJN6zSz",
        "outputId": "1423c533-f8d2-4b9f-eae8-f64b478791c8"
      },
      "source": [
        "# 47. split 메서드, 공백을 기준으로 문자 분할\r\n",
        "a= 'hello world'\r\n",
        "a.split(' ')"
      ],
      "execution_count": null,
      "outputs": [
        {
          "output_type": "execute_result",
          "data": {
            "text/plain": [
              "['hello', 'world']"
            ]
          },
          "metadata": {
            "tags": []
          },
          "execution_count": 63
        }
      ]
    },
    {
      "cell_type": "code",
      "metadata": {
        "colab": {
          "base_uri": "https://localhost:8080/"
        },
        "id": "gHjeObBd6zWz",
        "outputId": "211f6a6e-f6db-4202-d918-5d7cc531f245"
      },
      "source": [
        "# 48. btc와 krw로 분할\r\n",
        "ticker='btn_krw'\r\n",
        "ticker.split('_')"
      ],
      "execution_count": null,
      "outputs": [
        {
          "output_type": "execute_result",
          "data": {
            "text/plain": [
              "['btn', 'krw']"
            ]
          },
          "metadata": {
            "tags": []
          },
          "execution_count": 64
        }
      ]
    },
    {
      "cell_type": "code",
      "metadata": {
        "colab": {
          "base_uri": "https://localhost:8080/"
        },
        "id": "Zr5Yl1QH6zbD",
        "outputId": "de663d24-1e11-4fa9-da7e-f964620f876f"
      },
      "source": [
        "# 49. (split 메서드) 연도, 월, 일로 분할\r\n",
        "data = '2020-05-01'\r\n",
        "data.split('-')"
      ],
      "execution_count": null,
      "outputs": [
        {
          "output_type": "execute_result",
          "data": {
            "text/plain": [
              "['2020', '05', '01']"
            ]
          },
          "metadata": {
            "tags": []
          },
          "execution_count": 65
        }
      ]
    },
    {
      "cell_type": "code",
      "metadata": {
        "colab": {
          "base_uri": "https://localhost:8080/",
          "height": 34
        },
        "id": "1prhLZbv6zer",
        "outputId": "05e82db9-4e7b-4c1d-99a2-969457822fd5"
      },
      "source": [
        "# 50 rstrip 메서드, 오른쪽 공백 제거\r\n",
        "data='03091234     '\r\n",
        "data.rstrip()"
      ],
      "execution_count": null,
      "outputs": [
        {
          "output_type": "execute_result",
          "data": {
            "application/vnd.google.colaboratory.intrinsic+json": {
              "type": "string"
            },
            "text/plain": [
              "'03091234'"
            ]
          },
          "metadata": {
            "tags": []
          },
          "execution_count": 66
        }
      ]
    },
    {
      "cell_type": "markdown",
      "metadata": {
        "id": "sWhjEyjqTS7k"
      },
      "source": [
        "### 알게된 점\r\n",
        " * endswith(('a','b)), 'a' 또는 'b'로 끝나는지 -> 포함여부 확인 가능"
      ]
    },
    {
      "cell_type": "markdown",
      "metadata": {
        "id": "hBccFDnX6zi7"
      },
      "source": [
        "## 4 리스트(51 ~ 70)\r\n",
        "---\r\n",
        "파이썬 리스트는 순서가 있고 수정 가능한 자료구조이다."
      ]
    },
    {
      "cell_type": "code",
      "metadata": {
        "id": "TyX2pgsr6zm7"
      },
      "source": [
        "# 51. 리스트 생성\r\n",
        "movie_rank = ['닥터 스트레인지','스플릿','럭기']"
      ],
      "execution_count": null,
      "outputs": []
    },
    {
      "cell_type": "code",
      "metadata": {
        "colab": {
          "base_uri": "https://localhost:8080/"
        },
        "id": "-BWVOitO6zrL",
        "outputId": "52e80b06-b324-41fb-ff55-433f8d5b43ab"
      },
      "source": [
        "# 52. 리스트 원소 추가. (리스트에 '배트맨' 추가)\r\n",
        "movie_rank.append('배트맨')\r\n",
        "print(movie_rank)"
      ],
      "execution_count": null,
      "outputs": [
        {
          "output_type": "stream",
          "text": [
            "['닥터 스트레인지', '스플릿', '럭기', '배트맨']\n"
          ],
          "name": "stdout"
        }
      ]
    },
    {
      "cell_type": "code",
      "metadata": {
        "colab": {
          "base_uri": "https://localhost:8080/"
        },
        "id": "pRhecDLY6zvD",
        "outputId": "721b4c4e-a2b2-45a1-dbd4-d865b2aaca42"
      },
      "source": [
        "# 53. '슈퍼맨'을 '닥터 스트레인지'와 '스플릿' 사이에 추가하기.\r\n",
        "movie_rank = ['닥터 스트레인지', '스플릿', '럭키', '배트맨']\r\n",
        "movie_rank.insert(1, '배트맨')\r\n",
        "print(movie_rank)"
      ],
      "execution_count": null,
      "outputs": [
        {
          "output_type": "stream",
          "text": [
            "['닥터 스트레인지', '배트맨', '스플릿', '럭키', '배트맨']\n"
          ],
          "name": "stdout"
        }
      ]
    },
    {
      "cell_type": "code",
      "metadata": {
        "colab": {
          "base_uri": "https://localhost:8080/"
        },
        "id": "G0wh5Ti36zyz",
        "outputId": "ae3c9e1a-4eb8-475c-b449-c9b356e3d6b4"
      },
      "source": [
        "# 54. movie_rank에 '럭키'를 삭제\r\n",
        "del movie_rank[3]\r\n",
        "print(movie_rank)"
      ],
      "execution_count": null,
      "outputs": [
        {
          "output_type": "stream",
          "text": [
            "['닥터 스트레인지', '배트맨', '스플릿', '배트맨']\n"
          ],
          "name": "stdout"
        }
      ]
    },
    {
      "cell_type": "code",
      "metadata": {
        "colab": {
          "base_uri": "https://localhost:8080/"
        },
        "id": "ewL5_AB3GwE-",
        "outputId": "73cd1c58-351b-4e35-e8c4-05296ec7953c"
      },
      "source": [
        "# 55. movie_rank 리스트에서 '스플릿'과 배트맨을 삭제하라\r\n",
        "movie_rank = ['닥터 스트레인지', '슈퍼맨', '스플릿', '배트맨']\r\n",
        "del movie_rank[-2:]\r\n",
        "print(movie_rank)"
      ],
      "execution_count": null,
      "outputs": [
        {
          "output_type": "stream",
          "text": [
            "['닥터 스트레인지', '슈퍼맨']\n"
          ],
          "name": "stdout"
        }
      ]
    },
    {
      "cell_type": "code",
      "metadata": {
        "colab": {
          "base_uri": "https://localhost:8080/"
        },
        "id": "-jhi3wF3HAGX",
        "outputId": "a060fb0d-fd74-49d7-c03c-8a80b6a95a74"
      },
      "source": [
        "# 56. lang1과 lang2 리스트가 있을때 lang1과 lang2의 원소를 모드 갖고 있는 langs 리스트를 만들어라.\r\n",
        "lang1 = ['C', 'C++','JAVA']\r\n",
        "lang2 = ['Python','Go','C#']\r\n",
        "langs = lang1 + lang2\r\n",
        "print(langs)"
      ],
      "execution_count": null,
      "outputs": [
        {
          "output_type": "stream",
          "text": [
            "['C', 'C++', 'JAVA', 'Python', 'Go', 'C#']\n"
          ],
          "name": "stdout"
        }
      ]
    },
    {
      "cell_type": "code",
      "metadata": {
        "colab": {
          "base_uri": "https://localhost:8080/"
        },
        "id": "iDo4O_YsHXKh",
        "outputId": "3114d1a7-fe27-449c-9946-79f96af5a9c1"
      },
      "source": [
        "# 57. 다음 리스트에서 최댓값과 최솟값을 출력하라. (힌트:min(), max() 함수 사용)\r\n",
        "nums = [1,2,3,4,5,6,7]\r\n",
        "print(f'최솟값 : {min(nums)}\\n최댓값 : {max(nums)}')\r\n"
      ],
      "execution_count": null,
      "outputs": [
        {
          "output_type": "stream",
          "text": [
            "최솟값 : 1\n",
            "최댓값 : 7\n"
          ],
          "name": "stdout"
        }
      ]
    },
    {
      "cell_type": "code",
      "metadata": {
        "colab": {
          "base_uri": "https://localhost:8080/"
        },
        "id": "FAr1-zsnIA_0",
        "outputId": "03e62681-b3c6-4f0c-9d9d-58b2d9705e3e"
      },
      "source": [
        "# 58. 리스트 합을 출력.\r\n",
        "nums = [1,2,3,4,5]\r\n",
        "sum(nums)"
      ],
      "execution_count": null,
      "outputs": [
        {
          "output_type": "execute_result",
          "data": {
            "text/plain": [
              "15"
            ]
          },
          "metadata": {
            "tags": []
          },
          "execution_count": 124
        }
      ]
    },
    {
      "cell_type": "code",
      "metadata": {
        "colab": {
          "base_uri": "https://localhost:8080/"
        },
        "id": "_LqNYYXoILgN",
        "outputId": "3ba484d3-cfff-40b6-d9c4-f16f71e0c5b3"
      },
      "source": [
        "# 59. 저장된 데이터의 개수를 출력.\r\n",
        "cook = [\"피자\", \"김밥\", \"만두\", \"양념치킨\", \"족발\", \"피자\", \"김치만두\", \"쫄면\", \"쏘세지\", \"라면\", \"팥빙수\", \"김치전\"]\r\n",
        "print(len(cook))\r\n",
        "\r\n",
        "# from collections import Counter\r\n",
        "# Counter(cook), 원소 갯수 합 출력\r\n"
      ],
      "execution_count": null,
      "outputs": [
        {
          "output_type": "stream",
          "text": [
            "12\n"
          ],
          "name": "stdout"
        }
      ]
    },
    {
      "cell_type": "code",
      "metadata": {
        "colab": {
          "base_uri": "https://localhost:8080/"
        },
        "id": "TvvcoNtGJKwy",
        "outputId": "bb74e5f4-84f1-4290-cd2d-fc697df67b26"
      },
      "source": [
        "# 61. price 변수에는 날짜와 종가 정보가 저장돼 있다. 날짜 정보를 제외하고 가격 정보만을 출력하라. (힌트 : 슬라이싱)\r\n",
        "price = ['20180728', 100, 130, 140, 150, 160, 170]\r\n",
        "price[1:]"
      ],
      "execution_count": null,
      "outputs": [
        {
          "output_type": "execute_result",
          "data": {
            "text/plain": [
              "[100, 130, 140, 150, 160, 170]"
            ]
          },
          "metadata": {
            "tags": []
          },
          "execution_count": 153
        }
      ]
    },
    {
      "cell_type": "code",
      "metadata": {
        "colab": {
          "base_uri": "https://localhost:8080/"
        },
        "id": "VW0VTBo7JYXj",
        "outputId": "3d257781-6531-4660-b45e-b0f86f40afd8"
      },
      "source": [
        "# 62. 슬라이싱을 사용해 홀수만 출력\r\n",
        "nums=[1,2,3,4,5,6,7,8,9,10]\r\n",
        "nums[::2]"
      ],
      "execution_count": null,
      "outputs": [
        {
          "output_type": "execute_result",
          "data": {
            "text/plain": [
              "[1, 3, 5, 7, 9]"
            ]
          },
          "metadata": {
            "tags": []
          },
          "execution_count": 154
        }
      ]
    },
    {
      "cell_type": "code",
      "metadata": {
        "colab": {
          "base_uri": "https://localhost:8080/"
        },
        "id": "zi3kBYbEJgwL",
        "outputId": "e8c13444-1d0b-4a6c-850d-d63e3f78139a"
      },
      "source": [
        "# 63. 슬라이싱을 사용해 짝수만 출력\r\n",
        "nums=[1,2,3,4,5,6,7,8,9,10]\r\n",
        "nums[1::2]"
      ],
      "execution_count": null,
      "outputs": [
        {
          "output_type": "execute_result",
          "data": {
            "text/plain": [
              "[2, 4, 6, 8, 10]"
            ]
          },
          "metadata": {
            "tags": []
          },
          "execution_count": 158
        }
      ]
    },
    {
      "cell_type": "code",
      "metadata": {
        "colab": {
          "base_uri": "https://localhost:8080/"
        },
        "id": "GkEFb1DoJsAk",
        "outputId": "3e04f412-e6c5-46a0-f9f6-c9eb38feaaa2"
      },
      "source": [
        "# 64. 슬라이싱을 사용해 리스트의 숫자를 역방향으로 출력\r\n",
        "nums = [1,2,3,4,5]\r\n",
        "nums[::-1]"
      ],
      "execution_count": null,
      "outputs": [
        {
          "output_type": "execute_result",
          "data": {
            "text/plain": [
              "[5, 4, 3, 2, 1]"
            ]
          },
          "metadata": {
            "tags": []
          },
          "execution_count": 163
        }
      ]
    },
    {
      "cell_type": "code",
      "metadata": {
        "colab": {
          "base_uri": "https://localhost:8080/"
        },
        "id": "H-xqR-bNJ8YO",
        "outputId": "332016ae-aeab-4d6b-94eb-29bac25e2334"
      },
      "source": [
        "# 65 insert 리스트를 사용해 출력\r\n",
        "interset = ['삼성전자','LG전자','Naver']\r\n",
        "print(interset[0],interset[2])"
      ],
      "execution_count": null,
      "outputs": [
        {
          "output_type": "stream",
          "text": [
            "삼성전자 Naver\n"
          ],
          "name": "stdout"
        }
      ]
    },
    {
      "cell_type": "code",
      "metadata": {
        "colab": {
          "base_uri": "https://localhost:8080/"
        },
        "id": "uie_oRiNKVlA",
        "outputId": "a951efa2-5f16-4147-9af2-7e4feff94980"
      },
      "source": [
        "# 66. join 메서드\r\n",
        "interset = ['삼성전자','LG전자','Naver','SK하이닉스','미래에셋대우']\r\n",
        "print(\" \".join(interset))"
      ],
      "execution_count": null,
      "outputs": [
        {
          "output_type": "stream",
          "text": [
            "삼성전자 LG전자 Naver SK하이닉스 미래에셋대우\n"
          ],
          "name": "stdout"
        }
      ]
    },
    {
      "cell_type": "code",
      "metadata": {
        "colab": {
          "base_uri": "https://localhost:8080/"
        },
        "id": "Wh6exFLSK-Bj",
        "outputId": "c1f6f749-d20c-48e0-ed23-c421daea6f6d"
      },
      "source": [
        "# 67. join 메서드\r\n",
        "interset = ['삼성전자','LG전자','Naver','SK하이닉스','미래에셋대우']\r\n",
        "print(\"/\".join(interset))"
      ],
      "execution_count": null,
      "outputs": [
        {
          "output_type": "stream",
          "text": [
            "삼성전자/LG전자/Naver/SK하이닉스/미래에셋대우\n"
          ],
          "name": "stdout"
        }
      ]
    },
    {
      "cell_type": "code",
      "metadata": {
        "colab": {
          "base_uri": "https://localhost:8080/"
        },
        "id": "JYwRCe3SLEoE",
        "outputId": "e1c66776-8e21-4c45-ebca-0b81161e2d0f"
      },
      "source": [
        "# 68. join 메서드\r\n",
        "interset = ['삼성전자','LG전자','Naver','SK하이닉스','미래에셋대우']\r\n",
        "print(\"\\n\".join(interset))"
      ],
      "execution_count": null,
      "outputs": [
        {
          "output_type": "stream",
          "text": [
            "삼성전자\n",
            "LG전자\n",
            "Naver\n",
            "SK하이닉스\n",
            "미래에셋대우\n"
          ],
          "name": "stdout"
        }
      ]
    },
    {
      "cell_type": "code",
      "metadata": {
        "colab": {
          "base_uri": "https://localhost:8080/"
        },
        "id": "VlTbzeQ0LM50",
        "outputId": "a811f24c-3f9c-46d2-9b70-5578dbb8496f"
      },
      "source": [
        "# 69. 문자열 split 메서드\r\n",
        "string = '삼성전자/LG전자/Naver/SK하이닉스/미래에셋대우'\r\n",
        "string.split('/')"
      ],
      "execution_count": null,
      "outputs": [
        {
          "output_type": "execute_result",
          "data": {
            "text/plain": [
              "['삼성전자', 'LG전자', 'Naver', 'SK하이닉스', '미래에셋대우']"
            ]
          },
          "metadata": {
            "tags": []
          },
          "execution_count": 181
        }
      ]
    },
    {
      "cell_type": "code",
      "metadata": {
        "colab": {
          "base_uri": "https://localhost:8080/"
        },
        "id": "49JptzRTLuJt",
        "outputId": "e8fb4778-ce17-428b-b916-b1a670a1d044"
      },
      "source": [
        "# 70. 리스트 정렬(오름차순)\r\n",
        "data = [2,4,3,1,5,10,9]\r\n",
        "sorted(data)"
      ],
      "execution_count": null,
      "outputs": [
        {
          "output_type": "stream",
          "text": [
            "[1, 2, 3, 4, 5, 9, 10]\n"
          ],
          "name": "stdout"
        }
      ]
    },
    {
      "cell_type": "markdown",
      "metadata": {
        "id": "X5QxgmwXMd_D"
      },
      "source": [
        "## 5 튜플(71~80)\r\n",
        "---\r\n",
        "순서가 있지만 수정 불가능한 자료구조"
      ]
    },
    {
      "cell_type": "code",
      "metadata": {
        "colab": {
          "base_uri": "https://localhost:8080/"
        },
        "id": "-neYXwdNMnn7",
        "outputId": "91be7b7d-b3a6-4473-8d47-b1556b899577"
      },
      "source": [
        "# 71. my_variable 이름의 비어있는 튜플 생성\r\n",
        "my_variable=()"
      ],
      "execution_count": null,
      "outputs": [
        {
          "output_type": "execute_result",
          "data": {
            "text/plain": [
              "tuple"
            ]
          },
          "metadata": {
            "tags": []
          },
          "execution_count": 197
        }
      ]
    },
    {
      "cell_type": "code",
      "metadata": {
        "id": "cFzszFh_M9Y8"
      },
      "source": [
        "# 72. 2016년 11월 영화 예매 순위 기준 top3는 다음과 같다. 영화 제목을 movie_rank 이름의 튜플에 저장하라. (순위 정보는 저장하지 않는다.)\r\n",
        "movie_rank = ('닥터 스트레인지','스플릿','럭키')"
      ],
      "execution_count": null,
      "outputs": []
    },
    {
      "cell_type": "code",
      "metadata": {
        "colab": {
          "base_uri": "https://localhost:8080/"
        },
        "id": "eKMXLgOrNJJ1",
        "outputId": "a5554170-fe71-438e-e5da-8c484d97f501"
      },
      "source": [
        "# 73. 숫자 1이 저장된 튜플 생성\r\n",
        "my_tuple = (1)\r\n",
        "type(my_tuple)\r\n",
        "# -> 하나의 정숫값을 저장하면 튜플이 아닌 정수로 인식한다.\r\n",
        "\r\n",
        "my_tuple2 = (1,)\r\n",
        "# -> 하나의 데이터가 저장되는 경우, 쉼표를 입력해야 한다.\r\n",
        "\r\n",
        "print(type(my_tuple), type(my_tuple2))"
      ],
      "execution_count": null,
      "outputs": [
        {
          "output_type": "stream",
          "text": [
            "<class 'int'> <class 'tuple'>\n"
          ],
          "name": "stdout"
        }
      ]
    },
    {
      "cell_type": "code",
      "metadata": {
        "id": "JbRUXBQcOnuW"
      },
      "source": [
        "# 74. 다음 코드를 실행하고 오류가 발생하는 원인 설명\r\n",
        "t=(1,2,3)\r\n",
        "t[0] = 'a'\r\n",
        "\r\n",
        "#=> tuple은 원소의 값을 변경할 수 없다."
      ],
      "execution_count": null,
      "outputs": []
    },
    {
      "cell_type": "code",
      "metadata": {
        "id": "dbYZVtIWO5l2"
      },
      "source": [
        "# 75. 아래와 같이 t에는 1, 2, 3, 4 데이터가 바인딩되어 있다. t가 바인딩하는 데이터 타입은 무엇인가?\r\n",
        "t=1,2,3\r\n",
        "\r\n",
        "# -> 원칙적으로 튜플은 괄호와 함께 데이터를 정의해야 하지만, 괄호 없이도 동작 가능하다."
      ],
      "execution_count": null,
      "outputs": []
    },
    {
      "cell_type": "code",
      "metadata": {
        "id": "8ECeY1oOPE7H"
      },
      "source": [
        "# 76. 변수 t에는 아래과 같은 값이 저장되어 있다. 변수 t가 ('A','b','c') 튜플을 가리키도록 수정하라.\r\n",
        "t=('a','b','c')\r\n",
        "\r\n",
        "# => 튜플 값은 변경 불가. 따라서 새로운 튜플을 만들고 t라는 변수를 업데이트 해야한다.\r\n",
        "t=('A','b','c')"
      ],
      "execution_count": null,
      "outputs": []
    },
    {
      "cell_type": "code",
      "metadata": {
        "colab": {
          "base_uri": "https://localhost:8080/"
        },
        "id": "wY6WZMo-Pj5h",
        "outputId": "b92ccd16-4106-4bab-f43c-9ae2e421859b"
      },
      "source": [
        "# 77. 다음 튜플을 리스트로 변환하라.\r\n",
        "interset = ('삼성전자','LG전자','SK하이닉스')\r\n",
        "list(interset)"
      ],
      "execution_count": null,
      "outputs": [
        {
          "output_type": "execute_result",
          "data": {
            "text/plain": [
              "['삼성전자', 'LG전자', 'SK하이닉스']"
            ]
          },
          "metadata": {
            "tags": []
          },
          "execution_count": 204
        }
      ]
    },
    {
      "cell_type": "code",
      "metadata": {
        "colab": {
          "base_uri": "https://localhost:8080/"
        },
        "id": "duX5oYXQPvxa",
        "outputId": "fadd59c9-7509-4d60-b8a0-f78749df2a42"
      },
      "source": [
        "# 78. 다름 리스트를 튜플로 변환하라\r\n",
        "interset = ['삼성전자','LG전자','SK하이닉스']\r\n",
        "tuple(interset)"
      ],
      "execution_count": null,
      "outputs": [
        {
          "output_type": "execute_result",
          "data": {
            "text/plain": [
              "('삼성전자', 'LG전자', 'SK하이닉스')"
            ]
          },
          "metadata": {
            "tags": []
          },
          "execution_count": 207
        }
      ]
    },
    {
      "cell_type": "code",
      "metadata": {
        "colab": {
          "base_uri": "https://localhost:8080/"
        },
        "id": "ZzfhQDrnP-uT",
        "outputId": "12b2f6bb-8aa7-4039-e134-a288b968686e"
      },
      "source": [
        "# 79. 튜플 언팩킹\r\n",
        "temp = ('apple','banana','cake')\r\n",
        "a,b,c = temp\r\n",
        "print(a,b,c)"
      ],
      "execution_count": null,
      "outputs": [
        {
          "output_type": "stream",
          "text": [
            "apple banana cake\n"
          ],
          "name": "stdout"
        }
      ]
    },
    {
      "cell_type": "code",
      "metadata": {
        "id": "dwJPhV_xQIw0"
      },
      "source": [
        "# 80. range 함수\r\n",
        "# 1~99까지 짝수만 저장된 튜플을 생성.\r\n",
        "tuple(range(2,100,2))\r\n",
        "\r\n",
        "# num_tuple=tuple(range(1,100))\r\n",
        "# num_tuple[1::2]"
      ],
      "execution_count": null,
      "outputs": []
    },
    {
      "cell_type": "markdown",
      "metadata": {
        "id": "xyN2wsTsTk15"
      },
      "source": [
        "### 알게된 점\r\n",
        " * 튜플은 괄호를 생략해도 지정이 가능하다.\r\n",
        " * 하나의 정숫값을 입력할때는 뒤에 쉼표를 붙여야 튜플로 저장된다."
      ]
    },
    {
      "cell_type": "markdown",
      "metadata": {
        "id": "4HVoSQknQkYP"
      },
      "source": [
        "## 6 딕셔너리(81~100)\r\n",
        "---\r\n",
        "순서는 없지만 key, value 형태로 데이터를 저장한다. </br>\r\n",
        "특히 key는 데이터의 레이블(label)을 지정하는 용도로 자주 사용된다."
      ]
    },
    {
      "cell_type": "code",
      "metadata": {
        "colab": {
          "base_uri": "https://localhost:8080/"
        },
        "id": "fUV8ldgSRLce",
        "outputId": "e739aa57-b62d-4496-b1da-bb37d0aab8dd"
      },
      "source": [
        "# 81. 별 표현식\r\n",
        "'''\r\n",
        "기본적으로 데이터 언패킹은 좌변의 변수와 우변 데이터 개수가 같아야 합니다. \r\n",
        "하지만 star expression을 사용하면 변수의 개수가 달라도 데이터 언패킹을 할 수 있습니다. \r\n",
        "튜플에 저장된 데이터 중에서 앞에 있는 두 개의 데이터만 필요할 경우 나머지 데이터의 언패킹 코드를 작성할 필요가 없습니다.\r\n",
        "'''\r\n",
        "a,b,*c=(0,1,2,3,4,5)\r\n",
        "print(a,b,c)\r\n",
        "\r\n",
        "# 다음과 같이 10개의 값이 저장된 scores 리스트가 있을 때, start expression을 사용해 좌측 8개의 값을 valid_score 변수에 바인딩하여라.\r\n",
        "scores = [8.8, 8.9, 8.7, 9.2, 9.3, 9.7, 9.9, 9.5, 7.8, 9.4]\r\n",
        "*valid_score,a,b=scores\r\n",
        "print(valid_score, a,b)\r\n"
      ],
      "execution_count": null,
      "outputs": [
        {
          "output_type": "stream",
          "text": [
            "0 1 [2, 3, 4, 5]\n",
            "[8.8, 8.9, 8.7, 9.2, 9.3, 9.7, 9.9, 9.5] 7.8 9.4\n"
          ],
          "name": "stdout"
        }
      ]
    },
    {
      "cell_type": "code",
      "metadata": {
        "colab": {
          "base_uri": "https://localhost:8080/"
        },
        "id": "iDdlg7XPSnp5",
        "outputId": "cc5200ca-b14c-4ef5-e045-b6cfb78873cf"
      },
      "source": [
        "# 82. 다음과 같이 10개의 값이 저장된 scores 리스트가 있을 때, start expression을 사용해 우측 8개의 값을 valid_score 변수에 바인딩 하여라\r\n",
        "scores = [8.8, 8.9, 8.7, 9.2, 9.3, 9.7, 9.9, 9.5, 7.8, 9.4]\r\n",
        "_,__,*valid = scores\r\n",
        "print(_,__,valid)"
      ],
      "execution_count": null,
      "outputs": [
        {
          "output_type": "stream",
          "text": [
            "8.8 8.9 [8.7, 9.2, 9.3, 9.7, 9.9, 9.5, 7.8, 9.4]\n"
          ],
          "name": "stdout"
        }
      ]
    },
    {
      "cell_type": "code",
      "metadata": {
        "colab": {
          "base_uri": "https://localhost:8080/"
        },
        "id": "VFRFFZBAS3wx",
        "outputId": "08d92dc7-f099-4d66-97c8-4bf9f36b69ad"
      },
      "source": [
        "# 83. 다음과 같이 10개의 값이 저장된 scores 리스트가 있을 때, start expression 을 사용해 가운데 있는 8개의 값을 valid_score 변수에 바인딩 하여라\r\n",
        "scores = [8.8, 8.9, 8.7, 9.2, 9.3, 9.7, 9.9, 9.5, 7.8, 9.4]\r\n",
        "_, *valid,__ = scores\r\n",
        "print(_, valid, __)"
      ],
      "execution_count": null,
      "outputs": [
        {
          "output_type": "stream",
          "text": [
            "8.8 [8.9, 8.7, 9.2, 9.3, 9.7, 9.9, 9.5, 7.8] 9.4\n"
          ],
          "name": "stdout"
        }
      ]
    },
    {
      "cell_type": "code",
      "metadata": {
        "id": "J2mqkeHwTLVz"
      },
      "source": [
        "# 84. 빈 딕셔너리\r\n",
        "# temp이름의 빈 딕셔너리 생성\r\n",
        "temp={}"
      ],
      "execution_count": null,
      "outputs": []
    },
    {
      "cell_type": "code",
      "metadata": {
        "colab": {
          "base_uri": "https://localhost:8080/"
        },
        "id": "MdCyFgMIT2qG",
        "outputId": "094afa67-713c-4b55-d685-b3e931ed5f99"
      },
      "source": [
        "# 85. 다음 아이스크림 이름과 희망 가격을 딕셔너리로 구성하여라.\r\n",
        "ice = {'메로나':1000,'폴라포':1200,'빵빠레':1800}\r\n",
        "print(ice)"
      ],
      "execution_count": null,
      "outputs": [
        {
          "output_type": "stream",
          "text": [
            "{'메로나': 1000, '폴라포': 1200, '빵빠레': 1800}\n"
          ],
          "name": "stdout"
        }
      ]
    },
    {
      "cell_type": "code",
      "metadata": {
        "colab": {
          "base_uri": "https://localhost:8080/"
        },
        "id": "GibyjMJAUHwv",
        "outputId": "321e0986-1685-45bd-dd31-3aff664c9525"
      },
      "source": [
        "# 86. 위 85번의 딕셔너리에 자료 추가\r\n",
        "ice['죠스바'] = 1200\r\n",
        "ice['월드콘'] = 1500\r\n",
        "print(ice)"
      ],
      "execution_count": null,
      "outputs": [
        {
          "output_type": "stream",
          "text": [
            "{'메로나': 1000, '폴라포': 1200, '빵빠레': 1800, '죠스바': 1200, '월드콘': 1500}\n"
          ],
          "name": "stdout"
        }
      ]
    },
    {
      "cell_type": "code",
      "metadata": {
        "colab": {
          "base_uri": "https://localhost:8080/"
        },
        "id": "1Y7OnKzVVPwW",
        "outputId": "a8584dec-e874-4b25-a567-d3b2870f8e8e"
      },
      "source": [
        "# 87. 다음 딕셔너리를 사용해 메로나 가격을 출력\r\n",
        "ice = {'메로나': 1000,'폴로포': 1200,'빵빠레': 1800,'죠스바': 1200,'월드콘': 1500}\r\n",
        "print('메로나 가격 :', ice['메로나'])"
      ],
      "execution_count": null,
      "outputs": [
        {
          "output_type": "stream",
          "text": [
            "메로나 가격 : 1000\n"
          ],
          "name": "stdout"
        }
      ]
    },
    {
      "cell_type": "code",
      "metadata": {
        "colab": {
          "base_uri": "https://localhost:8080/"
        },
        "id": "kTLUFIHCV2F_",
        "outputId": "be1bbc12-d580-4344-db86-fa87ba059744"
      },
      "source": [
        "# 88. 다음 딕셔너리에서 메로나 가격을 1300으로 수정.\r\n",
        "ice = {'메로나': 1000,'폴로포': 1200,'빵빠레': 1800,'죠스바': 1200,'월드콘': 1500}\r\n",
        "ice['메로나']=1300"
      ],
      "execution_count": null,
      "outputs": [
        {
          "output_type": "execute_result",
          "data": {
            "text/plain": [
              "{'메로나': 1300, '빵빠레': 1800, '월드콘': 1500, '죠스바': 1200, '폴로포': 1200}"
            ]
          },
          "metadata": {
            "tags": []
          },
          "execution_count": 246
        }
      ]
    },
    {
      "cell_type": "code",
      "metadata": {
        "colab": {
          "base_uri": "https://localhost:8080/"
        },
        "id": "6faxosFUWI0x",
        "outputId": "4d29daf4-3a74-49c9-879f-d272816845a6"
      },
      "source": [
        "# 89. 다음 딕셔너리에서 메로나를 삭제\r\n",
        "ice = {'메로나': 1000,'폴로포': 1200,'빵빠레': 1800,'죠스바': 1200,'월드콘': 1500}\r\n",
        "del ice['메로나']"
      ],
      "execution_count": null,
      "outputs": [
        {
          "output_type": "execute_result",
          "data": {
            "text/plain": [
              "{'빵빠레': 1800, '월드콘': 1500, '죠스바': 1200, '폴로포': 1200}"
            ]
          },
          "metadata": {
            "tags": []
          },
          "execution_count": 248
        }
      ]
    },
    {
      "cell_type": "code",
      "metadata": {
        "id": "H2mS_4C_WSkK"
      },
      "source": [
        "# 90. 에러가 발생한 원인 찾기\r\n",
        "icecream = {'폴라포': 1200, '빵빠레': 1800, '월드콘': 1500, '메로나': 1000}\r\n",
        "icecream['누가바']\r\n",
        "\r\n",
        "# -> 사전에 없는 key값 호출로 인한 에러"
      ],
      "execution_count": null,
      "outputs": []
    },
    {
      "cell_type": "code",
      "metadata": {
        "id": "IcEMUI8gWems",
        "colab": {
          "base_uri": "https://localhost:8080/"
        },
        "outputId": "9875de6d-a16e-4727-d341-b5dbfbd88c8b"
      },
      "source": [
        "# 91. 딕셔너리 생성(딕셔너리명 : inventory)\r\n",
        "# 아이스크림 이름을 키값으로,(가격,재고)리스트를 딕셔너리 값으로 저장.\r\n",
        "inventory = {'메로나':[300,200], '비비빅':[400,3], '죠스바':[250,100]}"
      ],
      "execution_count": null,
      "outputs": [
        {
          "output_type": "execute_result",
          "data": {
            "text/plain": [
              "{'메로나': [300, 200], '비비빅': [400, 3], '죠스바': [250, 100]}"
            ]
          },
          "metadata": {
            "tags": []
          },
          "execution_count": 252
        }
      ]
    },
    {
      "cell_type": "code",
      "metadata": {
        "colab": {
          "base_uri": "https://localhost:8080/"
        },
        "id": "QxZAkjNPW7vG",
        "outputId": "8ce7c078-5c93-44d8-99e4-826981029df0"
      },
      "source": [
        "#  92. 딕셔너리 인덱싱, 메로나 가격 출력\r\n",
        "print(inventory['메로나'][0],'원')"
      ],
      "execution_count": null,
      "outputs": [
        {
          "output_type": "stream",
          "text": [
            "300 원\n"
          ],
          "name": "stdout"
        }
      ]
    },
    {
      "cell_type": "code",
      "metadata": {
        "colab": {
          "base_uri": "https://localhost:8080/"
        },
        "id": "ZTRZ8LXAXNaP",
        "outputId": "8cdaac81-42af-4fb8-d4e1-07da4f4f9fd5"
      },
      "source": [
        "# 93. 딕셔너리 인덱싱, 메로나 재고 출력\r\n",
        "inventory['메로나'][1]"
      ],
      "execution_count": null,
      "outputs": [
        {
          "output_type": "execute_result",
          "data": {
            "text/plain": [
              "200"
            ]
          },
          "metadata": {
            "tags": []
          },
          "execution_count": 258
        }
      ]
    },
    {
      "cell_type": "code",
      "metadata": {
        "id": "m8m0Q8A4XiJw"
      },
      "source": [
        "# 94. 딕셔너리 추가\r\n",
        "inventory['월드콘'] = [500,7]"
      ],
      "execution_count": null,
      "outputs": []
    },
    {
      "cell_type": "code",
      "metadata": {
        "colab": {
          "base_uri": "https://localhost:8080/"
        },
        "id": "Gr0DNQYwXp7p",
        "outputId": "a0dec459-7e12-4520-fa77-56a4dd62fbb8"
      },
      "source": [
        "# 95. 딕셔너리 keys() 메서드, 다음의 딕셔너리에서 key 값으로만 구성된 리스트 생성.\r\n",
        "icecream = {'탱크보이': 1200, '폴라포': 1200, '빵빠레': 1800, '월드콘': 1500, '메로나': 1000}\r\n",
        "list(icecream.keys())"
      ],
      "execution_count": null,
      "outputs": [
        {
          "output_type": "execute_result",
          "data": {
            "text/plain": [
              "['탱크보이', '폴라포', '빵빠레', '월드콘', '메로나']"
            ]
          },
          "metadata": {
            "tags": []
          },
          "execution_count": 264
        }
      ]
    },
    {
      "cell_type": "code",
      "metadata": {
        "colab": {
          "base_uri": "https://localhost:8080/"
        },
        "id": "iJoVuCLyX386",
        "outputId": "3ef17328-5881-408c-fb3c-197d8c5f173b"
      },
      "source": [
        "# 96. 딕셔너리 values()\r\n",
        "list(icecream.values())"
      ],
      "execution_count": null,
      "outputs": [
        {
          "output_type": "execute_result",
          "data": {
            "text/plain": [
              "[1200, 1200, 1800, 1500, 1000]"
            ]
          },
          "metadata": {
            "tags": []
          },
          "execution_count": 263
        }
      ]
    },
    {
      "cell_type": "code",
      "metadata": {
        "colab": {
          "base_uri": "https://localhost:8080/"
        },
        "id": "ZdtD99L_X9AC",
        "outputId": "733858f2-b7be-4c79-d55f-975a199a22c0"
      },
      "source": [
        "# 98. 딕셔너리 update 메서드\r\n",
        "# 아래의 new_product 딕셔너리를 다음 icecreame 딕셔너리에 추가\r\n",
        "icecream = {'탱크보이': 1200, '폴라포': 1200, '빵빠레': 1800, '월드콘': 1500, '메로나': 1000}\r\n",
        "new_product = {'팥빙수':2700, '아맛나':1000}\r\n",
        "\r\n",
        "icecream.update(new_product)\r\n",
        "print(icecream)"
      ],
      "execution_count": null,
      "outputs": [
        {
          "output_type": "stream",
          "text": [
            "{'탱크보이': 1200, '폴라포': 1200, '빵빠레': 1800, '월드콘': 1500, '메로나': 1000, '팥빙수': 2700, '아맛나': 1000}\n"
          ],
          "name": "stdout"
        }
      ]
    },
    {
      "cell_type": "code",
      "metadata": {
        "colab": {
          "base_uri": "https://localhost:8080/"
        },
        "id": "uJIYf5F8ZDVQ",
        "outputId": "b73ebcde-f086-4937-c88b-1dff3df3bdcc"
      },
      "source": [
        "# 99. zip과 dict\r\n",
        "# 아래 두개의 튜플을 하나의 딕셔너리로 변환. keys를 키로, result의 이름을 value 값으로 저장.\r\n",
        "keys = ('apple','pear','peach')\r\n",
        "vals = (300, 250,400)\r\n",
        "\r\n",
        "result = dict(zip(keys,vals))\r\n",
        "print(result)"
      ],
      "execution_count": null,
      "outputs": [
        {
          "output_type": "stream",
          "text": [
            "{'apple': 300, 'pear': 250, 'peach': 400}\n"
          ],
          "name": "stdout"
        },
        {
          "output_type": "execute_result",
          "data": {
            "text/plain": [
              "{'apple': 300, 'peach': 400, 'pear': 250}"
            ]
          },
          "metadata": {
            "tags": []
          },
          "execution_count": 278
        }
      ]
    },
    {
      "cell_type": "code",
      "metadata": {
        "colab": {
          "base_uri": "https://localhost:8080/"
        },
        "id": "U4HDrXKHZm53",
        "outputId": "920a773d-3aba-45b0-8bf3-8cf27e86fe0a"
      },
      "source": [
        "# 100.zip과 dict\r\n",
        "# date와 close_price 두 개의 리스트를 close_table 이름의 딕셔너리로 생성.\r\n",
        "date = ['09/05', '09/06', '09/07', '09/08', '09/09']\r\n",
        "close_price = [10500, 10300, 10100, 10800, 11000]\r\n",
        "\r\n",
        "close_table = dict(zip(date, close_price))\r\n",
        "print(close_table)"
      ],
      "execution_count": null,
      "outputs": [
        {
          "output_type": "stream",
          "text": [
            "{'09/05': 10500, '09/06': 10300, '09/07': 10100, '09/08': 10800, '09/09': 11000}\n"
          ],
          "name": "stdout"
        }
      ]
    },
    {
      "cell_type": "markdown",
      "metadata": {
        "id": "MmumegYLUkbT"
      },
      "source": [
        "### 알게된 점 \r\n",
        " * 별 표현식\r\n",
        "  \r\n",
        "   ```\r\n",
        "   start expression 사용시 변수의 갯수가 달라도 언패킹 할 수 있다.\r\n",
        "\r\n",
        "   예시) \r\n",
        "   scores = [8.8, 8.9, 8.7, 9.2, 9.3, 9.7, 9.9, 9.5, 7.8, 9.4]\r\n",
        "    *valid_score,a,b=scores\r\n",
        "    print(valid_score, a,b)\r\n",
        "\r\n",
        "    >> [8.8, 8.9, 8.7, 9.2, 9.3, 9.7, 9.9, 9.5] 7.8 9.4\r\n",
        "\r\n",
        " * 딕셔너리 자료 추가\r\n",
        "  ```\r\n",
        "  딕셔너리명['새로운 key값'] = value값\r\n",
        "  예시)\r\n",
        "  ice['죠스바'] = 1200\r\n",
        "  ```\r\n",
        "\r\n",
        " * 딕셔너리 간 결합\r\n",
        " ```\r\n",
        " dict1 = {}; dict2={}\r\n",
        " dict1.update(dice2)\r\n",
        " ```\r\n"
      ]
    },
    {
      "cell_type": "markdown",
      "metadata": {
        "id": "S6rL07iLaCJV"
      },
      "source": [
        "## 7 분기문(101~130)\r\n",
        "---\r\n",
        "파이썬은 **if**라는 키워드를 통해 분기문 생성할 수 있다.\r\n"
      ]
    },
    {
      "cell_type": "code",
      "metadata": {
        "id": "G7bcgVehaREO"
      },
      "source": [
        "# 101. 파이선에서 True or False를 갖는 데이터 타입은 무엇인가?\r\n",
        "#-> BOOL"
      ],
      "execution_count": null,
      "outputs": []
    },
    {
      "cell_type": "code",
      "metadata": {
        "colab": {
          "base_uri": "https://localhost:8080/"
        },
        "id": "_42Dh-azaix3",
        "outputId": "93f29b10-bc91-4b3b-c631-1dd7e62e181c"
      },
      "source": [
        "# 102. 출력 결과 예상\r\n",
        "print(3==5) # False"
      ],
      "execution_count": null,
      "outputs": [
        {
          "output_type": "stream",
          "text": [
            "False\n"
          ],
          "name": "stdout"
        }
      ]
    },
    {
      "cell_type": "code",
      "metadata": {
        "colab": {
          "base_uri": "https://localhost:8080/"
        },
        "id": "MJigvApNapa_",
        "outputId": "b832d425-bed6-4979-eeb7-2afd62fd9fc6"
      },
      "source": [
        "# 103. 출력 결과 예상\r\n",
        "print(3<5), True"
      ],
      "execution_count": null,
      "outputs": [
        {
          "output_type": "stream",
          "text": [
            "True\n"
          ],
          "name": "stdout"
        }
      ]
    },
    {
      "cell_type": "code",
      "metadata": {
        "colab": {
          "base_uri": "https://localhost:8080/"
        },
        "id": "wr4QlvNdawI4",
        "outputId": "9950b6fe-38bf-452e-8335-8008e4cd5f9b"
      },
      "source": [
        "# 104. 출력 결과 예상\r\n",
        "x=4\r\n",
        "print(1<x<5) #True"
      ],
      "execution_count": null,
      "outputs": [
        {
          "output_type": "stream",
          "text": [
            "True\n"
          ],
          "name": "stdout"
        }
      ]
    },
    {
      "cell_type": "code",
      "metadata": {
        "colab": {
          "base_uri": "https://localhost:8080/"
        },
        "id": "71_VKhl3a40R",
        "outputId": "618398f8-064f-4e5e-bb1c-511fad8d26ff"
      },
      "source": [
        "# 105. 출력 결과 예상\r\n",
        "print((3==3) and (4!=3)) # True"
      ],
      "execution_count": null,
      "outputs": [
        {
          "output_type": "stream",
          "text": [
            "True\n"
          ],
          "name": "stdout"
        }
      ]
    },
    {
      "cell_type": "code",
      "metadata": {
        "colab": {
          "base_uri": "https://localhost:8080/",
          "height": 134
        },
        "id": "rJAHFbV9bEkh",
        "outputId": "4f0d83b4-71a4-467d-c26a-59478b496a2b"
      },
      "source": [
        "# 106. 에러 발생하는 원잉에 대해 설명\r\n",
        "print(3=>4) # 지원하지 않는 연산자."
      ],
      "execution_count": null,
      "outputs": [
        {
          "output_type": "error",
          "ename": "SyntaxError",
          "evalue": "ignored",
          "traceback": [
            "\u001b[0;36m  File \u001b[0;32m\"<ipython-input-287-599ccf2ca1dd>\"\u001b[0;36m, line \u001b[0;32m2\u001b[0m\n\u001b[0;31m    print(3=>4) # 논리적으로 맞지 않다\u001b[0m\n\u001b[0m            ^\u001b[0m\n\u001b[0;31mSyntaxError\u001b[0m\u001b[0;31m:\u001b[0m invalid syntax\n"
          ]
        }
      ]
    },
    {
      "cell_type": "code",
      "metadata": {
        "id": "wTX1G4pzbShz"
      },
      "source": [
        "# 107. 출력 결과 예상\r\n",
        "if 4<3:\r\n",
        "    print('Hello World')\r\n",
        "# -> 출력값 없음\r\n",
        "# => 조건을 만족하지 않기 때문에 아무 결과도 출력되지 않는다."
      ],
      "execution_count": null,
      "outputs": []
    },
    {
      "cell_type": "code",
      "metadata": {
        "colab": {
          "base_uri": "https://localhost:8080/"
        },
        "id": "HDkNG9qAbkK8",
        "outputId": "118592fd-a0f0-4bf9-fc80-a82d3e33e6e0"
      },
      "source": [
        "# 108. 출력 결과 예상\r\n",
        "if 4<3:\r\n",
        "    print('Hello World.')\r\n",
        "else:\r\n",
        "    print('Hi, there.')\r\n",
        "\r\n",
        "# => Hi, there."
      ],
      "execution_count": null,
      "outputs": [
        {
          "output_type": "stream",
          "text": [
            "Hi, there.\n"
          ],
          "name": "stdout"
        }
      ]
    },
    {
      "cell_type": "code",
      "metadata": {
        "colab": {
          "base_uri": "https://localhost:8080/"
        },
        "id": "49dB28NIbxal",
        "outputId": "01f4e6db-79bf-49be-9c5b-816049237c4b"
      },
      "source": [
        "# 109. 출력 결과 예상\r\n",
        "if True:\r\n",
        "    print('1')\r\n",
        "    print('2')\r\n",
        "else:\r\n",
        "    print('3')\r\n",
        "print('4')\r\n",
        "\r\n",
        "# => 1,2,4 // False 없으므로 3 생략"
      ],
      "execution_count": null,
      "outputs": [
        {
          "output_type": "stream",
          "text": [
            "1\n",
            "2\n",
            "4\n"
          ],
          "name": "stdout"
        }
      ]
    },
    {
      "cell_type": "code",
      "metadata": {
        "colab": {
          "base_uri": "https://localhost:8080/"
        },
        "id": "5PZSuhhpcGQ2",
        "outputId": "7e30b8ee-6e9f-4451-81e2-8d70d2704c3f"
      },
      "source": [
        "# 110. 출력 결과 예상\r\n",
        "if True:\r\n",
        "    if False:\r\n",
        "        print('1')\r\n",
        "        print('2')\r\n",
        "    else:\r\n",
        "        print('3')\r\n",
        "else:\r\n",
        "    print('4')\r\n",
        "\r\n",
        "print('5')\r\n",
        "\r\n",
        "# if True -> else 3\r\n",
        "# 참조건일 경우 실행(3), 조건문에 속해있지 않음(5)"
      ],
      "execution_count": null,
      "outputs": [
        {
          "output_type": "stream",
          "text": [
            "3\n",
            "5\n"
          ],
          "name": "stdout"
        }
      ]
    },
    {
      "cell_type": "code",
      "metadata": {
        "colab": {
          "base_uri": "https://localhost:8080/"
        },
        "id": "HntlsUAVcd6w",
        "outputId": "fe606a64-2b45-4c34-fd1d-4902ef966a80"
      },
      "source": [
        "# 111. 사용자로부터 입력받은 문자열을 두 번 출력하라. \r\n",
        "users = input('입력값')\r\n",
        "print(users*2)"
      ],
      "execution_count": null,
      "outputs": [
        {
          "output_type": "stream",
          "text": [
            "입력값test123\n",
            "test123test123\n"
          ],
          "name": "stdout"
        }
      ]
    },
    {
      "cell_type": "code",
      "metadata": {
        "colab": {
          "base_uri": "https://localhost:8080/"
        },
        "id": "osW-9UQggK1b",
        "outputId": "2b326f26-f4d2-415a-c01d-af79851a0137"
      },
      "source": [
        "# 112. 사용자로부터 하나의 숫자를 입력박도, 입력받은 숫자에 10을 더해 출력\r\n",
        "nums = int(input('숫자 입력'))\r\n",
        "print(nums+10)"
      ],
      "execution_count": null,
      "outputs": [
        {
          "output_type": "stream",
          "text": [
            "숫자 입력30\n",
            "40\n"
          ],
          "name": "stdout"
        }
      ]
    },
    {
      "cell_type": "code",
      "metadata": {
        "colab": {
          "base_uri": "https://localhost:8080/"
        },
        "id": "bgEd75WkgZeA",
        "outputId": "ede2f2c0-bc33-4060-b97f-b140c6337a95"
      },
      "source": [
        "# 113. 사용자로부터 하나의 숫자를 입력 받고 홀/짝수를 판별\r\n",
        "nums = int(input('숫자 입력'))\r\n",
        "\r\n",
        "if nums%2 == 0:\r\n",
        "    print('짝')\r\n",
        "else: \r\n",
        "    print('홀')"
      ],
      "execution_count": null,
      "outputs": [
        {
          "output_type": "stream",
          "text": [
            "숫자 입력3\n",
            "홀\n"
          ],
          "name": "stdout"
        }
      ]
    },
    {
      "cell_type": "code",
      "metadata": {
        "colab": {
          "base_uri": "https://localhost:8080/"
        },
        "id": "ylOB68F_hz0L",
        "outputId": "dd44646c-db14-46ee-bf42-829bc5f8ce8c"
      },
      "source": [
        "# 114. 사용자에게 받은 값에 20을 더한 값 출력 (단, 계산값이 255 초과할 경우 255 출력)\r\n",
        "nums = int(input('숫자입력')) + 20\r\n",
        "if nums > 255:\r\n",
        "    print(255)\r\n",
        "else:\r\n",
        "    print(nums)"
      ],
      "execution_count": null,
      "outputs": [
        {
          "output_type": "stream",
          "text": [
            "숫자입력230\n",
            "250\n"
          ],
          "name": "stdout"
        }
      ]
    },
    {
      "cell_type": "code",
      "metadata": {
        "colab": {
          "base_uri": "https://localhost:8080/"
        },
        "id": "DVOFjc67igrV",
        "outputId": "abebb918-18a3-4f53-bf6e-d16c74e215d5"
      },
      "source": [
        "# 115. 입력값에서 20 뺀 값을 출력.\r\n",
        "# 단, 출력 범위는 0~255이다.(0보다 작을 경우 0을, 255보다 클 경우 255 출력)\r\n",
        "\r\n",
        "nums = int(input('숫자값'))-20\r\n",
        "\r\n",
        "if nums < 0 :\r\n",
        "    print(0)\r\n",
        "elif nums > 255:\r\n",
        "    print(255)\r\n",
        "else:\r\n",
        "    print(nums)"
      ],
      "execution_count": null,
      "outputs": [
        {
          "output_type": "stream",
          "text": [
            "숫자값40\n",
            "20\n"
          ],
          "name": "stdout"
        }
      ]
    },
    {
      "cell_type": "code",
      "metadata": {
        "colab": {
          "base_uri": "https://localhost:8080/"
        },
        "id": "fs9tng3AjKXJ",
        "outputId": "12a963d0-7063-41cc-dcb0-8a5e0b179394"
      },
      "source": [
        "# 116. 입력받은 시간이 정각인지 판별.\r\n",
        "times = input('현재시간(24시 기준)')\r\n",
        "\r\n",
        "if times[-2:] == '00':\r\n",
        "    print('정각')\r\n",
        "else:\r\n",
        "    print('정각이 아님.')"
      ],
      "execution_count": null,
      "outputs": [
        {
          "output_type": "stream",
          "text": [
            "현재시간(24시 기준)1800\n",
            "정각\n"
          ],
          "name": "stdout"
        }
      ]
    },
    {
      "cell_type": "code",
      "metadata": {
        "colab": {
          "base_uri": "https://localhost:8080/"
        },
        "id": "lwRPF0Cvj0mc",
        "outputId": "1ebd97bf-6d4c-480d-b83a-84a6d1663d27"
      },
      "source": [
        "# 117. 입력받은 단어가 아래 fruit 리스트에 포함되었는지 출력\r\n",
        "fruits = ['사과','포도','홍시']\r\n",
        "fru = input()\r\n",
        "\r\n",
        "if fru in fruits:\r\n",
        "    print('포함')\r\n",
        "else:\r\n",
        "    print('미포함')"
      ],
      "execution_count": null,
      "outputs": [
        {
          "output_type": "stream",
          "text": [
            "사과\n",
            "포함\n"
          ],
          "name": "stdout"
        }
      ]
    },
    {
      "cell_type": "code",
      "metadata": {
        "colab": {
          "base_uri": "https://localhost:8080/"
        },
        "id": "Nk-yOYaUkY1P",
        "outputId": "c538688c-437b-4910-fff0-2b34f3cc6748"
      },
      "source": [
        "# 118. 투자 경고 종목 리스트가 있을 때 사용자로부터 종목명을 입력 받은 후 해당 종목이 투자 경고 종목이라면 '투자 경고 종목입니다'를 아니면 \"투자 경고 종목이 아닙니다.\"를 출력하는 프로그램을 작성하라.\r\n",
        "user = input()\r\n",
        "warm_list = [\"Microsoft\", \"Google\", \"Naver\", \"Kakao\", \"SAMSUNG\", \"LG\"]\r\n",
        "\r\n",
        "if user in warm_list:\r\n",
        "    print('투자 경고 종목')\r\n",
        "else:\r\n",
        "    print('미경고')\r\n"
      ],
      "execution_count": null,
      "outputs": [
        {
          "output_type": "stream",
          "text": [
            "Microsoft\n",
            "투자 경고 종목\n"
          ],
          "name": "stdout"
        }
      ]
    },
    {
      "cell_type": "code",
      "metadata": {
        "colab": {
          "base_uri": "https://localhost:8080/"
        },
        "id": "i02MQtTTlBYB",
        "outputId": "b521f827-c313-4a23-fd69-1483617bf2aa"
      },
      "source": [
        "# 119. 아래와 같이 fruit 딕셔너리가 정의되어 있다. 사용자가 입력한 값이 딕셔너리 키 (key) 값에 포함되었다면 \"정답입니다\"를 아닐 경우 \"오답입니다\" 출력하라.\r\n",
        "fruit = {\"봄\" : \"딸기\", \"여름\" : \"토마토\", \"가을\" : \"사과\"}\r\n",
        "\r\n",
        "users=input()\r\n",
        "if users in fruit.keys():\r\n",
        "    print('정답')\r\n",
        "else:\r\n",
        "    print('오답')"
      ],
      "execution_count": null,
      "outputs": [
        {
          "output_type": "stream",
          "text": [
            "봄\n",
            "정답\n"
          ],
          "name": "stdout"
        }
      ]
    },
    {
      "cell_type": "code",
      "metadata": {
        "colab": {
          "base_uri": "https://localhost:8080/"
        },
        "id": "dPvvbd9Pl7Je",
        "outputId": "1cba142e-322c-4dc8-8f96-b7025653d6cb"
      },
      "source": [
        "# 120. 아래와 같이 fruit 딕셔너리가 정의되어 있다. 사용자가 입력한 값이 딕셔너리 값 (value)에 포함되었다면 \"정답입니다\"를 아닐 경우 \"오답입니다\" 출력하라.\r\n",
        "fruit = {\"봄\" : \"딸기\", \"여름\" : \"토마토\", \"가을\" : \"사과\"}\r\n",
        "\r\n",
        "users = input()\r\n",
        "if users in fruit.values():\r\n",
        "    print('정답')\r\n",
        "else:\r\n",
        "    print('오답')"
      ],
      "execution_count": null,
      "outputs": [
        {
          "output_type": "stream",
          "text": [
            "딸기\n",
            "정답\n"
          ],
          "name": "stdout"
        }
      ]
    },
    {
      "cell_type": "code",
      "metadata": {
        "colab": {
          "base_uri": "https://localhost:8080/"
        },
        "id": "acjzXS1bmRuv",
        "outputId": "81cea326-ec68-4601-8a7b-2797be1aeaf5"
      },
      "source": [
        "# 121. 사용자로부터 문자 한 개를 입력 받고, 소문자일 경우 대문자로, 아닐경우 소문자로 변환\r\n",
        "user = input('입력')\r\n",
        "\r\n",
        "if user.islower():\r\n",
        "    print(user.upper())\r\n",
        "else:\r\n",
        "    print(user.lower())"
      ],
      "execution_count": null,
      "outputs": [
        {
          "output_type": "stream",
          "text": [
            "입력ccc\n",
            "CCC\n"
          ],
          "name": "stdout"
        }
      ]
    },
    {
      "cell_type": "code",
      "metadata": {
        "colab": {
          "base_uri": "https://localhost:8080/"
        },
        "id": "5LmjrmRenwqv",
        "outputId": "cd287f10-017e-490d-fcc6-a165ed3ef78a"
      },
      "source": [
        "# 122. 점수 구간에 해당하는 학점이 아래와 같이 정의되어 있다. 사용자로부터 score를 입력받아 학점을 출력하라.\r\n",
        "score = int(input())\r\n",
        "if 81 <= score  :\r\n",
        "    print('A')\r\n",
        "elif 61 <= score <= 80:\r\n",
        "    print('B')\r\n",
        "elif 41 <= score <= 60:\r\n",
        "    print('C')\r\n",
        "elif 21 <= score <= 40:\r\n",
        "    print('D')\r\n",
        "else :\r\n",
        "    print('E')\r\n"
      ],
      "execution_count": null,
      "outputs": [
        {
          "output_type": "stream",
          "text": [
            "1\n",
            "E\n"
          ],
          "name": "stdout"
        }
      ]
    },
    {
      "cell_type": "code",
      "metadata": {
        "colab": {
          "base_uri": "https://localhost:8080/"
        },
        "id": "1WXP1B8_paDf",
        "outputId": "6ae49365-9e31-46f5-dd69-c5c92bf98809"
      },
      "source": [
        "# 123. 사용자로부터 달러, 엔, 유로, 또는 위안 금액을 입력받은 후 이를 원으로 변환하는 프로그램을 작성하라. \r\n",
        "# 각 통화별 환율은 다음과 같다. 사용자는 100 달러, 1000 엔, 13 유로, 100 위안과 같이 금액과 통화명 사이에 공백을 넣어 입력한다고 가정한다.\r\n",
        "\r\n",
        "환율 = {'달러':1167,'엔':1.096,'유로':1268,'위안':171}\r\n",
        "\r\n",
        "# user = input()\r\n",
        "# num,currency = user.split()\r\n",
        "# print(float(num)*환율[currency],'원')\r\n",
        "\r\n",
        "user = input()\r\n",
        "num,cur = user.split()\r\n",
        "print(float(num)*환율[cur],'원')"
      ],
      "execution_count": null,
      "outputs": [
        {
          "output_type": "stream",
          "text": [
            "1400 유로\n",
            "1775200.0 원\n"
          ],
          "name": "stdout"
        }
      ]
    },
    {
      "cell_type": "code",
      "metadata": {
        "colab": {
          "base_uri": "https://localhost:8080/",
          "height": 87
        },
        "id": "cyVWI4rwq_3X",
        "outputId": "5821dc11-6849-4c88-83ff-580d81a0575d"
      },
      "source": [
        "# 124. 세 개의 입력값을 받은 후 가장 큰 숫자 출력\r\n",
        "user1=int(input('값 입력'))\r\n",
        "user2=int(input('값 입력'))\r\n",
        "user3=int(input('값 입력'))\r\n",
        "\r\n",
        "a=[user1,user2,user3]\r\n",
        "max(a)"
      ],
      "execution_count": null,
      "outputs": [
        {
          "output_type": "stream",
          "text": [
            "값 입력100\n",
            "값 입력300\n",
            "값 입력200\n"
          ],
          "name": "stdout"
        },
        {
          "output_type": "execute_result",
          "data": {
            "application/vnd.google.colaboratory.intrinsic+json": {
              "type": "string"
            },
            "text/plain": [
              "'300'"
            ]
          },
          "metadata": {
            "tags": []
          },
          "execution_count": 401
        }
      ]
    },
    {
      "cell_type": "code",
      "metadata": {
        "colab": {
          "base_uri": "https://localhost:8080/"
        },
        "id": "jzVGcvzOsIS9",
        "outputId": "70587934-8fa6-4495-d023-8e6cb22c78e6"
      },
      "source": [
        "# 125. 사용자로부터 휴대전화 번호를 입력받고, 통신사 출력하는 프로그램 작성.\r\n",
        "telecom = {'SKT': '011','KT': '016','LGU': '019','알수없음': '010'}\r\n",
        "telecom={v:k for k,v in telecom.items()}\r\n",
        "\r\n",
        "user = input()\r\n",
        "user2 = str(user.split('-')[0])\r\n",
        "if user2 in telecom.keys():\r\n",
        "    print(telecom[user2])\r\n",
        "\r\n",
        "# >>> 답안 코드 <<<\r\n",
        "# number = input(\"휴대전화 번호 입력: \")\r\n",
        "# num = number.split(\"-\")[0]\r\n",
        "# if num == \"011\":\r\n",
        "#     com = \"SKT\"\r\n",
        "# elif num == \"016\":\r\n",
        "#     com = \"KT\"\r\n",
        "# elif num == \"019\":\r\n",
        "#     com = \"LGU\"\r\n",
        "# else:\r\n",
        "#     com = \"알수없음\"\r\n",
        "# print(f\"당신은 {com} 사용자입니다.\")"
      ],
      "execution_count": null,
      "outputs": [
        {
          "output_type": "stream",
          "text": [
            "011-2477-7894\n",
            "SKT\n"
          ],
          "name": "stdout"
        }
      ]
    },
    {
      "cell_type": "code",
      "metadata": {
        "colab": {
          "base_uri": "https://localhost:8080/"
        },
        "id": "E0sq-JExt8Po",
        "outputId": "18ae66d4-a27b-4a37-863a-3334d22aabf2"
      },
      "source": [
        "# 126. 사용자로부터 5자리 우편번호 입력받고 구를 판별(앞 3자리는 구)\r\n",
        "addres = input()\r\n",
        "\r\n",
        "if addres in ['010','011','012']:\r\n",
        "    print('강북구')\r\n",
        "elif addres in ['013', '014', '015']:\r\n",
        "    print('도봉구')\r\n",
        "else:\r\n",
        "    print('노원구')"
      ],
      "execution_count": null,
      "outputs": [
        {
          "output_type": "stream",
          "text": [
            "01332\n",
            "노원구\n"
          ],
          "name": "stdout"
        }
      ]
    },
    {
      "cell_type": "code",
      "metadata": {
        "colab": {
          "base_uri": "https://localhost:8080/"
        },
        "id": "sKx_rVgDyYPP",
        "outputId": "5d00668d-0033-459d-8ad7-16d1c389848d"
      },
      "source": [
        "# 127. 사용자로부터 13자리의 주민등록번호를 입력 받은 후 성별 (남자, 여자)를 출력하는 프로그램을 작성하라. (1,3:남자 / 2,4:여자)\r\n",
        "jumin = input()\r\n",
        "gender = str(jumin.split('-')[1][0])\r\n",
        "\r\n",
        "if gender.endswith(('1','3')):\r\n",
        "    print('남자')\r\n",
        "else:\r\n",
        "    print('여자')\r\n",
        "\r\n",
        "# >>> 답안코드 <<<\r\n",
        "주민번호 = input()\r\n",
        "주민번호 = 주민번호.split('-')\r\n",
        "if 주민번호[0] == '1' or 주민번호[0]=='3':\r\n",
        "    print('남자')\r\n",
        "else:\r\n",
        "    print('여자')\r\n"
      ],
      "execution_count": null,
      "outputs": [
        {
          "output_type": "stream",
          "text": [
            "1231510-1216810\n",
            "남자\n"
          ],
          "name": "stdout"
        }
      ]
    },
    {
      "cell_type": "code",
      "metadata": {
        "colab": {
          "base_uri": "https://localhost:8080/"
        },
        "id": "s7JLmP0cz7Yb",
        "outputId": "7e1804b9-c7a1-46b9-ffbb-59df99b4c95f"
      },
      "source": [
        "# 128. 주민등록번호 받은 후 출생지가 서울인지 아닌지 판단하는 코드 작성.(주민번호 뒤 7자리중 2,3자리는 지역코드 의미)\r\n",
        "# 00~08 : 서울, 09~12:부산..\r\n",
        "jumin = input()\r\n",
        "jumin_back = jumin.split('-')[1]\r\n",
        "if 0<=int(jumin_back[1:3]) <= 8:\r\n",
        "    print('서울')\r\n",
        "else:\r\n",
        "    print('서울 아님')"
      ],
      "execution_count": null,
      "outputs": [
        {
          "output_type": "stream",
          "text": [
            "123124-108131584\n",
            "서울\n"
          ],
          "name": "stdout"
        }
      ]
    },
    {
      "cell_type": "code",
      "metadata": {
        "colab": {
          "base_uri": "https://localhost:8080/"
        },
        "id": "3i7YwVNr1DWY",
        "outputId": "5c6b76a9-e1cf-4435-d4a4-484911f98eab"
      },
      "source": [
        "# 129. 주민번호 유효성 검사\r\n",
        "'''\r\n",
        " 주민등록번호는 13자리로 구성되는데 마지막 자리수는 주민등록번호의 유효성을 체크하는데 사용된다.\r\n",
        "먼저 앞에서부터 12자리의 숫자에 2, 3, 4, 5, 6, 7, 8, 9, 2, 3, 4, 5를 차례로 곱한 뒤 그 값을 전부 더한다.\r\n",
        "연산 결과 값을 11로 나누면 나머지가 나오는데 11에서 나머지를 뺀 값이 주민등록번호의 마지막 번호가 된다.\r\n",
        "'''\r\n",
        "\r\n",
        "num = input()\r\n",
        "calc1 = int(num[0]) * 2 + int(num[1]) * 3 + int(num[2]) * 4 + int(num[3]) * 5 + int(num[4]) * 6 + \\\r\n",
        "        int(num[5]) * 7 + int(num[7]) * 8 + int(num[8]) * 9 + int(num[9]) * 2 + int(num[10])* 3 + \\\r\n",
        "        int(num[11])* 4 + int(num[12]) * 5\r\n",
        "\r\n",
        "calc2 = 11 - (calc1 % 11)\r\n",
        "calc3 = str(calc2)\r\n",
        "\r\n",
        "if num[-1] == calc3[-1]:\r\n",
        "    print('유효한 주민번호')\r\n",
        "else:\r\n",
        "    print('유효하지 않은 주민번호')"
      ],
      "execution_count": null,
      "outputs": [
        {
          "output_type": "stream",
          "text": [
            "874680-1039486\n",
            "유효하지 않은 주민번호\n"
          ],
          "name": "stdout"
        }
      ]
    },
    {
      "cell_type": "code",
      "metadata": {
        "colab": {
          "base_uri": "https://localhost:8080/"
        },
        "id": "PfkUXVtD2UZ1",
        "outputId": "6cc10ed4-0a5d-449e-d0a7-e94d9fbd374c"
      },
      "source": [
        "# 130. 비트코인 가격 정보를 딕셔너리로 가져오는 코드이다.\r\n",
        "import requests\r\n",
        "btc = requests.get(\"https://api.bithumb.com/public/ticker/\").json()['data']\r\n",
        "\r\n",
        "# btc 딕셔너리 안에는 시가, 종가, 최고가, 최저가 등이 저장되어 있다. 최고가와 최저가의 차이를 변동폭으로 정의할 때 (시가 + 변동폭)이 최고가 보다 높을 경우 \"상승장\", 그렇지 않은 경우 \"하락장\" 문자열을 출력하라.\r\n",
        "변동폭 = float(btc['max_price']) - float(btc['min_price'])\r\n",
        "시가 = float(btc['opening_price'])\r\n",
        "최고가 = float(btc['max_price'])\r\n",
        "\r\n",
        "if (시가+변동폭) > 최고가:\r\n",
        "    print('상승장',시가+변동폭,최고가)\r\n",
        "else:\r\n",
        "    print('하락장')"
      ],
      "execution_count": null,
      "outputs": [
        {
          "output_type": "stream",
          "text": [
            "상승장 1492000.0\n"
          ],
          "name": "stdout"
        }
      ]
    },
    {
      "cell_type": "markdown",
      "metadata": {
        "id": "hAdz67W23RPH"
      },
      "source": [
        "## 8 반복문(131~200)\r\n",
        "---\r\n",
        "횟수가 정해져 있거나 상대적으로 횟수가 적은 경우에 대한 반복에 주로 사용된다.</br>\r\n",
        "while문은 횟수가 상대적으로 크거나 무한 루프 형태의 반복문에 사용된다."
      ]
    },
    {
      "cell_type": "code",
      "metadata": {
        "colab": {
          "base_uri": "https://localhost:8080/"
        },
        "id": "vJd3qeUU3lFz",
        "outputId": "55ef361b-8abd-4498-f0e7-db8aeb6b3e89"
      },
      "source": [
        "# 131~140. for문의 실행결과 예측\r\n",
        "fruit = ['apple','orage','watermelon']\r\n",
        "for f in fruit:\r\n",
        "    print(f)"
      ],
      "execution_count": null,
      "outputs": [
        {
          "output_type": "stream",
          "text": [
            "apple\n",
            "orage\n",
            "watermelon\n"
          ],
          "name": "stdout"
        }
      ]
    },
    {
      "cell_type": "code",
      "metadata": {
        "colab": {
          "base_uri": "https://localhost:8080/"
        },
        "id": "YFH2NJzR-UjU",
        "outputId": "a63fdffb-d4f6-4f55-dee0-0f49066068ee"
      },
      "source": [
        "# 132. for문 실행결과\r\n",
        "과일 = [\"사과\", \"귤\", \"수박\"]\r\n",
        "for 변수 in 과일:\r\n",
        "  print(\"#####\") # 변수 할당 안되었기 때문에 변수만큼의 횟수만 반복한다."
      ],
      "execution_count": null,
      "outputs": [
        {
          "output_type": "stream",
          "text": [
            "#####\n",
            "#####\n",
            "#####\n"
          ],
          "name": "stdout"
        }
      ]
    },
    {
      "cell_type": "code",
      "metadata": {
        "colab": {
          "base_uri": "https://localhost:8080/"
        },
        "id": "MOlnC-VV-dy1",
        "outputId": "8bc4b984-7ddb-4525-deb1-52b4f598748e"
      },
      "source": [
        "# 133. for문을 풀어 동일한 코드 작성\r\n",
        "for var in ['A','B','C']:\r\n",
        "    print(var)\r\n",
        "\r\n",
        "var = 'A'\r\n",
        "print(var)\r\n",
        "var = 'B'\r\n",
        "print(var)\r\n",
        "var = 'C'\r\n",
        "print(var)"
      ],
      "execution_count": null,
      "outputs": [
        {
          "output_type": "stream",
          "text": [
            "A\n",
            "B\n",
            "C\n",
            "A\n",
            "B\n",
            "C\n"
          ],
          "name": "stdout"
        }
      ]
    },
    {
      "cell_type": "code",
      "metadata": {
        "colab": {
          "base_uri": "https://localhost:8080/"
        },
        "id": "J7y8S50j-0vm",
        "outputId": "076c9c00-9294-4f2e-d5e2-34746f66916d"
      },
      "source": [
        "# 134. for문을 풀어 동일한 코드 작성\r\n",
        "for var in ['A','B','C']:\r\n",
        "    print('output :',var)\r\n",
        "\r\n",
        "var='A'\r\n",
        "print('output :',var)"
      ],
      "execution_count": null,
      "outputs": [
        {
          "output_type": "stream",
          "text": [
            "output : A\n",
            "output : B\n",
            "output : C\n",
            "output : A\n"
          ],
          "name": "stdout"
        }
      ]
    },
    {
      "cell_type": "code",
      "metadata": {
        "colab": {
          "base_uri": "https://localhost:8080/"
        },
        "id": "B5Mhfhi7_M8R",
        "outputId": "8f301326-73ba-4d66-fff8-49e52012df2e"
      },
      "source": [
        "# 135. for문을 풀어 동일한 코드 작성\r\n",
        "for var in ['A','B','C']:\r\n",
        "    b= var.lower()\r\n",
        "    print('transform:',b)\r\n",
        "\r\n",
        "var = 'a'\r\n",
        "print('transfomr:',var)\r\n",
        "var = 'B'\r\n",
        "print('transform:',var.lower())"
      ],
      "execution_count": null,
      "outputs": [
        {
          "output_type": "stream",
          "text": [
            "transform: a\n",
            "transform: b\n",
            "transform: c\n",
            "transfomr: a\n",
            "transform: b\n"
          ],
          "name": "stdout"
        }
      ]
    },
    {
      "cell_type": "code",
      "metadata": {
        "colab": {
          "base_uri": "https://localhost:8080/"
        },
        "id": "ctAPZX4c_r4w",
        "outputId": "c24ce6b9-46df-4c44-aec8-bace6bb01c1e"
      },
      "source": [
        "# 136. 다음 코드를  for문으로 작성\r\n",
        "변수 = 10\r\n",
        "print(변수)\r\n",
        "변수 = 20\r\n",
        "print(변수)\r\n",
        "변수 = 30\r\n",
        "print(변수)\r\n",
        "\r\n",
        "for i in range(10,40,10):\r\n",
        "    print(i)\r\n",
        "\r\n",
        "for i in [10,20,30]:\r\n",
        "    print(i)"
      ],
      "execution_count": null,
      "outputs": [
        {
          "output_type": "stream",
          "text": [
            "10\n",
            "20\n",
            "30\n",
            "10\n",
            "20\n",
            "30\n",
            "10\n",
            "20\n",
            "30\n"
          ],
          "name": "stdout"
        }
      ]
    },
    {
      "cell_type": "code",
      "metadata": {
        "colab": {
          "base_uri": "https://localhost:8080/"
        },
        "id": "pt8QmYRh_53M",
        "outputId": "6a9895b9-2736-433a-a35c-882bc1a52397"
      },
      "source": [
        "# 137 다음 코드른 for문으로 작성\r\n",
        "print(10)\r\n",
        "print(20)\r\n",
        "print(30)\r\n",
        "\r\n",
        "for i in [10,20,30]:\r\n",
        "    print(i)"
      ],
      "execution_count": null,
      "outputs": [
        {
          "output_type": "stream",
          "text": [
            "10\n",
            "20\n",
            "30\n",
            "10\n",
            "20\n",
            "30\n"
          ],
          "name": "stdout"
        }
      ]
    },
    {
      "cell_type": "code",
      "metadata": {
        "colab": {
          "base_uri": "https://localhost:8080/"
        },
        "id": "kYO63xVrAHtd",
        "outputId": "e403d0eb-a36b-4fc9-d832-35d835d9ae2c"
      },
      "source": [
        "# 138.다음 코드를 for문으로 작성\r\n",
        "print(10)\r\n",
        "print(\"-------\")\r\n",
        "print(20)\r\n",
        "print(\"-------\")\r\n",
        "print(30)\r\n",
        "print(\"-------\")\r\n",
        "\r\n",
        "for i in range(10,40,10):\r\n",
        "    print(i)\r\n",
        "    print(\"-------\")"
      ],
      "execution_count": null,
      "outputs": [
        {
          "output_type": "stream",
          "text": [
            "10\n",
            "-------\n",
            "20\n",
            "-------\n",
            "30\n",
            "-------\n",
            "10\n",
            "-------\n",
            "20\n",
            "-------\n",
            "30\n",
            "-------\n"
          ],
          "name": "stdout"
        }
      ]
    },
    {
      "cell_type": "code",
      "metadata": {
        "colab": {
          "base_uri": "https://localhost:8080/"
        },
        "id": "5nHxyYcWASzu",
        "outputId": "e3df9c6d-c83b-43b6-bc6b-3dba65185eea"
      },
      "source": [
        "# 139. 다음 코드를 for문으로 작성\r\n",
        "print('++++')\r\n",
        "print(10)\r\n",
        "print(20)\r\n",
        "print(30)\r\n",
        "\r\n",
        "print('++++')\r\n",
        "for i in range(10,40,10):\r\n",
        "    print(i)"
      ],
      "execution_count": null,
      "outputs": [
        {
          "output_type": "stream",
          "text": [
            "++++\n",
            "10\n",
            "20\n",
            "30\n",
            "++++\n",
            "10\n",
            "20\n",
            "30\n"
          ],
          "name": "stdout"
        }
      ]
    },
    {
      "cell_type": "code",
      "metadata": {
        "colab": {
          "base_uri": "https://localhost:8080/"
        },
        "id": "k-cCNk_sAgm-",
        "outputId": "b9321155-f604-4868-8d1e-8f120d70412c"
      },
      "source": [
        "# 140. 다음 코드를 for문으로 작성\r\n",
        "print(\"-------\")\r\n",
        "print(\"-------\")\r\n",
        "print(\"-------\")\r\n",
        "print(\"-------\")\r\n",
        "\r\n",
        "for i in range(0,4):\r\n",
        "    print('-------')"
      ],
      "execution_count": null,
      "outputs": [
        {
          "output_type": "stream",
          "text": [
            "-------\n",
            "-------\n",
            "-------\n",
            "-------\n",
            "-------\n",
            "-------\n",
            "-------\n",
            "-------\n"
          ],
          "name": "stdout"
        }
      ]
    },
    {
      "cell_type": "code",
      "metadata": {
        "colab": {
          "base_uri": "https://localhost:8080/"
        },
        "id": "I3LbI81X30Al",
        "outputId": "d722b1e1-5752-4e41-8883-63960e75919f"
      },
      "source": [
        "# 141. 부가세가 포함된 가격을 for문을 활용해 출력.(부가세는 10원으로 가정)\r\n",
        "li1 = [100,200,300]\r\n",
        "for i in li1:\r\n",
        "    print(i+10)"
      ],
      "execution_count": null,
      "outputs": [
        {
          "output_type": "stream",
          "text": [
            "110\n",
            "210\n",
            "310\n"
          ],
          "name": "stdout"
        }
      ]
    },
    {
      "cell_type": "code",
      "metadata": {
        "colab": {
          "base_uri": "https://localhost:8080/"
        },
        "id": "HSERHckz4buo",
        "outputId": "cbdafcf5-2034-4cf2-ffcd-af6075c362bc"
      },
      "source": [
        "# 142. 저장된 값 출력\r\n",
        "menu = ['김','김밥','밥']\r\n",
        "for i in menu:\r\n",
        "    print('오늘 메뉴:',i)"
      ],
      "execution_count": null,
      "outputs": [
        {
          "output_type": "stream",
          "text": [
            "오늘 메뉴: 김\n",
            "오늘 메뉴: 김밥\n",
            "오늘 메뉴: 밥\n"
          ],
          "name": "stdout"
        }
      ]
    },
    {
      "cell_type": "code",
      "metadata": {
        "colab": {
          "base_uri": "https://localhost:8080/"
        },
        "id": "nWPaPxnH4rz5",
        "outputId": "cadeb7f0-9adb-4ab3-ccba-5d6a0a68d78e"
      },
      "source": [
        "# 143. 문자열 길이 추출\r\n",
        "li2 = ['samsung','LG','apple']\r\n",
        "for i in li2:\r\n",
        "    print(len(i))"
      ],
      "execution_count": null,
      "outputs": [
        {
          "output_type": "stream",
          "text": [
            "7\n",
            "2\n",
            "5\n"
          ],
          "name": "stdout"
        }
      ]
    },
    {
      "cell_type": "code",
      "metadata": {
        "colab": {
          "base_uri": "https://localhost:8080/"
        },
        "id": "Vt0UqjiB49S6",
        "outputId": "e6782fc0-3c4e-4c62-f991-268c7cf16245"
      },
      "source": [
        "# 144. 문자열과 문자 길이 같이 추출\r\n",
        "li2 = ['samsung','LG','apple']\r\n",
        "for i in li2:\r\n",
        "    print(i,len(i))"
      ],
      "execution_count": null,
      "outputs": [
        {
          "output_type": "stream",
          "text": [
            "samsung 7\n",
            "LG 2\n",
            "apple 5\n"
          ],
          "name": "stdout"
        }
      ]
    },
    {
      "cell_type": "code",
      "metadata": {
        "colab": {
          "base_uri": "https://localhost:8080/"
        },
        "id": "b5sEFpmE5KYr",
        "outputId": "af7adf54-4c2f-46bf-d166-18cd4628ff15"
      },
      "source": [
        "# 145. 문자의 첫 글자만 추출\r\n",
        "li2 = ['samsung','LG','apple']\r\n",
        "for i in li2:\r\n",
        "    print(i[0])"
      ],
      "execution_count": null,
      "outputs": [
        {
          "output_type": "stream",
          "text": [
            "s\n",
            "L\n",
            "a\n"
          ],
          "name": "stdout"
        }
      ]
    },
    {
      "cell_type": "code",
      "metadata": {
        "colab": {
          "base_uri": "https://localhost:8080/"
        },
        "id": "zN7a_j_55T8k",
        "outputId": "fd4dc390-30f9-4fb5-fb90-7cfeb5bed0b1"
      },
      "source": [
        "# 146 리스트 안의 숫자를 곱셈 형식으로 표현\r\n",
        "li3 = [1,2,3]\r\n",
        "for i in li3:\r\n",
        "    print('3 *',i)"
      ],
      "execution_count": null,
      "outputs": [
        {
          "output_type": "stream",
          "text": [
            "3 * 1\n",
            "3 * 2\n",
            "3 * 3\n"
          ],
          "name": "stdout"
        }
      ]
    },
    {
      "cell_type": "code",
      "metadata": {
        "colab": {
          "base_uri": "https://localhost:8080/"
        },
        "id": "PEiF1QRv534X",
        "outputId": "58925b02-a472-4453-e609-513b27b5daff"
      },
      "source": [
        "# 147 리스트 안의 숫자를 곱셈 값 출력\r\n",
        "li3 = [1,2,3]\r\n",
        "for i in li3:\r\n",
        "    print(f'3 * {i} = {3*i}')"
      ],
      "execution_count": null,
      "outputs": [
        {
          "output_type": "stream",
          "text": [
            "3 * 1 = 3\n",
            "3 * 2 = 6\n",
            "3 * 3 = 9\n"
          ],
          "name": "stdout"
        }
      ]
    },
    {
      "cell_type": "code",
      "metadata": {
        "colab": {
          "base_uri": "https://localhost:8080/"
        },
        "id": "QYjclC9k6NoY",
        "outputId": "26c01cea-2f3c-4d24-ddd5-359b66aad9eb"
      },
      "source": [
        "# 148\r\n",
        "li4 = ['a','b','c','d']\r\n",
        "for i in li4[1:]:\r\n",
        "    print(i)"
      ],
      "execution_count": null,
      "outputs": [
        {
          "output_type": "stream",
          "text": [
            "b\n",
            "c\n",
            "d\n"
          ],
          "name": "stdout"
        }
      ]
    },
    {
      "cell_type": "code",
      "metadata": {
        "colab": {
          "base_uri": "https://localhost:8080/"
        },
        "id": "IG6a1Tkm6Z6Z",
        "outputId": "ebf2aa3e-3abe-4113-9261-ef32e09b0a7d"
      },
      "source": [
        "# 149\r\n",
        "li4 = ['a','b','c','d']\r\n",
        "for i in li4[::2]:\r\n",
        "    print(i)"
      ],
      "execution_count": null,
      "outputs": [
        {
          "output_type": "stream",
          "text": [
            "a\n",
            "c\n"
          ],
          "name": "stdout"
        }
      ]
    },
    {
      "cell_type": "code",
      "metadata": {
        "colab": {
          "base_uri": "https://localhost:8080/"
        },
        "id": "rlx1k3df6k0X",
        "outputId": "a57058df-580a-439d-a2f9-ee9ae9df1aa2"
      },
      "source": [
        "# 150.\r\n",
        "li4 = ['a','b','c','d']\r\n",
        "for i in li4[::-1]:\r\n",
        "    print(i)"
      ],
      "execution_count": null,
      "outputs": [
        {
          "output_type": "stream",
          "text": [
            "d\n",
            "c\n",
            "b\n",
            "a\n"
          ],
          "name": "stdout"
        }
      ]
    },
    {
      "cell_type": "code",
      "metadata": {
        "colab": {
          "base_uri": "https://localhost:8080/"
        },
        "id": "2hIBlX0O6q6r",
        "outputId": "0e6e601b-9da5-4e4a-b8b6-e4b44cd4459b"
      },
      "source": [
        "# 151 음수 출력\r\n",
        "li = [3, -20, -3, 44]\r\n",
        "for i in li:\r\n",
        "    if i < 0 :\r\n",
        "        print(i)"
      ],
      "execution_count": null,
      "outputs": [
        {
          "output_type": "stream",
          "text": [
            "-20\n",
            "-3\n"
          ],
          "name": "stdout"
        }
      ]
    },
    {
      "cell_type": "code",
      "metadata": {
        "colab": {
          "base_uri": "https://localhost:8080/"
        },
        "id": "vFWrh7OL64Pb",
        "outputId": "82170035-10ff-4f67-e0cb-485c3fd13009"
      },
      "source": [
        "# 152. 3 배수만 출력\r\n",
        "li = [3,100,23,44]\r\n",
        "for i in li:\r\n",
        "    if i%3 == 0:\r\n",
        "        print(i)"
      ],
      "execution_count": null,
      "outputs": [
        {
          "output_type": "stream",
          "text": [
            "3\n"
          ],
          "name": "stdout"
        }
      ]
    },
    {
      "cell_type": "code",
      "metadata": {
        "colab": {
          "base_uri": "https://localhost:8080/"
        },
        "id": "iRQEkkVt7GOc",
        "outputId": "ee7a775b-9978-4cd1-fc07-348ce03631b1"
      },
      "source": [
        "# 153. 20보다 작은 3의 배수 출력\r\n",
        "li = [3,21,12,14,30,18]\r\n",
        "for i in li:\r\n",
        "    if (i < 20) and (i%3==0):\r\n",
        "        print(i)"
      ],
      "execution_count": null,
      "outputs": [
        {
          "output_type": "stream",
          "text": [
            "3\n",
            "12\n",
            "18\n"
          ],
          "name": "stdout"
        }
      ]
    },
    {
      "cell_type": "code",
      "metadata": {
        "colab": {
          "base_uri": "https://localhost:8080/"
        },
        "id": "MDvPtKoh7mD_",
        "outputId": "8226ecd6-dff2-47c3-cea3-95aa6918f4ac"
      },
      "source": [
        "# 154. 세 글자 이상의 문자 출력\r\n",
        "li = [\"I\", \"study\", \"python\", \"language\", \"!\"]\r\n",
        "\r\n",
        "for i in li:\r\n",
        "    if len(i) > 3:\r\n",
        "        print(i)"
      ],
      "execution_count": null,
      "outputs": [
        {
          "output_type": "stream",
          "text": [
            "study\n",
            "python\n",
            "language\n"
          ],
          "name": "stdout"
        }
      ]
    },
    {
      "cell_type": "code",
      "metadata": {
        "colab": {
          "base_uri": "https://localhost:8080/"
        },
        "id": "mn2ROuhv7z0v",
        "outputId": "8e02b324-b4dd-4b81-f284-440dada213be"
      },
      "source": [
        "# 155. 대문자만 화면에 출력\r\n",
        "li = ['A','b','C','d']\r\n",
        "\r\n",
        "for i in li:\r\n",
        "    if i.isupper():\r\n",
        "        print(i)"
      ],
      "execution_count": null,
      "outputs": [
        {
          "output_type": "stream",
          "text": [
            "A\n",
            "C\n"
          ],
          "name": "stdout"
        }
      ]
    },
    {
      "cell_type": "code",
      "metadata": {
        "colab": {
          "base_uri": "https://localhost:8080/"
        },
        "id": "nUUJhE9uA3GR",
        "outputId": "cd38110e-1056-4454-ffce-5a4502fa5ec2"
      },
      "source": [
        "# 156. 소문자만 출력\r\n",
        "li = ['A','b','C','d']\r\n",
        "for i in li:\r\n",
        "    if i.islower():\r\n",
        "        print(i)"
      ],
      "execution_count": null,
      "outputs": [
        {
          "output_type": "stream",
          "text": [
            "b\n",
            "d\n"
          ],
          "name": "stdout"
        }
      ]
    },
    {
      "cell_type": "code",
      "metadata": {
        "colab": {
          "base_uri": "https://localhost:8080/"
        },
        "id": "psbFmAap8GEK",
        "outputId": "7bfe37d4-51ce-400e-a54d-d2eac0519038"
      },
      "source": [
        "# 157. 첫글자 대문자로\r\n",
        "li = ['dog','cat','parrot']\r\n",
        "for i in li:\r\n",
        "    print(i.capitalize())"
      ],
      "execution_count": null,
      "outputs": [
        {
          "output_type": "stream",
          "text": [
            "Dog\n",
            "Cat\n",
            "Parrot\n"
          ],
          "name": "stdout"
        }
      ]
    },
    {
      "cell_type": "code",
      "metadata": {
        "colab": {
          "base_uri": "https://localhost:8080/"
        },
        "id": "Zr20x3Ud8f7j",
        "outputId": "fd772366-5b62-449f-903b-48dd98890734"
      },
      "source": [
        "# 158 확장자 제거\r\n",
        "li = ['hello.py', 'ex01.py', 'intro.hwp']\r\n",
        "for i in li:\r\n",
        "    print(i.split('.')[0])"
      ],
      "execution_count": null,
      "outputs": [
        {
          "output_type": "stream",
          "text": [
            "hello\n",
            "ex01\n",
            "intro\n"
          ],
          "name": "stdout"
        }
      ]
    },
    {
      "cell_type": "code",
      "metadata": {
        "colab": {
          "base_uri": "https://localhost:8080/"
        },
        "id": "amoXMf5qBFyy",
        "outputId": "96da215f-558b-4cc7-9a84-be7ff572e1ee"
      },
      "source": [
        "# 159. 확장자가 .h인 파일 이름 출력\r\n",
        "li = ['intra.h', 'intra.c', 'define.h', 'run.py']\r\n",
        "for i in li:\r\n",
        "    if i[-1]=='h':\r\n",
        "        print(i.split('.')[0])\r\n"
      ],
      "execution_count": null,
      "outputs": [
        {
          "output_type": "stream",
          "text": [
            "intra\n",
            "define\n"
          ],
          "name": "stdout"
        }
      ]
    },
    {
      "cell_type": "code",
      "metadata": {
        "colab": {
          "base_uri": "https://localhost:8080/"
        },
        "id": "gBRauoPU8c2D",
        "outputId": "e1b8d602-4d96-4c9c-89e9-06f581b60b36"
      },
      "source": [
        "# 160 파일 이름이 저장된 리스트에서 확장자가 .h 또는 .c 인 파일 이름을 출력하라.\r\n",
        "li = ['intra.h', 'intra.c', 'define.h', 'run.py']\r\n",
        "for i in li:\r\n",
        "    if ('.c' in i) or ('.h' in i):\r\n",
        "        print(i)"
      ],
      "execution_count": null,
      "outputs": [
        {
          "output_type": "stream",
          "text": [
            "intra.h\n",
            "intra.c\n",
            "define.h\n"
          ],
          "name": "stdout"
        }
      ]
    },
    {
      "cell_type": "code",
      "metadata": {
        "id": "oWTP5Psn9aVb"
      },
      "source": [
        "# 161. for range사용해 0~99까지 출력\r\n",
        "for i in range(100):\r\n",
        "    print(i)"
      ],
      "execution_count": null,
      "outputs": []
    },
    {
      "cell_type": "code",
      "metadata": {
        "colab": {
          "base_uri": "https://localhost:8080/"
        },
        "id": "JmCUF0UW9jvI",
        "outputId": "cafb8ee4-2d0f-478b-a99f-62205dadac62"
      },
      "source": [
        "# 162. 2002~2050까지 월드컵 개최되는 연도 출력\r\n",
        "for i in range(2002,2051,4):\r\n",
        "    print(i)"
      ],
      "execution_count": null,
      "outputs": [
        {
          "output_type": "stream",
          "text": [
            "2002\n",
            "2006\n",
            "2010\n",
            "2014\n",
            "2018\n",
            "2022\n",
            "2026\n",
            "2030\n",
            "2034\n",
            "2038\n",
            "2042\n",
            "2046\n",
            "2050\n"
          ],
          "name": "stdout"
        }
      ]
    },
    {
      "cell_type": "code",
      "metadata": {
        "colab": {
          "base_uri": "https://localhost:8080/"
        },
        "id": "ipcVVLSd91Aa",
        "outputId": "375ace25-012a-4041-dd5f-f1e0b9e136da"
      },
      "source": [
        "# 163. 1~30, 3의 배수 출력\r\n",
        "for i in range(1,31):\r\n",
        "    if i%3 == 0 :\r\n",
        "        print(i)\r\n",
        "\r\n",
        "# >>>답안 코드<<<\r\n",
        "# for i in range(3,31,3):\r\n",
        "#     print(i)"
      ],
      "execution_count": null,
      "outputs": [
        {
          "output_type": "stream",
          "text": [
            "3\n",
            "6\n",
            "9\n",
            "12\n",
            "15\n",
            "18\n",
            "21\n",
            "24\n",
            "27\n",
            "30\n",
            "3\n",
            "6\n",
            "9\n",
            "12\n",
            "15\n",
            "18\n",
            "21\n",
            "24\n",
            "27\n",
            "30\n"
          ],
          "name": "stdout"
        }
      ]
    },
    {
      "cell_type": "code",
      "metadata": {
        "colab": {
          "base_uri": "https://localhost:8080/"
        },
        "id": "Z3cOJFjCBdZT",
        "outputId": "aa8f3bd0-b66b-4d92-ed50-25cb6779a75a"
      },
      "source": [
        "# 164. 99~0 1씩 감소하는 숫자 출력\r\n",
        "for i in range(99,0,-1):\r\n",
        "    print(i)"
      ],
      "execution_count": null,
      "outputs": [
        {
          "output_type": "stream",
          "text": [
            "99\n",
            "98\n",
            "97\n",
            "96\n",
            "95\n",
            "94\n",
            "93\n",
            "92\n",
            "91\n",
            "90\n",
            "89\n",
            "88\n",
            "87\n",
            "86\n",
            "85\n",
            "84\n",
            "83\n",
            "82\n",
            "81\n",
            "80\n",
            "79\n",
            "78\n",
            "77\n",
            "76\n",
            "75\n",
            "74\n",
            "73\n",
            "72\n",
            "71\n",
            "70\n",
            "69\n",
            "68\n",
            "67\n",
            "66\n",
            "65\n",
            "64\n",
            "63\n",
            "62\n",
            "61\n",
            "60\n",
            "59\n",
            "58\n",
            "57\n",
            "56\n",
            "55\n",
            "54\n",
            "53\n",
            "52\n",
            "51\n",
            "50\n",
            "49\n",
            "48\n",
            "47\n",
            "46\n",
            "45\n",
            "44\n",
            "43\n",
            "42\n",
            "41\n",
            "40\n",
            "39\n",
            "38\n",
            "37\n",
            "36\n",
            "35\n",
            "34\n",
            "33\n",
            "32\n",
            "31\n",
            "30\n",
            "29\n",
            "28\n",
            "27\n",
            "26\n",
            "25\n",
            "24\n",
            "23\n",
            "22\n",
            "21\n",
            "20\n",
            "19\n",
            "18\n",
            "17\n",
            "16\n",
            "15\n",
            "14\n",
            "13\n",
            "12\n",
            "11\n",
            "10\n",
            "9\n",
            "8\n",
            "7\n",
            "6\n",
            "5\n",
            "4\n",
            "3\n",
            "2\n",
            "1\n"
          ],
          "name": "stdout"
        }
      ]
    },
    {
      "cell_type": "code",
      "metadata": {
        "colab": {
          "base_uri": "https://localhost:8080/"
        },
        "id": "sWnFKDeFBnm0",
        "outputId": "7b8a2fdc-9386-46f6-daf3-fc8b44c82bf7"
      },
      "source": [
        "# 165. for문을 사용해 0.x 출력\r\n",
        "# for i in range(1,10,1):\r\n",
        "#     print(f'0.{i}')\r\n",
        "\r\n",
        "# # >>>답안 코드<<<\r\n",
        "# for num in range(10):\r\n",
        "#     print(num/10, num)\r\n",
        "\r\n",
        "# for num in range(10) :\r\n",
        "#     print(num / 10)"
      ],
      "execution_count": null,
      "outputs": [
        {
          "output_type": "stream",
          "text": [
            "0.0\n",
            "0.1\n",
            "0.2\n",
            "0.3\n",
            "0.4\n",
            "0.5\n",
            "0.6\n",
            "0.7\n",
            "0.8\n",
            "0.9\n"
          ],
          "name": "stdout"
        }
      ]
    },
    {
      "cell_type": "code",
      "metadata": {
        "colab": {
          "base_uri": "https://localhost:8080/"
        },
        "id": "jeByAzoICK0P",
        "outputId": "87fbccb1-7d85-417e-f19f-e5e551e5c7e1"
      },
      "source": [
        "# 166. 구구단 출력\r\n",
        "for i in range(1,10):\r\n",
        "    print(f'3 * {i} = {3*i}')"
      ],
      "execution_count": null,
      "outputs": [
        {
          "output_type": "stream",
          "text": [
            "3 * 1 = 3\n",
            "3 * 2 = 6\n",
            "3 * 3 = 9\n",
            "3 * 4 = 12\n",
            "3 * 5 = 15\n",
            "3 * 6 = 18\n",
            "3 * 7 = 21\n",
            "3 * 8 = 24\n",
            "3 * 9 = 27\n"
          ],
          "name": "stdout"
        }
      ]
    },
    {
      "cell_type": "code",
      "metadata": {
        "colab": {
          "base_uri": "https://localhost:8080/"
        },
        "id": "kqBum6mHCVu4",
        "outputId": "37279859-ba67-4b0c-dbae-2f4f861eacf1"
      },
      "source": [
        "# 167. 구구단 3단 홀수 순서만 출력\r\n",
        "for i in range(1,10,2):\r\n",
        "    print(f'3 * {i} = {3*i}')"
      ],
      "execution_count": null,
      "outputs": [
        {
          "output_type": "stream",
          "text": [
            "3 * 1 = 3\n",
            "3 * 3 = 9\n",
            "3 * 5 = 15\n",
            "3 * 7 = 21\n",
            "3 * 9 = 27\n"
          ],
          "name": "stdout"
        }
      ]
    },
    {
      "cell_type": "code",
      "metadata": {
        "colab": {
          "base_uri": "https://localhost:8080/"
        },
        "id": "lW9G8fWkCpAB",
        "outputId": "a407452a-1d95-4674-b834-00ecddf45cb4"
      },
      "source": [
        "# 168 1~10까지 모두 더한 값 출력\r\n",
        "plus=0\r\n",
        "for i in range(1,11):\r\n",
        "    plus += i\r\n",
        "print(plus)"
      ],
      "execution_count": null,
      "outputs": [
        {
          "output_type": "stream",
          "text": [
            "55\n"
          ],
          "name": "stdout"
        }
      ]
    },
    {
      "cell_type": "code",
      "metadata": {
        "colab": {
          "base_uri": "https://localhost:8080/"
        },
        "id": "_xbS0RUzDM98",
        "outputId": "f2457b9f-9bb2-46f0-e82f-da90bf07f9ea"
      },
      "source": [
        "# 169. 1~10까지 홀수의 합을 출력하는 for문 작성.\r\n",
        "plus1=0\r\n",
        "for i in range(1,11,2):\r\n",
        "    plus1 += i\r\n",
        "print(plus1)        "
      ],
      "execution_count": null,
      "outputs": [
        {
          "output_type": "stream",
          "text": [
            "25\n"
          ],
          "name": "stdout"
        }
      ]
    },
    {
      "cell_type": "code",
      "metadata": {
        "colab": {
          "base_uri": "https://localhost:8080/"
        },
        "id": "WpgNnz2_D1Wn",
        "outputId": "d7234ef1-d39f-47c2-f636-feee41c039f2"
      },
      "source": [
        "# 170. 1~10까지 모두 곱한 값을 출력하는 for문 작성.\r\n",
        "multi = 1\r\n",
        "for i in range(1,11):\r\n",
        "    multi *= i\r\n",
        "print(multi)"
      ],
      "execution_count": null,
      "outputs": [
        {
          "output_type": "stream",
          "text": [
            "3628800\n"
          ],
          "name": "stdout"
        }
      ]
    },
    {
      "cell_type": "code",
      "metadata": {
        "colab": {
          "base_uri": "https://localhost:8080/"
        },
        "id": "b5NhKTO5EeVE",
        "outputId": "722369dd-4316-49b3-bc7c-85b10db3992d"
      },
      "source": [
        "# 171. for, range문을 사용해 리스트 데이터 출력\r\n",
        "price_list = [32100, 32150, 32000, 32500]\r\n",
        "for i in range(len(price_list)):\r\n",
        "    print(price_list[i])"
      ],
      "execution_count": null,
      "outputs": [
        {
          "output_type": "stream",
          "text": [
            "32100\n",
            "32150\n",
            "32000\n",
            "32500\n"
          ],
          "name": "stdout"
        }
      ]
    },
    {
      "cell_type": "code",
      "metadata": {
        "colab": {
          "base_uri": "https://localhost:8080/"
        },
        "id": "SXBe0IPaFaGR",
        "outputId": "4034575e-c27a-4cfa-90b0-b649275be2e5"
      },
      "source": [
        "# 172. for, range문을 사용해 리스트 데이터 출력\r\n",
        "price_list = [32100, 32150, 32000, 32500]\r\n",
        "\r\n",
        "for p,l in  enumerate(price_list):\r\n",
        "    print(p,l)"
      ],
      "execution_count": null,
      "outputs": [
        {
          "output_type": "stream",
          "text": [
            "0 32100\n",
            "1 32150\n",
            "2 32000\n",
            "3 32500\n"
          ],
          "name": "stdout"
        }
      ]
    },
    {
      "cell_type": "code",
      "metadata": {
        "colab": {
          "base_uri": "https://localhost:8080/"
        },
        "id": "jCND6A2FFqzA",
        "outputId": "1ad2cc24-b72f-437a-e6fe-154803165c6d"
      },
      "source": [
        "# 173. for, range문을 사용해 리스트 데이터 출력\r\n",
        "price_list = [32100, 32150, 32000, 32500]\r\n",
        "\r\n",
        "for i in range(len(price_list)):\r\n",
        "    print(3-i, price_list[i])"
      ],
      "execution_count": null,
      "outputs": [
        {
          "output_type": "stream",
          "text": [
            "3 32100\n",
            "2 32150\n",
            "1 32000\n",
            "0 32500\n"
          ],
          "name": "stdout"
        }
      ]
    },
    {
      "cell_type": "code",
      "metadata": {
        "colab": {
          "base_uri": "https://localhost:8080/"
        },
        "id": "rAc2BmWGGPga",
        "outputId": "a661bf43-cd3b-4679-f069-09e57be0db75"
      },
      "source": [
        "# 174. for, range문을 사용해 리스트 데이터 출력\r\n",
        "price_list=[32100, 32150, 32000, 32500]\r\n",
        "        \r\n",
        "# >>>정답 코드<<<\r\n",
        "for i in range(1,4):\r\n",
        "    print(90+10*i, price_list[i])"
      ],
      "execution_count": null,
      "outputs": [
        {
          "output_type": "stream",
          "text": [
            "100 32150\n",
            "110 32000\n",
            "120 32500\n"
          ],
          "name": "stdout"
        }
      ]
    },
    {
      "cell_type": "code",
      "metadata": {
        "colab": {
          "base_uri": "https://localhost:8080/"
        },
        "id": "4ZYRWG16HaCR",
        "outputId": "4b439086-32d6-477f-a7bc-41e0cf127d6c"
      },
      "source": [
        "# 175. my_list를 아래와 같이 출력\r\n",
        "my_list = ['a','b','c','d']\r\n",
        "# 가 나\r\n",
        "# 나 다\r\n",
        "# 다 라\r\n",
        "\r\n",
        "for i in range(len(my_list)-1):\r\n",
        "    print(my_list[i], my_list[i+1])"
      ],
      "execution_count": null,
      "outputs": [
        {
          "output_type": "stream",
          "text": [
            "a b\n",
            "b c\n",
            "c d\n"
          ],
          "name": "stdout"
        }
      ]
    },
    {
      "cell_type": "code",
      "metadata": {
        "colab": {
          "base_uri": "https://localhost:8080/"
        },
        "id": "V17y55OoIaVN",
        "outputId": "1e5dbcc8-5e42-4f0b-a0ae-a19619994737"
      },
      "source": [
        "# 176. \r\n",
        "my_list = ['가','나','다','라','마']\r\n",
        "for i in range(len(my_list)-2):\r\n",
        "    print(my_list[i], my_list[i+1], my_list[i+2])"
      ],
      "execution_count": null,
      "outputs": [
        {
          "output_type": "stream",
          "text": [
            "가 나 다\n",
            "나 다 라\n",
            "다 라 마\n"
          ],
          "name": "stdout"
        }
      ]
    },
    {
      "cell_type": "code",
      "metadata": {
        "colab": {
          "base_uri": "https://localhost:8080/"
        },
        "id": "Hrh4Kjm7J7tV",
        "outputId": "6b49a729-869a-4a98-a1b5-16ecbd59804d"
      },
      "source": [
        "# 177. \r\n",
        "my_list = ['가','나','다','라']\r\n",
        "for i in range(len(my_list)-1,0,-1):\r\n",
        "    print(my_list[i], my_list[i-1])"
      ],
      "execution_count": null,
      "outputs": [
        {
          "output_type": "stream",
          "text": [
            "라 다\n",
            "다 나\n",
            "나 가\n"
          ],
          "name": "stdout"
        }
      ]
    },
    {
      "cell_type": "code",
      "metadata": {
        "colab": {
          "base_uri": "https://localhost:8080/"
        },
        "id": "UsLo73iVKvDY",
        "outputId": "4d88e45d-f2ca-42bd-e75c-fe2a1eee0b3a"
      },
      "source": [
        "# 178. 리스트에는 네 개의 정수가 저장되어 있다. 각각의 데이터에 대해서 자신과 우측값과의 차분값을 화면에 출력하라.\r\n",
        "li = [100,200,400,800]\r\n",
        "\r\n",
        "for i in range(len(li)-1):\r\n",
        "    print(abs(li[i+1] - li[i]))\r\n"
      ],
      "execution_count": null,
      "outputs": [
        {
          "output_type": "stream",
          "text": [
            "100\n",
            "200\n",
            "400\n"
          ],
          "name": "stdout"
        }
      ]
    },
    {
      "cell_type": "code",
      "metadata": {
        "colab": {
          "base_uri": "https://localhost:8080/"
        },
        "id": "Y-1XiLvrLuJd",
        "outputId": "1c40cf88-a8bf-42ae-b214-3bea857f2b43"
      },
      "source": [
        "# 179. 리스트에는 6일 간의 종가 데이터가 저장되어 있다. 종가 데이터의 3일 이동 평균을 계산하고 이를 화면에 출력하라.\r\n",
        "li = [100, 200, 400, 800, 1000, 1300]\r\n",
        "\r\n",
        "for i in range(1,len(li)-1):\r\n",
        "    print(abs(li[i-1]+li[i]+li[i+1])/3)"
      ],
      "execution_count": null,
      "outputs": [
        {
          "output_type": "stream",
          "text": [
            "233.33333333333334\n",
            "466.6666666666667\n",
            "733.3333333333334\n",
            "1033.3333333333333\n"
          ],
          "name": "stdout"
        }
      ]
    },
    {
      "cell_type": "code",
      "metadata": {
        "id": "wZ-IzKxJMx-b"
      },
      "source": [
        "# 180. \r\n",
        "# 리스트에 5일간의 저가, 고가 정보가 저장돼 있다. 고가와 저가의 차를 변동폭이라고 정의할 때,\r\n",
        "# low, high 두 개의 리스트를 사용해서 5일간의 변동폭을 volatility 리스트에 저장하라.\r\n",
        "\r\n",
        "low_prices  = [100, 200, 400, 800, 1000]\r\n",
        "high_prices = [150, 300, 430, 880, 1000]\r\n",
        "volatility=[]\r\n",
        "for i in range(0,len(low_prices)):\r\n",
        "    volatility.append(high_prices[i]-low_prices[i])"
      ],
      "execution_count": null,
      "outputs": []
    },
    {
      "cell_type": "markdown",
      "metadata": {
        "id": "7ckP0sTyNtIf"
      },
      "source": [
        "### 이차원 리스트"
      ]
    },
    {
      "cell_type": "code",
      "metadata": {
        "id": "8m21EbgNNT3d"
      },
      "source": [
        "# 181. 하나의 행을 하나의 리스트로, 총 3개의 리스트를 갖는 이차원 리스트 apart를 정의.\r\n",
        "apart = [['101호','102호'], ['201호','202호'], ['301호','302호']]"
      ],
      "execution_count": null,
      "outputs": []
    },
    {
      "cell_type": "code",
      "metadata": {
        "id": "C52Cb9fvNq5f"
      },
      "source": [
        "# 182. 하나의 열을 하나의 리스트로, 총 2개의 리스트를 갖는 이차원 리스트 stock정의\r\n",
        "stock = [['시가',100,200,300], ['종가',80,210,330]]"
      ],
      "execution_count": null,
      "outputs": []
    },
    {
      "cell_type": "code",
      "metadata": {
        "colab": {
          "base_uri": "https://localhost:8080/"
        },
        "id": "QSykq7-ZOV1C",
        "outputId": "8ebb2841-6d01-4d48-c825-5f853956c0e6"
      },
      "source": [
        "# 183.\r\n",
        "# 아래 표를 stock 이름의 딕셔너리로 표현하라.시가를 key로 저장하고, 나머지 같은 열의 데이터를 리스트로 저장해서 value로 저장한다. \r\n",
        "# 종가 역시 key로 저장하고 나머지 같은 열의 데이터를 리스트로 저장해서 value로 저장한다.\r\n",
        "\r\n",
        "stock ={'시가':[100,200,300], '종가':[80,210,330]}"
      ],
      "execution_count": null,
      "outputs": [
        {
          "output_type": "execute_result",
          "data": {
            "text/plain": [
              "dict_items([('시가', [100, 200, 300]), ('종가', [80, 210, 330])])"
            ]
          },
          "metadata": {
            "tags": []
          },
          "execution_count": 664
        }
      ]
    },
    {
      "cell_type": "code",
      "metadata": {
        "id": "VRI5DIObOqG7"
      },
      "source": [
        "# 184. 아래 표를 stock 이라는 이름의 딕셔너리로 표현하라. 날짜를 key로 저장하고, 나머지 같은 행의 데이터를 리스트로 저장해서 value로 저장한다. 첫 열이 날짜이다.\r\n",
        "stock = {'10/10':[80,110,70,90], '10/11':[210,230,190,200]}"
      ],
      "execution_count": null,
      "outputs": []
    },
    {
      "cell_type": "code",
      "metadata": {
        "colab": {
          "base_uri": "https://localhost:8080/"
        },
        "id": "rrGLxDcEO6bF",
        "outputId": "b9bf3e72-ec1d-4c50-b863-be7991f0a74c"
      },
      "source": [
        "# 185.\r\n",
        "apart = [ [101, 102], [201, 202], [301, 302] ]\r\n",
        "for i in apart:\r\n",
        "    for j in i:\r\n",
        "        print(f'{j}호')\r\n",
        "\r\n",
        "# [j for i in apart for j in i] # 중첩 for문 리스트 컴프리헨션"
      ],
      "execution_count": null,
      "outputs": [
        {
          "output_type": "execute_result",
          "data": {
            "text/plain": [
              "[101, 102, 201, 202, 301, 302]"
            ]
          },
          "metadata": {
            "tags": []
          },
          "execution_count": 683
        }
      ]
    },
    {
      "cell_type": "code",
      "metadata": {
        "colab": {
          "base_uri": "https://localhost:8080/"
        },
        "id": "6TBBchMIQPeL",
        "outputId": "a31f4134-f1c6-47e7-9c7b-ca90cd266b57"
      },
      "source": [
        "# 186. \r\n",
        "apart = [ [101, 102], [201, 202], [301, 302] ]\r\n",
        "for i in apart[::-1]:\r\n",
        "    for j in i:\r\n",
        "        print(f'{j}호')"
      ],
      "execution_count": null,
      "outputs": [
        {
          "output_type": "stream",
          "text": [
            "301호\n",
            "302호\n",
            "201호\n",
            "202호\n",
            "101호\n",
            "102호\n"
          ],
          "name": "stdout"
        }
      ]
    },
    {
      "cell_type": "code",
      "metadata": {
        "colab": {
          "base_uri": "https://localhost:8080/"
        },
        "id": "VELV-S5rQ-S2",
        "outputId": "e441e4e0-5c58-4456-c0d5-cdea3276d3d3"
      },
      "source": [
        "# 187. \r\n",
        "apart = [[101, 102], [201, 202], [301, 302]]\r\n",
        "for row in apart[::-1]:\r\n",
        "    for col in row[::-1]:\r\n",
        "        print(f'{j}호')"
      ],
      "execution_count": null,
      "outputs": [
        {
          "output_type": "stream",
          "text": [
            "302호\n",
            "301호\n",
            "202호\n",
            "201호\n",
            "102호\n",
            "101호\n"
          ],
          "name": "stdout"
        }
      ]
    },
    {
      "cell_type": "code",
      "metadata": {
        "colab": {
          "base_uri": "https://localhost:8080/"
        },
        "id": "IwBDMqGNRYHR",
        "outputId": "e4993792-85f6-474c-ed3c-b13afd93978b"
      },
      "source": [
        "# 188.\r\n",
        "apart = [[101, 102], [201, 202], [301, 302]]\r\n",
        "for r in apart:\r\n",
        "    for j in r:\r\n",
        "        print(j)\r\n",
        "        print('-'*8)"
      ],
      "execution_count": null,
      "outputs": [
        {
          "output_type": "stream",
          "text": [
            "101\n",
            "--------\n",
            "102\n",
            "--------\n",
            "201\n",
            "--------\n",
            "202\n",
            "--------\n",
            "301\n",
            "--------\n",
            "302\n",
            "--------\n"
          ],
          "name": "stdout"
        }
      ]
    },
    {
      "cell_type": "code",
      "metadata": {
        "colab": {
          "base_uri": "https://localhost:8080/"
        },
        "id": "Pz6mYTNpRwZ6",
        "outputId": "77f50069-b5af-4276-e3b5-62801a26e8e5"
      },
      "source": [
        "# 189.\r\n",
        "apart = [[101, 102], [201, 202], [301, 302]]\r\n",
        "for r in apart:\r\n",
        "    print('-'*8)\r\n",
        "    for j in r:\r\n",
        "        print(j)"
      ],
      "execution_count": null,
      "outputs": [
        {
          "output_type": "stream",
          "text": [
            "--------\n",
            "101\n",
            "102\n",
            "--------\n",
            "201\n",
            "202\n",
            "--------\n",
            "301\n",
            "302\n"
          ],
          "name": "stdout"
        }
      ]
    },
    {
      "cell_type": "code",
      "metadata": {
        "colab": {
          "base_uri": "https://localhost:8080/"
        },
        "id": "pphuz5VrR587",
        "outputId": "8ec0394e-df86-4411-fa2c-5fd90eed2416"
      },
      "source": [
        "# 190. \r\n",
        "apart = [[101, 102], [201, 202], [301, 302]]\r\n",
        "\r\n",
        "for r in apart:\r\n",
        "    for j in r:\r\n",
        "        print(j)\r\n",
        "print('-'*8)"
      ],
      "execution_count": null,
      "outputs": [
        {
          "output_type": "stream",
          "text": [
            "101\n",
            "102\n",
            "201\n",
            "202\n",
            "301\n",
            "302\n",
            "--------\n"
          ],
          "name": "stdout"
        }
      ]
    },
    {
      "cell_type": "code",
      "metadata": {
        "id": "8DL8JZGgSFnI",
        "colab": {
          "base_uri": "https://localhost:8080/"
        },
        "outputId": "7ff176df-5faa-4779-e685-a34592dacff4"
      },
      "source": [
        "# 191. data에는 매수한 종목들의 OHLC (open/high/low/close) 가격 정보가 바인딩 되어있다.\r\n",
        "# 수수료를 0.014 %로 가정할 때, 각 가격에 수수료를 포함한 가격을 한라인에 하나씩 출력하라.\r\n",
        "data = [[ 2000,  3050,  2050,  1980],[ 7500,  2050,  2050,  1980],[15450, 15050, 15550, 14900]]\r\n",
        "\r\n",
        "for d in data:\r\n",
        "    for a in d:\r\n",
        "        print(a*1.00014)"
      ],
      "execution_count": null,
      "outputs": [
        {
          "output_type": "stream",
          "text": [
            "2000.28\n",
            "3050.427\n",
            "2050.2870000000003\n",
            "1980.2772\n",
            "7501.05\n",
            "2050.2870000000003\n",
            "2050.2870000000003\n",
            "1980.2772\n",
            "15452.163\n",
            "15052.107\n",
            "15552.177\n",
            "14902.086000000001\n"
          ],
          "name": "stdout"
        }
      ]
    },
    {
      "cell_type": "code",
      "metadata": {
        "colab": {
          "base_uri": "https://localhost:8080/"
        },
        "id": "Qi23Wmw4EklB",
        "outputId": "a1a35f89-8d61-4f94-b345-a74604bf82ef"
      },
      "source": [
        "# 192. 위 결과에 행단위로 '----'구분 기호 삽입\r\n",
        "for d in data:\r\n",
        "    print('-'*8)\r\n",
        "    for a in d:\r\n",
        "        print(a*1.00014)"
      ],
      "execution_count": null,
      "outputs": [
        {
          "output_type": "stream",
          "text": [
            "--------\n",
            "2000.28\n",
            "3050.427\n",
            "2050.2870000000003\n",
            "1980.2772\n",
            "--------\n",
            "7501.05\n",
            "2050.2870000000003\n",
            "2050.2870000000003\n",
            "1980.2772\n",
            "--------\n",
            "15452.163\n",
            "15052.107\n",
            "15552.177\n",
            "14902.086000000001\n"
          ],
          "name": "stdout"
        }
      ]
    },
    {
      "cell_type": "code",
      "metadata": {
        "colab": {
          "base_uri": "https://localhost:8080/"
        },
        "id": "TqbrvGsI51JD",
        "outputId": "c98ee2c1-7832-48f8-b656-340ba0ac07eb"
      },
      "source": [
        "# 193. 위 문제 결괏값을 result 이름의 리스트에 1차원 배열로 저장.\r\n",
        "result = []\r\n",
        "for d in data:\r\n",
        "    for a in d:\r\n",
        "        result.append(a*1.00014)\r\n",
        "print(result)"
      ],
      "execution_count": null,
      "outputs": [
        {
          "output_type": "stream",
          "text": [
            "[2000.28, 3050.427, 2050.2870000000003, 1980.2772, 7501.05, 2050.2870000000003, 2050.2870000000003, 1980.2772, 15452.163, 15052.107, 15552.177, 14902.086000000001]\n"
          ],
          "name": "stdout"
        }
      ]
    },
    {
      "cell_type": "code",
      "metadata": {
        "colab": {
          "base_uri": "https://localhost:8080/"
        },
        "id": "Ghw6ktonEG8g",
        "outputId": "d6be005b-b805-4625-b809-363b57b22981"
      },
      "source": [
        "# 194. 191번의 결괏값을 result 이름의 리스트에 2차원 배열로 저장.\r\n",
        "data = [[ 2000,  3050,  2050,  1980],[ 7500,  2050,  2050,  1980],[15450, 15050, 15550, 14900]]\r\n",
        "\r\n",
        "result = []\r\n",
        "for d in data:\r\n",
        "    sub=[]\r\n",
        "    for a in d:\r\n",
        "        sub.append(a * 1.00014)\r\n",
        "    result.append(sub)\r\n",
        "print(result)"
      ],
      "execution_count": null,
      "outputs": [
        {
          "output_type": "stream",
          "text": [
            "[[2000.28, 3050.427, 2050.2870000000003, 1980.2772], [7501.05, 2050.2870000000003, 2050.2870000000003, 1980.2772], [15452.163, 15052.107, 15552.177, 14902.086000000001]]\n"
          ],
          "name": "stdout"
        }
      ]
    },
    {
      "cell_type": "code",
      "metadata": {
        "colab": {
          "base_uri": "https://localhost:8080/"
        },
        "id": "Gqr1VAaw7fNK",
        "outputId": "ed3ffa3f-c964-490a-b065-58f89eaa33cf"
      },
      "source": [
        "# 195. ohlc 리스트에는 시가(open), 고가(high), 저가(low), 종가(close) 가 날짜별로 저장돼 있다. 화면에 종가 데이터를 출력하라.\r\n",
        "ohlc = [[\"open\", \"high\", \"low\", \"close\"],[100, 110, 70, 100],[200, 210, 180, 190],[300, 310, 300, 310]]\r\n",
        "for r in ohlc[1:]:\r\n",
        "    print(r[3])"
      ],
      "execution_count": null,
      "outputs": [
        {
          "output_type": "stream",
          "text": [
            "100\n",
            "190\n",
            "310\n"
          ],
          "name": "stdout"
        }
      ]
    },
    {
      "cell_type": "code",
      "metadata": {
        "colab": {
          "base_uri": "https://localhost:8080/"
        },
        "id": "O1HXpb5l8MzK",
        "outputId": "8778f95b-d2a9-4696-9914-6b0637467814"
      },
      "source": [
        "# 196. ohlc 리스트에는 시가(open), 고가 (high), 저가 (low) , 종가(close)가 날짜별로 저장돼 있다. 종가가 150원보다 큰경우에만 종가를 출력하라.\r\n",
        "ohlc = [[\"open\", \"high\", \"low\", \"close\"],[100, 110, 70, 100],[200, 210, 180, 190],[300, 310, 300, 310]]\r\n",
        "\r\n",
        "for o in ohlc[1:]:\r\n",
        "    if o[3] > 150:\r\n",
        "        print(o[3])"
      ],
      "execution_count": null,
      "outputs": [
        {
          "output_type": "stream",
          "text": [
            "190\n",
            "310\n"
          ],
          "name": "stdout"
        }
      ]
    },
    {
      "cell_type": "code",
      "metadata": {
        "colab": {
          "base_uri": "https://localhost:8080/"
        },
        "id": "ABrGkVO08vpA",
        "outputId": "794b13b3-86d3-4774-98f4-2e18d0293a9a"
      },
      "source": [
        "# 197. 종가가 시가보다 크거나 같은 경우에만 종가를 출력하가.\r\n",
        "ohlc = [[\"open\", \"high\", \"low\", \"close\"],[100, 110, 70, 100],[200, 210, 180, 190],[300, 310, 300, 310]]\r\n",
        "for o in ohlc:\r\n",
        "    if (o[3] >= o[0]):\r\n",
        "        print(o[3])"
      ],
      "execution_count": null,
      "outputs": [
        {
          "output_type": "stream",
          "text": [
            "100\n",
            "310\n"
          ],
          "name": "stdout"
        }
      ]
    },
    {
      "cell_type": "code",
      "metadata": {
        "colab": {
          "base_uri": "https://localhost:8080/"
        },
        "id": "NbxXjYQQ9cmh",
        "outputId": "fe8fb770-be4e-4ba7-a0a6-a406fdbe978b"
      },
      "source": [
        "# 198. 고가와 저가의 차이를 변동폭으로 정의할 때 변동폭을 volatility 이름의 리스트에 저장하라.\r\n",
        "ohlc = [[\"open\", \"high\", \"low\", \"close\"],[100, 110, 70, 100],[200, 210, 180, 190],[300, 310, 300, 310]]\r\n",
        "\r\n",
        "volatility=[]\r\n",
        "for o in ohlc[1:]:\r\n",
        "    volatility.append(o[1] - o[2])\r\n",
        "print(volatility)"
      ],
      "execution_count": null,
      "outputs": [
        {
          "output_type": "stream",
          "text": [
            "[40, 30, 10]\n"
          ],
          "name": "stdout"
        }
      ]
    },
    {
      "cell_type": "code",
      "metadata": {
        "colab": {
          "base_uri": "https://localhost:8080/"
        },
        "id": "DOEknlsb-Zs4",
        "outputId": "0462ebb4-4f12-40ce-adc1-b58c11b879b1"
      },
      "source": [
        "# 199.리스트에는 3일 간의 ohlc 데이터가 저장돼 있다. 종가가 시가보다 높은 날의 변동성 (고가 - 저가)을 화면에 출력하라.\r\n",
        "ohlc = [[\"open\", \"high\", \"low\", \"close\"],[100, 110, 70, 100],[200, 210, 180, 190],[300, 310, 300, 310]]\r\n",
        "\r\n",
        "for o in ohlc[1:]:\r\n",
        "    if o[3] > o[0]:\r\n",
        "        print(o[1] - o[2])"
      ],
      "execution_count": null,
      "outputs": [
        {
          "output_type": "stream",
          "text": [
            "10\n"
          ],
          "name": "stdout"
        }
      ]
    },
    {
      "cell_type": "code",
      "metadata": {
        "colab": {
          "base_uri": "https://localhost:8080/"
        },
        "id": "l44EaGEi_ZhF",
        "outputId": "b84806fa-9da7-4497-d017-645a1ba9b2d1"
      },
      "source": [
        "# 200. 시가에 매수해서 종가에 매도했을 경우 총 수익금을 계산.\r\n",
        "# 1일차 수익 0원 (100 - 100), 2일차 수익 -10원 (190 - 200), 3일차 수익 10원 (310 - 300) 이다.\r\n",
        "ohlc = [[\"open\", \"high\", \"low\", \"close\"],[100, 110, 70, 100],[200, 210, 180, 190],[300, 310, 300, 310]]\r\n",
        "\r\n",
        "profit= 0\r\n",
        "for o in ohlc[1:]:\r\n",
        "    profit += (o[3] - o[0])\r\n",
        "print(profit)"
      ],
      "execution_count": null,
      "outputs": [
        {
          "output_type": "stream",
          "text": [
            "0\n"
          ],
          "name": "stdout"
        }
      ]
    },
    {
      "cell_type": "markdown",
      "metadata": {
        "id": "mIZgt4MIAd5L"
      },
      "source": [
        "## 9 함수(200~240)\r\n",
        "---\r\n",
        "* 함수란 자주 사용하는 코드에 대한 이름표이다.\r\n",
        "* 변수가 어떤 값을 바인딩하는 것처럼 함수는 어떤 코드를 바인딩한다.\r\n",
        "* 중첩함수의 사용\r\n"
      ]
    },
    {
      "cell_type": "code",
      "metadata": {
        "id": "nmEyQ9Y0A2bV"
      },
      "source": [
        "# 201. '비트코인' 문자열을 화면에 출력하는 print_coin() 함수를 정의하라\r\n",
        "def print_coin(args='비트코인'):\r\n",
        "    print(args)"
      ],
      "execution_count": null,
      "outputs": []
    },
    {
      "cell_type": "code",
      "metadata": {
        "colab": {
          "base_uri": "https://localhost:8080/"
        },
        "id": "5Bz6JKhhBl5A",
        "outputId": "15ffa48f-4a42-4b37-97a9-dedf989a3038"
      },
      "source": [
        "# 202. 201 함수 출력\r\n",
        "print_coin()"
      ],
      "execution_count": null,
      "outputs": [
        {
          "output_type": "stream",
          "text": [
            "비트코인\n"
          ],
          "name": "stdout"
        }
      ]
    },
    {
      "cell_type": "code",
      "metadata": {
        "colab": {
          "base_uri": "https://localhost:8080/"
        },
        "id": "X0CAzcefBpWw",
        "outputId": "3575001e-4f23-4875-bb4c-4108ac301845"
      },
      "source": [
        "# 203. 201에서 정의한 print_coin() 함수를 100번 출력.\r\n",
        "for i in range(100):\r\n",
        "    print_coin()"
      ],
      "execution_count": null,
      "outputs": [
        {
          "output_type": "stream",
          "text": [
            "비트코인\n",
            "비트코인\n",
            "비트코인\n",
            "비트코인\n",
            "비트코인\n",
            "비트코인\n",
            "비트코인\n",
            "비트코인\n",
            "비트코인\n",
            "비트코인\n",
            "비트코인\n",
            "비트코인\n",
            "비트코인\n",
            "비트코인\n",
            "비트코인\n",
            "비트코인\n",
            "비트코인\n",
            "비트코인\n",
            "비트코인\n",
            "비트코인\n",
            "비트코인\n",
            "비트코인\n",
            "비트코인\n",
            "비트코인\n",
            "비트코인\n",
            "비트코인\n",
            "비트코인\n",
            "비트코인\n",
            "비트코인\n",
            "비트코인\n",
            "비트코인\n",
            "비트코인\n",
            "비트코인\n",
            "비트코인\n",
            "비트코인\n",
            "비트코인\n",
            "비트코인\n",
            "비트코인\n",
            "비트코인\n",
            "비트코인\n",
            "비트코인\n",
            "비트코인\n",
            "비트코인\n",
            "비트코인\n",
            "비트코인\n",
            "비트코인\n",
            "비트코인\n",
            "비트코인\n",
            "비트코인\n",
            "비트코인\n",
            "비트코인\n",
            "비트코인\n",
            "비트코인\n",
            "비트코인\n",
            "비트코인\n",
            "비트코인\n",
            "비트코인\n",
            "비트코인\n",
            "비트코인\n",
            "비트코인\n",
            "비트코인\n",
            "비트코인\n",
            "비트코인\n",
            "비트코인\n",
            "비트코인\n",
            "비트코인\n",
            "비트코인\n",
            "비트코인\n",
            "비트코인\n",
            "비트코인\n",
            "비트코인\n",
            "비트코인\n",
            "비트코인\n",
            "비트코인\n",
            "비트코인\n",
            "비트코인\n",
            "비트코인\n",
            "비트코인\n",
            "비트코인\n",
            "비트코인\n",
            "비트코인\n",
            "비트코인\n",
            "비트코인\n",
            "비트코인\n",
            "비트코인\n",
            "비트코인\n",
            "비트코인\n",
            "비트코인\n",
            "비트코인\n",
            "비트코인\n",
            "비트코인\n",
            "비트코인\n",
            "비트코인\n",
            "비트코인\n",
            "비트코인\n",
            "비트코인\n",
            "비트코인\n",
            "비트코인\n",
            "비트코인\n",
            "비트코인\n"
          ],
          "name": "stdout"
        }
      ]
    },
    {
      "cell_type": "code",
      "metadata": {
        "colab": {
          "base_uri": "https://localhost:8080/"
        },
        "id": "LW0L_d6bC3Ge",
        "outputId": "6dfb21bc-4e70-4388-f35a-35ba5a09d88b"
      },
      "source": [
        "# 204. '비트코인' 문자열 100번 출력하는 print_coins() 함수 정의\r\n",
        "def print_coins(args='비트코인',ranges=100):\r\n",
        "    for i in range(ranges):\r\n",
        "        print(args)\r\n",
        "print_coins()"
      ],
      "execution_count": null,
      "outputs": [
        {
          "output_type": "stream",
          "text": [
            "비트코인\n",
            "비트코인\n",
            "비트코인\n",
            "비트코인\n",
            "비트코인\n",
            "비트코인\n",
            "비트코인\n",
            "비트코인\n",
            "비트코인\n",
            "비트코인\n",
            "비트코인\n",
            "비트코인\n",
            "비트코인\n",
            "비트코인\n",
            "비트코인\n",
            "비트코인\n",
            "비트코인\n",
            "비트코인\n",
            "비트코인\n",
            "비트코인\n",
            "비트코인\n",
            "비트코인\n",
            "비트코인\n",
            "비트코인\n",
            "비트코인\n",
            "비트코인\n",
            "비트코인\n",
            "비트코인\n",
            "비트코인\n",
            "비트코인\n",
            "비트코인\n",
            "비트코인\n",
            "비트코인\n",
            "비트코인\n",
            "비트코인\n",
            "비트코인\n",
            "비트코인\n",
            "비트코인\n",
            "비트코인\n",
            "비트코인\n",
            "비트코인\n",
            "비트코인\n",
            "비트코인\n",
            "비트코인\n",
            "비트코인\n",
            "비트코인\n",
            "비트코인\n",
            "비트코인\n",
            "비트코인\n",
            "비트코인\n",
            "비트코인\n",
            "비트코인\n",
            "비트코인\n",
            "비트코인\n",
            "비트코인\n",
            "비트코인\n",
            "비트코인\n",
            "비트코인\n",
            "비트코인\n",
            "비트코인\n",
            "비트코인\n",
            "비트코인\n",
            "비트코인\n",
            "비트코인\n",
            "비트코인\n",
            "비트코인\n",
            "비트코인\n",
            "비트코인\n",
            "비트코인\n",
            "비트코인\n",
            "비트코인\n",
            "비트코인\n",
            "비트코인\n",
            "비트코인\n",
            "비트코인\n",
            "비트코인\n",
            "비트코인\n",
            "비트코인\n",
            "비트코인\n",
            "비트코인\n",
            "비트코인\n",
            "비트코인\n",
            "비트코인\n",
            "비트코인\n",
            "비트코인\n",
            "비트코인\n",
            "비트코인\n",
            "비트코인\n",
            "비트코인\n",
            "비트코인\n",
            "비트코인\n",
            "비트코인\n",
            "비트코인\n",
            "비트코인\n",
            "비트코인\n",
            "비트코인\n",
            "비트코인\n",
            "비트코인\n",
            "비트코인\n",
            "비트코인\n"
          ],
          "name": "stdout"
        }
      ]
    },
    {
      "cell_type": "code",
      "metadata": {
        "colab": {
          "base_uri": "https://localhost:8080/",
          "height": 223
        },
        "id": "0j2HuM55B4gx",
        "outputId": "28ee8ba2-321b-407f-e9ed-df46e0d5bdce"
      },
      "source": [
        "# 205. 아래의 에러가 발생하는 이유에 대해 설명\r\n",
        "hello()\r\n",
        "def hello():\r\n",
        "    print('Hi')\r\n",
        "\r\n",
        "# -> 함수 정의되기 전에 호출했기 때문"
      ],
      "execution_count": null,
      "outputs": [
        {
          "output_type": "error",
          "ename": "NameError",
          "evalue": "ignored",
          "traceback": [
            "\u001b[0;31m---------------------------------------------------------------------------\u001b[0m",
            "\u001b[0;31mNameError\u001b[0m                                 Traceback (most recent call last)",
            "\u001b[0;32m<ipython-input-73-a9d925e647d4>\u001b[0m in \u001b[0;36m<module>\u001b[0;34m()\u001b[0m\n\u001b[1;32m      1\u001b[0m \u001b[0;31m# 204. 아래의 에러가 발생하는 이유에 대해 설명\u001b[0m\u001b[0;34m\u001b[0m\u001b[0;34m\u001b[0m\u001b[0;34m\u001b[0m\u001b[0m\n\u001b[0;32m----> 2\u001b[0;31m \u001b[0mhello\u001b[0m\u001b[0;34m(\u001b[0m\u001b[0;34m)\u001b[0m\u001b[0;34m\u001b[0m\u001b[0;34m\u001b[0m\u001b[0m\n\u001b[0m\u001b[1;32m      3\u001b[0m \u001b[0;32mdef\u001b[0m \u001b[0mhello\u001b[0m\u001b[0;34m(\u001b[0m\u001b[0;34m)\u001b[0m\u001b[0;34m:\u001b[0m\u001b[0;34m\u001b[0m\u001b[0;34m\u001b[0m\u001b[0m\n\u001b[1;32m      4\u001b[0m     \u001b[0mprint\u001b[0m\u001b[0;34m(\u001b[0m\u001b[0;34m'Hi'\u001b[0m\u001b[0;34m)\u001b[0m\u001b[0;34m\u001b[0m\u001b[0;34m\u001b[0m\u001b[0m\n",
            "\u001b[0;31mNameError\u001b[0m: name 'hello' is not defined"
          ]
        }
      ]
    },
    {
      "cell_type": "code",
      "metadata": {
        "colab": {
          "base_uri": "https://localhost:8080/"
        },
        "id": "H5dkw2MdCxMF",
        "outputId": "9e49fb4c-a45c-42eb-f152-8f9f6b888153"
      },
      "source": [
        "# 206. 아래 코드의 실행 결과를 예측하라.\r\n",
        "def message():\r\n",
        "    print('A')\r\n",
        "    print('B')\r\n",
        "\r\n",
        "message()\r\n",
        "print('C')\r\n",
        "message()\r\n",
        "\r\n",
        "# => ABCAB"
      ],
      "execution_count": null,
      "outputs": [
        {
          "output_type": "stream",
          "text": [
            "A\n",
            "B\n",
            "C\n",
            "A\n",
            "B\n"
          ],
          "name": "stdout"
        }
      ]
    },
    {
      "cell_type": "code",
      "metadata": {
        "colab": {
          "base_uri": "https://localhost:8080/"
        },
        "id": "FnJYA6gZD6os",
        "outputId": "34f50335-8d0b-4803-f102-d50af403a405"
      },
      "source": [
        "# 207. 아래 코드의 실행 결과 예측.\r\n",
        "print('A')\r\n",
        "\r\n",
        "def message1():\r\n",
        "    print('B')\r\n",
        "print('C')\r\n",
        "def message2():\r\n",
        "    print('D')\r\n",
        "\r\n",
        "message1()\r\n",
        "print('E')\r\n",
        "message2()\r\n",
        "\r\n",
        "# ACBED"
      ],
      "execution_count": null,
      "outputs": [
        {
          "output_type": "stream",
          "text": [
            "A\n",
            "C\n",
            "B\n",
            "E\n",
            "D\n"
          ],
          "name": "stdout"
        }
      ]
    },
    {
      "cell_type": "code",
      "metadata": {
        "colab": {
          "base_uri": "https://localhost:8080/"
        },
        "id": "qRPNC3XsEQ2t",
        "outputId": "e960b371-ed6f-40a2-a69b-442a924f01f4"
      },
      "source": [
        "# 208. 실핼 결과 예측.\r\n",
        "print('A')\r\n",
        "def message1():\r\n",
        "    print('B')\r\n",
        "print('C')\r\n",
        "def message2():\r\n",
        "    print('D')\r\n",
        "\r\n",
        "message1()\r\n",
        "print('E')\r\n",
        "message2()\r\n",
        "# ACBED"
      ],
      "execution_count": null,
      "outputs": [
        {
          "output_type": "stream",
          "text": [
            "A\n",
            "C\n",
            "B\n",
            "E\n",
            "D\n"
          ],
          "name": "stdout"
        }
      ]
    },
    {
      "cell_type": "code",
      "metadata": {
        "colab": {
          "base_uri": "https://localhost:8080/"
        },
        "id": "DpV4yfgLElX3",
        "outputId": "5682dc96-9c5f-4cfc-94f5-1b06c866de37"
      },
      "source": [
        "# 209. 실행 결과 예측.\r\n",
        "def message1():\r\n",
        "    print('A')\r\n",
        "\r\n",
        "def message2():\r\n",
        "    print('B')\r\n",
        "    message1()\r\n",
        "\r\n",
        "message2()\r\n",
        "# BA"
      ],
      "execution_count": null,
      "outputs": [
        {
          "output_type": "stream",
          "text": [
            "B\n",
            "A\n"
          ],
          "name": "stdout"
        }
      ]
    },
    {
      "cell_type": "code",
      "metadata": {
        "colab": {
          "base_uri": "https://localhost:8080/"
        },
        "id": "89PyknfcEzPw",
        "outputId": "7dbc9fc8-0d17-4a40-de13-d819f9909083"
      },
      "source": [
        "# 210. 실행 결과 예측\r\n",
        "def message1():\r\n",
        "    print('A')\r\n",
        "\r\n",
        "def message2():\r\n",
        "    print('B')\r\n",
        "\r\n",
        "def message3():\r\n",
        "    for i in range(3):\r\n",
        "        message2()\r\n",
        "        print('C')\r\n",
        "    message1()\r\n",
        "\r\n",
        "message3()\r\n",
        "# BCBCBCA"
      ],
      "execution_count": null,
      "outputs": [
        {
          "output_type": "stream",
          "text": [
            "B\n",
            "C\n",
            "B\n",
            "C\n",
            "B\n",
            "C\n",
            "A\n"
          ],
          "name": "stdout"
        }
      ]
    },
    {
      "cell_type": "code",
      "metadata": {
        "colab": {
          "base_uri": "https://localhost:8080/"
        },
        "id": "97tHWpFeFRLp",
        "outputId": "42cd14ee-ab8f-4f2e-f8f6-5f666f4ef397"
      },
      "source": [
        "# 211. 호출 결과 예측\r\n",
        "def 함수(문자열):\r\n",
        "    print(문자열)\r\n",
        "\r\n",
        "함수('안녕')\r\n",
        "함수('Hi')\r\n",
        "\r\n",
        "# 안녕 Hi"
      ],
      "execution_count": null,
      "outputs": [
        {
          "output_type": "stream",
          "text": [
            "안녕\n",
            "Hi\n"
          ],
          "name": "stdout"
        }
      ]
    },
    {
      "cell_type": "code",
      "metadata": {
        "colab": {
          "base_uri": "https://localhost:8080/"
        },
        "id": "nfDMAF04Ez1Y",
        "outputId": "b6dcea21-53f8-4dba-a026-92214cd8327a"
      },
      "source": [
        "# 212. 호출 결과 예측\r\n",
        "def plus(a,b):\r\n",
        "    print(a+b)\r\n",
        "plus(3,4) ; plus(7,8)"
      ],
      "execution_count": null,
      "outputs": [
        {
          "output_type": "stream",
          "text": [
            "7\n",
            "15\n"
          ],
          "name": "stdout"
        }
      ]
    },
    {
      "cell_type": "code",
      "metadata": {
        "colab": {
          "base_uri": "https://localhost:8080/",
          "height": 223
        },
        "id": "1IdfL3M_Ez84",
        "outputId": "e0723cb9-7bd1-4888-8d59-5a4fc4ad8317"
      },
      "source": [
        "# 213. 에러 발생 원인 설명\r\n",
        "def 함수(문자열):\r\n",
        "    print(문자열)\r\n",
        "\r\n",
        "함수()\r\n",
        "# TypeError: 함수() missing 1 required positional argument: '문자열'\r\n",
        "# -> 함수()에 인자(파라미터)가 전달되지 않았기 때문.(함수의 정의와 다르게 함수를 호출하고 있다.)"
      ],
      "execution_count": null,
      "outputs": [
        {
          "output_type": "error",
          "ename": "TypeError",
          "evalue": "ignored",
          "traceback": [
            "\u001b[0;31m---------------------------------------------------------------------------\u001b[0m",
            "\u001b[0;31mTypeError\u001b[0m                                 Traceback (most recent call last)",
            "\u001b[0;32m<ipython-input-88-8f5ac3460933>\u001b[0m in \u001b[0;36m<module>\u001b[0;34m()\u001b[0m\n\u001b[1;32m      3\u001b[0m     \u001b[0mprint\u001b[0m\u001b[0;34m(\u001b[0m\u001b[0m문자열\u001b[0m\u001b[0;34m)\u001b[0m\u001b[0;34m\u001b[0m\u001b[0;34m\u001b[0m\u001b[0m\n\u001b[1;32m      4\u001b[0m \u001b[0;34m\u001b[0m\u001b[0m\n\u001b[0;32m----> 5\u001b[0;31m \u001b[0m함수\u001b[0m\u001b[0;34m(\u001b[0m\u001b[0;34m)\u001b[0m\u001b[0;34m\u001b[0m\u001b[0;34m\u001b[0m\u001b[0m\n\u001b[0m\u001b[1;32m      6\u001b[0m \u001b[0;31m# TypeError: 함수() missing 1 required positional argument: '문자열'\u001b[0m\u001b[0;34m\u001b[0m\u001b[0;34m\u001b[0m\u001b[0;34m\u001b[0m\u001b[0m\n",
            "\u001b[0;31mTypeError\u001b[0m: 함수() missing 1 required positional argument: '문자열'"
          ]
        }
      ]
    },
    {
      "cell_type": "code",
      "metadata": {
        "colab": {
          "base_uri": "https://localhost:8080/",
          "height": 330
        },
        "id": "Rbbulj5TE0p4",
        "outputId": "a5f3e5e3-015b-44fc-fce6-74c2ecd487b7"
      },
      "source": [
        "# 214. 에러 발생 원인 설명\r\n",
        "def fun(a,b):\r\n",
        "    print(a+b)\r\n",
        "\r\n",
        "fun('Hi',3)\r\n",
        "# can only concatenate str (not \"int\") to str\r\n",
        "# 데이터 타입이 달라 연산(덧셈) 불가."
      ],
      "execution_count": null,
      "outputs": [
        {
          "output_type": "error",
          "ename": "TypeError",
          "evalue": "ignored",
          "traceback": [
            "\u001b[0;31m---------------------------------------------------------------------------\u001b[0m",
            "\u001b[0;31mTypeError\u001b[0m                                 Traceback (most recent call last)",
            "\u001b[0;32m<ipython-input-89-3c95238ea65a>\u001b[0m in \u001b[0;36m<module>\u001b[0;34m()\u001b[0m\n\u001b[1;32m      3\u001b[0m     \u001b[0mprint\u001b[0m\u001b[0;34m(\u001b[0m\u001b[0ma\u001b[0m\u001b[0;34m+\u001b[0m\u001b[0mb\u001b[0m\u001b[0;34m)\u001b[0m\u001b[0;34m\u001b[0m\u001b[0;34m\u001b[0m\u001b[0m\n\u001b[1;32m      4\u001b[0m \u001b[0;34m\u001b[0m\u001b[0m\n\u001b[0;32m----> 5\u001b[0;31m \u001b[0mfun\u001b[0m\u001b[0;34m(\u001b[0m\u001b[0;34m'Hi'\u001b[0m\u001b[0;34m,\u001b[0m\u001b[0;36m3\u001b[0m\u001b[0;34m)\u001b[0m\u001b[0;34m\u001b[0m\u001b[0;34m\u001b[0m\u001b[0m\n\u001b[0m",
            "\u001b[0;32m<ipython-input-89-3c95238ea65a>\u001b[0m in \u001b[0;36mfun\u001b[0;34m(a, b)\u001b[0m\n\u001b[1;32m      1\u001b[0m \u001b[0;31m# 214. 에러 발생 원인 설명\u001b[0m\u001b[0;34m\u001b[0m\u001b[0;34m\u001b[0m\u001b[0;34m\u001b[0m\u001b[0m\n\u001b[1;32m      2\u001b[0m \u001b[0;32mdef\u001b[0m \u001b[0mfun\u001b[0m\u001b[0;34m(\u001b[0m\u001b[0ma\u001b[0m\u001b[0;34m,\u001b[0m\u001b[0mb\u001b[0m\u001b[0;34m)\u001b[0m\u001b[0;34m:\u001b[0m\u001b[0;34m\u001b[0m\u001b[0;34m\u001b[0m\u001b[0m\n\u001b[0;32m----> 3\u001b[0;31m     \u001b[0mprint\u001b[0m\u001b[0;34m(\u001b[0m\u001b[0ma\u001b[0m\u001b[0;34m+\u001b[0m\u001b[0mb\u001b[0m\u001b[0;34m)\u001b[0m\u001b[0;34m\u001b[0m\u001b[0;34m\u001b[0m\u001b[0m\n\u001b[0m\u001b[1;32m      4\u001b[0m \u001b[0;34m\u001b[0m\u001b[0m\n\u001b[1;32m      5\u001b[0m \u001b[0mfun\u001b[0m\u001b[0;34m(\u001b[0m\u001b[0;34m'Hi'\u001b[0m\u001b[0;34m,\u001b[0m\u001b[0;36m3\u001b[0m\u001b[0;34m)\u001b[0m\u001b[0;34m\u001b[0m\u001b[0;34m\u001b[0m\u001b[0m\n",
            "\u001b[0;31mTypeError\u001b[0m: can only concatenate str (not \"int\") to str"
          ]
        }
      ]
    },
    {
      "cell_type": "code",
      "metadata": {
        "colab": {
          "base_uri": "https://localhost:8080/"
        },
        "id": "22X9PDmJGhK9",
        "outputId": "465dc1b3-e9bd-4dca-8fa3-ba6ff3b284c4"
      },
      "source": [
        "# 215. 하나의 문자열을 입력받아 문자열 끝에 \":D\" 스마일 문자열을 이어 붙여 출력하는 print_with_smile 함수를 정의하라\r\n",
        "\r\n",
        "def print_with_smile(input_val):\r\n",
        "    print(input_val+':D')\r\n",
        "\r\n",
        "print_with_smile('lalalal')"
      ],
      "execution_count": null,
      "outputs": [
        {
          "output_type": "stream",
          "text": [
            "lalalal:D\n"
          ],
          "name": "stdout"
        }
      ]
    },
    {
      "cell_type": "code",
      "metadata": {
        "colab": {
          "base_uri": "https://localhost:8080/"
        },
        "id": "kboNeie5E0vL",
        "outputId": "105dfd45-c85c-47aa-84ed-940f024e103d"
      },
      "source": [
        "# 216. 215에서 정의한 함수 호출.(파라미터는 '안녕하세요'로 입력)\r\n",
        "print_with_smile('안녕하세요')"
      ],
      "execution_count": null,
      "outputs": [
        {
          "output_type": "stream",
          "text": [
            "안녕하세요:D\n"
          ],
          "name": "stdout"
        }
      ]
    },
    {
      "cell_type": "code",
      "metadata": {
        "id": "hjrZo_WaE0zI"
      },
      "source": [
        "# 217. 현재 가격을 입력 받아 상한가(30%) 출력하는 print_upper_price 함수 정의.\r\n",
        "def print_upper_price(num):\r\n",
        "    print(num*1.3)"
      ],
      "execution_count": null,
      "outputs": []
    },
    {
      "cell_type": "code",
      "metadata": {
        "id": "I8PJTMzuE02a"
      },
      "source": [
        "# 218. 두 개의 숫자를 입력받아 두 수의 합을 출력하는 print_sum 함수 정의\r\n",
        "def print_sum(a,b):\r\n",
        "    print(a+b)"
      ],
      "execution_count": null,
      "outputs": []
    },
    {
      "cell_type": "code",
      "metadata": {
        "colab": {
          "base_uri": "https://localhost:8080/"
        },
        "id": "yBWqtH01E05x",
        "outputId": "1fdb84de-9808-4e1d-f1be-4f6bf826d81e"
      },
      "source": [
        "# 219. 두 개의 숫자를 입력받아 합/차/곱/나눗셈을 출력하는 print_arithmetic_operation 함수를 작성.\r\n",
        "def print_arithmetic_operation(a,b):\r\n",
        "    a=int(a); b=int(b)\r\n",
        "\r\n",
        "    print(f'{a} + {b} = {a+b}')\r\n",
        "    print(f'{a} - {b} = {a-b}')\r\n",
        "    print(f'{a} * {b} = {a*b}')\r\n",
        "    print(f'{a} / {b} = {a/b}')\r\n",
        "\r\n",
        "print_arithmetic_operation(3,4)"
      ],
      "execution_count": null,
      "outputs": [
        {
          "output_type": "stream",
          "text": [
            "3 + 4 = 7\n",
            "3 - 4 = -1\n",
            "3 * 4 = 12\n",
            "3 / 4 = 0.75\n"
          ],
          "name": "stdout"
        }
      ]
    },
    {
      "cell_type": "code",
      "metadata": {
        "id": "8spW2sFbE09T"
      },
      "source": [
        "# 220.세 개의 숫자를 입력받아 가장 큰수를 출력하는 print_max 함수 정의. (단 if문을 사용해서 수를 비교.)\r\n",
        "def print_max(a,b,c):\r\n",
        "    max_val = 0\r\n",
        "    if a > max_val:\r\n",
        "        max_val = a\r\n",
        "    if b > max_val:\r\n",
        "        max_val = b\r\n",
        "    if c > max_val:\r\n",
        "        max_val=c\r\n",
        "    print(max_val)\r\n"
      ],
      "execution_count": null,
      "outputs": []
    },
    {
      "cell_type": "code",
      "metadata": {
        "colab": {
          "base_uri": "https://localhost:8080/"
        },
        "id": "uqplZdz2E1Ao",
        "outputId": "830bc161-e3ec-4c80-f83c-11744810be74"
      },
      "source": [
        "# 221. 입력된 문자열을 역순으로 출력하는 print_reverse 함수 정의\r\n",
        "def print_reverse(str):\r\n",
        "    print(str[::-1])\r\n",
        "\r\n",
        "print_reverse('python')"
      ],
      "execution_count": null,
      "outputs": [
        {
          "output_type": "stream",
          "text": [
            "nohtyp\n"
          ],
          "name": "stdout"
        }
      ]
    },
    {
      "cell_type": "code",
      "metadata": {
        "id": "Q0ogjiZOE1Di"
      },
      "source": [
        "# 222. 성적 리스트를 입력 받아 평균을 출력하는 print_score 함수 정의.\r\n",
        "def print_score(li):\r\n",
        "    print(sum(li)/len(li))"
      ],
      "execution_count": null,
      "outputs": []
    },
    {
      "cell_type": "code",
      "metadata": {
        "colab": {
          "base_uri": "https://localhost:8080/"
        },
        "id": "TgqgQJ6ME1Gs",
        "outputId": "406bfab7-1a22-4307-d8ad-0391e77cc252"
      },
      "source": [
        "# 223. 하나의 리스트를 입력받아 짝수만 화면에 출력하는 print_even 함수 정의\r\n",
        "def print_even(li):\r\n",
        "    print([i for i in li if i%2==0])\r\n",
        "\r\n",
        "# >>>답안 코드<<<\r\n",
        "# def print_even(my_list):\r\n",
        "    # for v in my_list:\r\n",
        "    #     if v%2 == 0:\r\n",
        "    #         print(v)"
      ],
      "execution_count": null,
      "outputs": [
        {
          "output_type": "stream",
          "text": [
            "[10, 22]\n"
          ],
          "name": "stdout"
        }
      ]
    },
    {
      "cell_type": "code",
      "metadata": {
        "colab": {
          "base_uri": "https://localhost:8080/"
        },
        "id": "VIbSskXUE1Ji",
        "outputId": "05b5810c-c4ed-4f1e-c581-c50322c7a670"
      },
      "source": [
        "# 224. 하나의 딕셔너리를 입력받아 딕셔너리의 key값을 화면에 출력하는 print_keys 함수를 정의하라.\r\n",
        "def print_keys(di1):\r\n",
        "    for keys in di1.keys():\r\n",
        "        print(keys)\r\n",
        "\r\n",
        "print_keys({'1번':100,'2번':200})"
      ],
      "execution_count": null,
      "outputs": [
        {
          "output_type": "stream",
          "text": [
            "1번\n",
            "2번\n"
          ],
          "name": "stdout"
        }
      ]
    },
    {
      "cell_type": "code",
      "metadata": {
        "colab": {
          "base_uri": "https://localhost:8080/"
        },
        "id": "q4Oo2GWVE1M2",
        "outputId": "cd9146cf-af20-4307-c9b4-9aec1d491d5c"
      },
      "source": [
        "# 225. my_dict에는 날짜를 키값으로 ohlc가 리스트로 저장돼 있다.\r\n",
        "# my_dict와 날짜 키값을 입력받아 OHLC 리스트를 출력하는 print_value_by_key 함수를 정의하라.\r\n",
        "my_dict={'10/26':[100,130,100,100], '10/27':[10,12,10,11]}\r\n",
        "def print_value_by_key(d1, keys):\r\n",
        "    print(d1[keys])\r\n",
        "\r\n",
        "print_value_by_key(my_dict, '10/26')"
      ],
      "execution_count": null,
      "outputs": [
        {
          "output_type": "stream",
          "text": [
            "[100, 130, 100, 100]\n"
          ],
          "name": "stdout"
        }
      ]
    },
    {
      "cell_type": "code",
      "metadata": {
        "colab": {
          "base_uri": "https://localhost:8080/"
        },
        "id": "OMhZBq0JE1P6",
        "outputId": "be64a9c4-60bc-4f38-b63c-2a7353b8aa05"
      },
      "source": [
        "# 226. 입력 문자열을 한 줄에 다섯글자씩 출력하는 print_5xn(string) 함수를 작성.\r\n",
        "def print_5xn(str1):\r\n",
        "    nums = int(len(str1)/5)\r\n",
        "    for n in range(nums+1):\r\n",
        "        print(str1[n*5:n*5+5])\r\n",
        "\r\n",
        "print_5xn(\"아이엠어보이유알어걸\")"
      ],
      "execution_count": null,
      "outputs": [
        {
          "output_type": "stream",
          "text": [
            "아이엠어보\n",
            "이유알어걸\n",
            "\n"
          ],
          "name": "stdout"
        }
      ]
    },
    {
      "cell_type": "code",
      "metadata": {
        "colab": {
          "base_uri": "https://localhost:8080/"
        },
        "id": "O-79nEBIE1S6",
        "outputId": "c1f435fb-37c0-4b35-f1c3-1a535da49165"
      },
      "source": [
        "# 227. 문자열과 한줄에 출력될 글자 수를 입력받아 한 줄에 입력된 글자 수만큼 출력하는 print_mxn(string) 함수를 출력\r\n",
        "def print_mxn(strg, nums):\r\n",
        "    num = int(len(strg)/nums)\r\n",
        "    for n in range(num+1):\r\n",
        "        print(strg[n*nums : n*nums+nums])\r\n",
        "\r\n",
        "print_mxn(str1,4)"
      ],
      "execution_count": null,
      "outputs": [
        {
          "output_type": "stream",
          "text": [
            "아이엠어\n",
            "보이유알\n",
            "어걸\n"
          ],
          "name": "stdout"
        }
      ]
    },
    {
      "cell_type": "code",
      "metadata": {
        "colab": {
          "base_uri": "https://localhost:8080/"
        },
        "id": "i9SAOhAdE1Wc",
        "outputId": "c52609bc-b7fd-4023-b0e2-fc16dee2f14e"
      },
      "source": [
        "# 228. 연봉을 입력받아 월급을 계산하는 calc_monthly_salary(annual_salary) 함수를 정의하라. 회사는 연봉을 12개월로 나누어 분할 지급하며, 이 때 1원 미만은 버림한다.\r\n",
        "# def calc_monthly_salary(annual_salary):\r\n",
        "#     print(round(annual_salary/12))\r\n",
        "\r\n",
        "# >>>정답 코드<<<\r\n",
        "def calc_monthly_salary(annual_salary):\r\n",
        "    monthly_pay = int(annual_salary/12)\r\n",
        "    return monthly_pay\r\n",
        "calc_monthly_salary(2333300)"
      ],
      "execution_count": null,
      "outputs": [
        {
          "output_type": "execute_result",
          "data": {
            "text/plain": [
              "194441"
            ]
          },
          "metadata": {
            "tags": []
          },
          "execution_count": 150
        }
      ]
    },
    {
      "cell_type": "code",
      "metadata": {
        "colab": {
          "base_uri": "https://localhost:8080/"
        },
        "id": "1SfLNkPUE1Zo",
        "outputId": "cc3b47f7-5eb8-4fa8-bbe4-d47b45f89b0b"
      },
      "source": [
        "# 229. 실행 결과 예측\r\n",
        "def my_print(a,b):\r\n",
        "    print('왼쪽',a)\r\n",
        "    print('오른쪽',b)\r\n",
        "\r\n",
        "my_print(a=100,b=200)\r\n",
        "# 왼쪽 100 오른쪽 200"
      ],
      "execution_count": null,
      "outputs": [
        {
          "output_type": "stream",
          "text": [
            "왼쪽 100\n",
            "오른쪽 200\n"
          ],
          "name": "stdout"
        }
      ]
    },
    {
      "cell_type": "code",
      "metadata": {
        "colab": {
          "base_uri": "https://localhost:8080/"
        },
        "id": "7JsSqYyJE1cb",
        "outputId": "3f191b1c-a198-476b-d50d-6a10e67fa8b3"
      },
      "source": [
        "# 230. 실행 결과 예측\r\n",
        "def my_print(a,b):\r\n",
        "    print('left',a)\r\n",
        "    print('right',b)\r\n",
        "\r\n",
        "my_print(b=100,a=200)\r\n",
        "# left 200 right 100"
      ],
      "execution_count": null,
      "outputs": [
        {
          "output_type": "stream",
          "text": [
            "left 200\n",
            "right 100\n"
          ],
          "name": "stdout"
        }
      ]
    },
    {
      "cell_type": "markdown",
      "metadata": {
        "id": "AzJwJK9BU1rf"
      },
      "source": [
        "### 1) return"
      ]
    },
    {
      "cell_type": "code",
      "metadata": {
        "colab": {
          "base_uri": "https://localhost:8080/",
          "height": 241
        },
        "id": "-boeEcdDE1fi",
        "outputId": "a911660f-91a2-4506-f438-3b8dd868a85a"
      },
      "source": [
        "# 231. 실행 결과 예측\r\n",
        "def n_plus_1(n):\r\n",
        "    result = n+1\r\n",
        "\r\n",
        "n_plus_1(3) \r\n",
        "print(result)\r\n",
        "\r\n",
        "# 출력 안된다. print 또는 return 구문이 없기 때문\r\n",
        "# 함수 내부에서 사용한 변수는 함수 밖에서 접근이 불가능. 그러므로 함수 내부에서 계산한 값을 전달하기 위해서는 return을 사용해야한다."
      ],
      "execution_count": null,
      "outputs": [
        {
          "output_type": "error",
          "ename": "NameError",
          "evalue": "ignored",
          "traceback": [
            "\u001b[0;31m---------------------------------------------------------------------------\u001b[0m",
            "\u001b[0;31mNameError\u001b[0m                                 Traceback (most recent call last)",
            "\u001b[0;32m<ipython-input-157-356cf6327be9>\u001b[0m in \u001b[0;36m<module>\u001b[0;34m()\u001b[0m\n\u001b[1;32m      4\u001b[0m \u001b[0;34m\u001b[0m\u001b[0m\n\u001b[1;32m      5\u001b[0m \u001b[0mn_plus_1\u001b[0m\u001b[0;34m(\u001b[0m\u001b[0;36m3\u001b[0m\u001b[0;34m)\u001b[0m\u001b[0;34m\u001b[0m\u001b[0;34m\u001b[0m\u001b[0m\n\u001b[0;32m----> 6\u001b[0;31m \u001b[0mprint\u001b[0m\u001b[0;34m(\u001b[0m\u001b[0mresult\u001b[0m\u001b[0;34m)\u001b[0m\u001b[0;34m\u001b[0m\u001b[0;34m\u001b[0m\u001b[0m\n\u001b[0m\u001b[1;32m      7\u001b[0m \u001b[0;34m\u001b[0m\u001b[0m\n\u001b[1;32m      8\u001b[0m \u001b[0;31m# 출력 안된다. print 또는 return 구문이 없기 때문\u001b[0m\u001b[0;34m\u001b[0m\u001b[0;34m\u001b[0m\u001b[0;34m\u001b[0m\u001b[0m\n",
            "\u001b[0;31mNameError\u001b[0m: name 'result' is not defined"
          ]
        }
      ]
    },
    {
      "cell_type": "code",
      "metadata": {
        "colab": {
          "base_uri": "https://localhost:8080/"
        },
        "id": "tsptmWHuUe3r",
        "outputId": "b42fd3f8-c12c-4b48-870d-e4654d9d05e3"
      },
      "source": [
        "# 232. 문자열 하나를 입력받아 인터넷 주소를 반환하는 make_url 함수를 정의.\r\n",
        "def make_url(string):\r\n",
        "    print('www.'+string+'.com')\r\n",
        "\r\n",
        "# >>>답안<<<\r\n",
        "def make_url(string):\r\n",
        "    return 'www.'+string+'.com'\r\n",
        "    \r\n",
        "make_url('naver')"
      ],
      "execution_count": null,
      "outputs": [
        {
          "output_type": "stream",
          "text": [
            "www.naver.com\n"
          ],
          "name": "stdout"
        }
      ]
    },
    {
      "cell_type": "code",
      "metadata": {
        "colab": {
          "base_uri": "https://localhost:8080/"
        },
        "id": "ulVJygLnVN4P",
        "outputId": "79608f4a-f310-4468-c24e-fbc31c421580"
      },
      "source": [
        "# 233. 문자열을 입력받아 각 문자들로 구성된 리스트로 반환하는 make_list 함수 정의\r\n",
        "def make_list(string):\r\n",
        "    my_list = [i for i in string]\r\n",
        "    return my_list\r\n",
        "\r\n",
        "make_list('abcd')"
      ],
      "execution_count": null,
      "outputs": [
        {
          "output_type": "execute_result",
          "data": {
            "text/plain": [
              "['a', 'b', 'c', 'd']"
            ]
          },
          "metadata": {
            "tags": []
          },
          "execution_count": 164
        }
      ]
    },
    {
      "cell_type": "code",
      "metadata": {
        "colab": {
          "base_uri": "https://localhost:8080/"
        },
        "id": "WrOvEKTLWvX2",
        "outputId": "da596ce8-9402-45ad-d825-02c766bda637"
      },
      "source": [
        "# 234. 숫자로 구성된 하나의 리스트를 입력받아, 짝수들을 추출하여 리스트로 반환하는 pickup_even()함수 구현\r\n",
        "def pickup_even(li):\r\n",
        "    even = [i for i in li if i%2==0]\r\n",
        "    return even\r\n",
        "\r\n",
        "\r\n",
        "# >>>답안<<<\r\n",
        "# def pickup_even(items):\r\n",
        "#     result = []\r\n",
        "#     for item in items:\r\n",
        "#         if item%2==0:\r\n",
        "#             result.append(item)\r\n",
        "#     return result\r\n",
        "\r\n",
        "pickup_even([10,20,33,55])"
      ],
      "execution_count": null,
      "outputs": [
        {
          "output_type": "execute_result",
          "data": {
            "text/plain": [
              "[10, 20]"
            ]
          },
          "metadata": {
            "tags": []
          },
          "execution_count": 166
        }
      ]
    },
    {
      "cell_type": "code",
      "metadata": {
        "colab": {
          "base_uri": "https://localhost:8080/"
        },
        "id": "c4f9pLheYMrd",
        "outputId": "e84bdc39-8345-414a-db1d-df35792bf713"
      },
      "source": [
        "# 235. 콤마가 포함된 문자열 숫자를 입력받아 정수로 변환하는 convert_int 함수 정의\r\n",
        "def convert_int(string):\r\n",
        "    results = int(string.replace(',',''))\r\n",
        "    return results\r\n",
        "\r\n",
        "# >>>답안<<<\r\n",
        "def convert_int(string):\r\n",
        "    return int(string.replace(',',''))\r\n",
        "\r\n",
        "convert_int('122,333,400')"
      ],
      "execution_count": null,
      "outputs": [
        {
          "output_type": "execute_result",
          "data": {
            "text/plain": [
              "122333400"
            ]
          },
          "metadata": {
            "tags": []
          },
          "execution_count": 171
        }
      ]
    },
    {
      "cell_type": "code",
      "metadata": {
        "colab": {
          "base_uri": "https://localhost:8080/"
        },
        "id": "WaMhkAa3XgwK",
        "outputId": "ddfabf01-ed33-47ba-9e52-78826d4be5ae"
      },
      "source": [
        "# 236. 실행 결과 예측\r\n",
        "def fun(num):\r\n",
        "    return num+4\r\n",
        "\r\n",
        "a=fun(10) # 14\r\n",
        "b=fun(a)  # 18\r\n",
        "c=fun(b)  # 22\r\n",
        "\r\n",
        "print(c)"
      ],
      "execution_count": null,
      "outputs": [
        {
          "output_type": "stream",
          "text": [
            "22\n"
          ],
          "name": "stdout"
        }
      ]
    },
    {
      "cell_type": "code",
      "metadata": {
        "colab": {
          "base_uri": "https://localhost:8080/"
        },
        "id": "-PI5ALvCYITF",
        "outputId": "79679d2a-80f4-48a4-8f7b-0eae589d4cc0"
      },
      "source": [
        "# 237.실행 결과 예측\r\n",
        "def fun(num):\r\n",
        "    return num+4\r\n",
        "\r\n",
        "c = fun(fun(fun(10))) # 22\r\n",
        "print(c)"
      ],
      "execution_count": null,
      "outputs": [
        {
          "output_type": "stream",
          "text": [
            "22\n"
          ],
          "name": "stdout"
        }
      ]
    },
    {
      "cell_type": "code",
      "metadata": {
        "colab": {
          "base_uri": "https://localhost:8080/"
        },
        "id": "AAg1ki16ZKCz",
        "outputId": "5eadd437-6b2f-48dc-f8a1-c08bf97d2d96"
      },
      "source": [
        "# 238. 실행 결과 예측\r\n",
        "def fun1(num):\r\n",
        "    return num+4\r\n",
        "\r\n",
        "def fun2(num):\r\n",
        "    return num*10\r\n",
        "\r\n",
        "a=fun1(10) #14\r\n",
        "c=fun2(a)  #140\r\n",
        "print(c)   #140"
      ],
      "execution_count": null,
      "outputs": [
        {
          "output_type": "stream",
          "text": [
            "140\n"
          ],
          "name": "stdout"
        }
      ]
    },
    {
      "cell_type": "markdown",
      "metadata": {
        "id": "ifOfDSHua0LC"
      },
      "source": [
        "### 2) 중첩 함수"
      ]
    },
    {
      "cell_type": "code",
      "metadata": {
        "colab": {
          "base_uri": "https://localhost:8080/"
        },
        "id": "q41aMLqbZcgj",
        "outputId": "68548ed8-495a-4460-c04b-775d82b91821"
      },
      "source": [
        "# 239. 실행 결과 예측(중첩함수)\r\n",
        "def fun1(num):\r\n",
        "    return num+4\r\n",
        "\r\n",
        "def fun2(num):\r\n",
        "    num +=2\r\n",
        "    return fun1(num)\r\n",
        "\r\n",
        "c=fun2(10)\r\n",
        "print(c)  # 16"
      ],
      "execution_count": null,
      "outputs": [
        {
          "output_type": "stream",
          "text": [
            "16\n"
          ],
          "name": "stdout"
        }
      ]
    },
    {
      "cell_type": "code",
      "metadata": {
        "colab": {
          "base_uri": "https://localhost:8080/"
        },
        "id": "aiZoaWnxaPqn",
        "outputId": "7b29131a-2ef2-4895-c2e0-6a6442b715c9"
      },
      "source": [
        "# 240. 실행 결과 예측\r\n",
        "def fun0(num):\r\n",
        "    return num*2\r\n",
        "\r\n",
        "def fun1(num):\r\n",
        "    return fun0(num+2)\r\n",
        "\r\n",
        "def fun2(num):\r\n",
        "    num += 10\r\n",
        "    return fun1(num)\r\n",
        "\r\n",
        "c=fun2(2)\r\n",
        "print(c) # 28"
      ],
      "execution_count": null,
      "outputs": [
        {
          "output_type": "stream",
          "text": [
            "28\n"
          ],
          "name": "stdout"
        }
      ]
    },
    {
      "cell_type": "markdown",
      "metadata": {
        "id": "HPdJZ4i4areI"
      },
      "source": [
        "## 10 모듈(241~250)\r\n",
        "---\r\n",
        "* 모듈은 **파이썬 파일**을 의미한다.\r\n",
        "* 파이썬은 분야별 다양한 모듈을 제공.\r\n",
        "* 프로그램구현에 필요한 모듈의 기초 사용법 학습."
      ]
    },
    {
      "cell_type": "code",
      "metadata": {
        "colab": {
          "base_uri": "https://localhost:8080/"
        },
        "id": "4t-1HL3sbn6N",
        "outputId": "f1ae5e81-183f-495b-ad3b-db56576b8852"
      },
      "source": [
        "# 241.현재시간 (datetime 모듈을 사용해 현재 시간을 화면에 출력)\r\n",
        "from datetime import datetime\r\n",
        "datetime.now()\r\n",
        "\r\n",
        "# >>>답안<<<\r\n",
        "# import datetime\r\n",
        "# datetime.datetime.now()"
      ],
      "execution_count": null,
      "outputs": [
        {
          "output_type": "execute_result",
          "data": {
            "text/plain": [
              "datetime.datetime(2021, 3, 11, 8, 44, 6, 58337)"
            ]
          },
          "metadata": {
            "tags": []
          },
          "execution_count": 185
        }
      ]
    },
    {
      "cell_type": "code",
      "metadata": {
        "colab": {
          "base_uri": "https://localhost:8080/"
        },
        "id": "2jbOhsXMcCpX",
        "outputId": "da3ded35-2071-4960-d5b4-48381c7c9ed1"
      },
      "source": [
        "# 242. 현재시간의 타입 (datetime모듈의 now 함수 리턴값 타입 출력)\r\n",
        "type(datetime.now())\r\n",
        "\r\n",
        "# >>>답안<<<\r\n",
        "# import datetime\r\n",
        "# now = datetime.datetime.now()\r\n",
        "# print(now, type(now))"
      ],
      "execution_count": null,
      "outputs": [
        {
          "output_type": "execute_result",
          "data": {
            "text/plain": [
              "datetime.datetime"
            ]
          },
          "metadata": {
            "tags": []
          },
          "execution_count": 187
        }
      ]
    },
    {
      "cell_type": "code",
      "metadata": {
        "colab": {
          "base_uri": "https://localhost:8080/"
        },
        "id": "GaCa7HnjdfE7",
        "outputId": "b67a4625-c34b-4399-f4f4-0588e596199e"
      },
      "source": [
        "# 243. (timedelta) datetime 모듈의 timedelta를 사용해 오늘부터 -5 ~ -1일 까지의 날짜 출력\r\n",
        "import datetime\r\n",
        "now = datetime.datetime.now()\r\n",
        "\r\n",
        "for day in range(5,0,-1):\r\n",
        "    delta = datetime.timedelta(days=day)\r\n",
        "    date= now-delta\r\n",
        "    print(date)"
      ],
      "execution_count": null,
      "outputs": [
        {
          "output_type": "stream",
          "text": [
            "2021-03-06 08:48:51.861242\n",
            "2021-03-07 08:48:51.861242\n",
            "2021-03-08 08:48:51.861242\n",
            "2021-03-09 08:48:51.861242\n",
            "2021-03-10 08:48:51.861242\n"
          ],
          "name": "stdout"
        }
      ]
    },
    {
      "cell_type": "code",
      "metadata": {
        "colab": {
          "base_uri": "https://localhost:8080/",
          "height": 34
        },
        "id": "pCpQ3q0OeY8i",
        "outputId": "41b431ea-fee9-49d4-eb1e-dbaf4cccfa29"
      },
      "source": [
        "# 244. (strftime) 현재 시간을 얻어온 후 다음과 같은 포맷으로 시간을 출력해보자.  18:35:01\r\n",
        "import datetime\r\n",
        "now = datetime.datetime.now()\r\n",
        "now.strftime(\"%H:%M:%S\")"
      ],
      "execution_count": 1,
      "outputs": [
        {
          "output_type": "execute_result",
          "data": {
            "application/vnd.google.colaboratory.intrinsic+json": {
              "type": "string"
            },
            "text/plain": [
              "'23:41:24'"
            ]
          },
          "metadata": {
            "tags": []
          },
          "execution_count": 1
        }
      ]
    },
    {
      "cell_type": "code",
      "metadata": {
        "colab": {
          "base_uri": "https://localhost:8080/"
        },
        "id": "2Nafey9if11K",
        "outputId": "f72ca1ff-3bd1-44a6-ff3b-74e6321b73b6"
      },
      "source": [
        "# 245. strptime\r\n",
        "# datetime.datetime.strptime 메서드를 사용하면 문자열 형식의 시간을 datetime.datetime 타입의 시간 값으로 만들어 준다. \r\n",
        "# '2020-05-04'의 문자열을 시간 타입으로 변환\r\n",
        "day='2020-05-04'\r\n",
        "ret = datetime.datetime.strptime(day,'%Y-%m-%d')\r\n",
        "print(ret,type(ret))"
      ],
      "execution_count": null,
      "outputs": [
        {
          "output_type": "stream",
          "text": [
            "2020-05-04 00:00:00 <class 'datetime.datetime'>\n"
          ],
          "name": "stdout"
        }
      ]
    },
    {
      "cell_type": "code",
      "metadata": {
        "colab": {
          "base_uri": "https://localhost:8080/",
          "height": 330
        },
        "id": "LGyvM5n_qWdS",
        "outputId": "27122d77-4c9b-4b85-e926-aebed44b3668"
      },
      "source": [
        "# 246. sleep 모듈\r\n",
        "# time, datetime 모듈을 사용해 1초에 한 번 현재 시간을 출력하는 코드  생성.\r\n",
        "import time\r\n",
        "import datetime\r\n",
        "\r\n",
        "while True:\r\n",
        "    now = datetime.datetime.now()\r\n",
        "    print(now)\r\n",
        "    time.sleep(1)\r\n",
        "    "
      ],
      "execution_count": 9,
      "outputs": [
        {
          "output_type": "stream",
          "text": [
            "2021-03-12 00:07:32.720258\n",
            "2021-03-12 00:07:33.722881\n",
            "2021-03-12 00:07:34.724190\n",
            "2021-03-12 00:07:35.725530\n",
            "2021-03-12 00:07:36.726821\n",
            "2021-03-12 00:07:37.728108\n"
          ],
          "name": "stdout"
        },
        {
          "output_type": "error",
          "ename": "KeyboardInterrupt",
          "evalue": "ignored",
          "traceback": [
            "\u001b[0;31m---------------------------------------------------------------------------\u001b[0m",
            "\u001b[0;31mKeyboardInterrupt\u001b[0m                         Traceback (most recent call last)",
            "\u001b[0;32m<ipython-input-9-02d8ac3a7418>\u001b[0m in \u001b[0;36m<module>\u001b[0;34m()\u001b[0m\n\u001b[1;32m      7\u001b[0m     \u001b[0mnow\u001b[0m \u001b[0;34m=\u001b[0m \u001b[0mdatetime\u001b[0m\u001b[0;34m.\u001b[0m\u001b[0mdatetime\u001b[0m\u001b[0;34m.\u001b[0m\u001b[0mnow\u001b[0m\u001b[0;34m(\u001b[0m\u001b[0;34m)\u001b[0m\u001b[0;34m\u001b[0m\u001b[0;34m\u001b[0m\u001b[0m\n\u001b[1;32m      8\u001b[0m     \u001b[0mprint\u001b[0m\u001b[0;34m(\u001b[0m\u001b[0mnow\u001b[0m\u001b[0;34m)\u001b[0m\u001b[0;34m\u001b[0m\u001b[0;34m\u001b[0m\u001b[0m\n\u001b[0;32m----> 9\u001b[0;31m     \u001b[0mtime\u001b[0m\u001b[0;34m.\u001b[0m\u001b[0msleep\u001b[0m\u001b[0;34m(\u001b[0m\u001b[0;36m1\u001b[0m\u001b[0;34m)\u001b[0m\u001b[0;34m\u001b[0m\u001b[0;34m\u001b[0m\u001b[0m\n\u001b[0m\u001b[1;32m     10\u001b[0m \u001b[0;34m\u001b[0m\u001b[0m\n",
            "\u001b[0;31mKeyboardInterrupt\u001b[0m: "
          ]
        }
      ]
    },
    {
      "cell_type": "code",
      "metadata": {
        "id": "DIze9Sunwpzq"
      },
      "source": [
        "# 247. 모듈 임포트.\r\n",
        "#  모듈을 임포트하는 4가지 방식 설명하기.\r\n",
        "\r\n",
        "import os                # os.rename()\r\n",
        "from os import rename    # rename\r\n",
        "from os import *         # getcwd(), rename()... \r\n",
        "import os as my_os       # my_os.getcwd()"
      ],
      "execution_count": null,
      "outputs": []
    },
    {
      "cell_type": "code",
      "metadata": {
        "colab": {
          "base_uri": "https://localhost:8080/",
          "height": 34
        },
        "id": "GGIw549vxSXs",
        "outputId": "6e1ee754-5e54-4e35-979c-d4afe263ffb4"
      },
      "source": [
        "# 248. os 모듈\r\n",
        "# os 모듈의 getcwd 함수를 호출해 현재 디렉터리 경로를 화면에 출력\r\n",
        "import os\r\n",
        "os.getcwd()"
      ],
      "execution_count": 10,
      "outputs": [
        {
          "output_type": "execute_result",
          "data": {
            "application/vnd.google.colaboratory.intrinsic+json": {
              "type": "string"
            },
            "text/plain": [
              "'/content'"
            ]
          },
          "metadata": {
            "tags": []
          },
          "execution_count": 10
        }
      ]
    },
    {
      "cell_type": "code",
      "metadata": {
        "id": "r9_aEg1lxdMl"
      },
      "source": [
        "# 249. rename 함수\r\n",
        "# 바탕화면에 텍스트 파일 하나 생성한 후 os 모듈의 rename 함수를 호출해 해당 파일의 이름 변경.\r\n",
        "\r\n",
        "# import os\r\n",
        "# os.rename('경로/원래파일명.txt','경로/바꿀파일명.txt')"
      ],
      "execution_count": null,
      "outputs": []
    },
    {
      "cell_type": "code",
      "metadata": {
        "colab": {
          "base_uri": "https://localhost:8080/"
        },
        "id": "2UDvCU1Rxy4e",
        "outputId": "b7db7ece-c012-495a-f18e-ec85ac3f02a6"
      },
      "source": [
        "# 250 numpy\r\n",
        "# numpy 모듈의 arange 함수를 사용해 0.0부터 0.5까지 0.1씩 증가하는 값을 화면에 출력.\r\n",
        "import numpy as np\r\n",
        "np.arange(0 ,5 ,0.1)\r\n",
        "\r\n",
        "# >>>답안<<<\r\n",
        "# for i in np.arange(0, 5, 0.1):\r\n",
        "#     print(i)\r\n"
      ],
      "execution_count": 20,
      "outputs": [
        {
          "output_type": "execute_result",
          "data": {
            "text/plain": [
              "array([0. , 0.1, 0.2, 0.3, 0.4, 0.5, 0.6, 0.7, 0.8, 0.9, 1. , 1.1, 1.2,\n",
              "       1.3, 1.4, 1.5, 1.6, 1.7, 1.8, 1.9, 2. , 2.1, 2.2, 2.3, 2.4, 2.5,\n",
              "       2.6, 2.7, 2.8, 2.9, 3. , 3.1, 3.2, 3.3, 3.4, 3.5, 3.6, 3.7, 3.8,\n",
              "       3.9, 4. , 4.1, 4.2, 4.3, 4.4, 4.5, 4.6, 4.7, 4.8, 4.9])"
            ]
          },
          "metadata": {
            "tags": []
          },
          "execution_count": 20
        }
      ]
    },
    {
      "cell_type": "markdown",
      "metadata": {
        "id": "6XSWdQt7x63Y"
      },
      "source": [
        "## 11 클래스(251~290) *\r\n",
        "---\r\n",
        "* 파이썬 클래스는 **타입**을 만들어내는 도구이다.</br>\r\n",
        "* int, float, str과 같이 새로운 타입을 만들 수 있다.\r\n",
        "> (참고) [점프투파이썬](https://wikidocs.net/28) - '클래스'"
      ]
    },
    {
      "cell_type": "code",
      "metadata": {
        "id": "OazAowkgzWAf"
      },
      "source": [
        "# 251. 클래스, 객체, 인스턴스에 대해 설명\r\n",
        "'''\r\n",
        "클래스   : 객체 생성을 위한 설계도.\r\n",
        "객체     : 클래스를 통해 생성한 것.\r\n",
        "인스턴스 : 객체내에서 생성된 변수로 그 객체가 소유한 변수\r\n",
        "'''\r\n",
        "\r\n",
        "# => 클래스를 활용해 만든 객체들은 서로 전혀 영향을 주지 않는다.\r\n",
        "\r\n",
        "## [객체와 인스턴스의 차이]\r\n",
        "'''\r\n",
        "클래스로 만든 객체를 인스턴스라 한다. 그렇다면 객체와 인스턴스의 차이는 무엇인가?\r\n",
        "\r\n",
        "a = Cookie()일때, a는 객체이다.\r\n",
        "a 객체는 Cookie의 인스턴스이다. \r\n",
        "즉, 인스턴스라는 말은 특정 객체(a)가 어떤 클래스(Cookie)의 객체인지를 관계 위주로 설명할 때 사용한다. \r\n",
        "따라서 'a는 객체', 'a는 Cookie의 인스턴스라는 표현이 잘 어울린다. '\r\n",
        "'''"
      ],
      "execution_count": null,
      "outputs": []
    },
    {
      "cell_type": "code",
      "metadata": {
        "colab": {
          "base_uri": "https://localhost:8080/"
        },
        "id": "UqaFF3dJ0Ntm",
        "outputId": "9b834d2d-8694-4d60-f940-4406a12631b5"
      },
      "source": [
        "# 클래스 예시(계산기의 더하기 구현)\r\n",
        "result = 0 \r\n",
        "\r\n",
        "def add(num):\r\n",
        "    global result\r\n",
        "    result += num\r\n",
        "    return result\r\n",
        "\r\n",
        "print(add(3))\r\n",
        "print(add(4))\r\n",
        "\r\n",
        "\r\n",
        "# 클래스로 구현\r\n",
        "\r\n",
        "class Calc:\r\n",
        "    def __init__(self):   \r\n",
        "        self.result = 0    # 객체 초기화\r\n",
        "\r\n",
        "    def add(self, num):     # 기능 정의\r\n",
        "        self.result += num \r\n",
        "        return self.result\r\n",
        "cal1 = Calc()\r\n",
        "cal2 = Calc()\r\n",
        "\r\n",
        "print(cal1.add(2))\r\n",
        "print(cal1.add(6))\r\n",
        "\r\n",
        "print(cal2.add(4))\r\n",
        "print(cal2.add(7))\r\n"
      ],
      "execution_count": 44,
      "outputs": [
        {
          "output_type": "stream",
          "text": [
            "3\n",
            "7\n",
            "2\n",
            "8\n",
            "4\n",
            "11\n"
          ],
          "name": "stdout"
        }
      ]
    },
    {
      "cell_type": "code",
      "metadata": {
        "id": "meeABUJt4x9i"
      },
      "source": [
        "# 252. 클래스 정의\r\n",
        "# 비어있는 사람(Human) 클래스를 정의.\r\n",
        "\r\n",
        "# class Human:\r\n",
        "#     __init__(self):\r\n",
        "#     self\r\n",
        "\r\n",
        "# >>>답안<<<<\r\n",
        "class Human:\r\n",
        "    pass"
      ],
      "execution_count": 50,
      "outputs": []
    },
    {
      "cell_type": "code",
      "metadata": {
        "id": "okZS3CBJ5NCb"
      },
      "source": [
        "# 253. 인스턴스 생성\r\n",
        "# Human 클래스의 인스턴스를 생성하고 이를 areum 변수로 바인딩.\r\n",
        "class Human:\r\n",
        "    pass\r\n",
        "\r\n",
        "areum = Human()        "
      ],
      "execution_count": 51,
      "outputs": []
    },
    {
      "cell_type": "code",
      "metadata": {
        "colab": {
          "base_uri": "https://localhost:8080/"
        },
        "id": "iEyMPTTm5m09",
        "outputId": "c25c1dc7-ac2f-4298-d52f-fd6ca33268a5"
      },
      "source": [
        "# 254. 클래스 생성자 -1\r\n",
        "# Humna 클래스에서 '응애응애'를 출력하는 생성자 출력\r\n",
        "# class Human:\r\n",
        "#     print('응애응애')\r\n",
        "\r\n",
        "# areum = Human()\r\n",
        "\r\n",
        "\r\n",
        "# >>>답안<<<\r\n",
        "class Human:\r\n",
        "    def __init__(self):\r\n",
        "        print('응애응애')\r\n",
        "\r\n",
        "areum = Human()"
      ],
      "execution_count": 53,
      "outputs": [
        {
          "output_type": "stream",
          "text": [
            "응애응애\n"
          ],
          "name": "stdout"
        }
      ]
    },
    {
      "cell_type": "code",
      "metadata": {
        "colab": {
          "base_uri": "https://localhost:8080/",
          "height": 34
        },
        "id": "x9Gho_TV6Evv",
        "outputId": "5df33958-f46f-44f6-813d-6c3829a944fc"
      },
      "source": [
        "# 255. 클래스 생성자 -2\r\n",
        "# Human 클래스에 (이름,나이,성별)을 받는 생성자 추가\r\n",
        "# 예시) areum = Human('아름',25,'여자')\r\n",
        "\r\n",
        "class Human:\r\n",
        "    def __init__(self, name, age, sex):\r\n",
        "        self.name = name\r\n",
        "        self.age = age\r\n",
        "        self.sex = sex\r\n",
        "\r\n",
        "areum = Human('아름', 25,'여자')\r\n",
        "areum.name    "
      ],
      "execution_count": 56,
      "outputs": [
        {
          "output_type": "execute_result",
          "data": {
            "application/vnd.google.colaboratory.intrinsic+json": {
              "type": "string"
            },
            "text/plain": [
              "'아름'"
            ]
          },
          "metadata": {
            "tags": []
          },
          "execution_count": 56
        }
      ]
    },
    {
      "cell_type": "code",
      "metadata": {
        "colab": {
          "base_uri": "https://localhost:8080/"
        },
        "id": "8XHs3mwd7uNY",
        "outputId": "5d5294e0-c3cf-4771-b3d6-983b44f44046"
      },
      "source": [
        "# 256. 인스턴스 속성에 접근\r\n",
        "# 255에서 생성한 인스턴스의 이름, 나이, 성별 출력. (인스턴스 변수에 접근해 값 출력)\r\n",
        "# 이름 : 조아름, 나이 : 25, 성별 : 여자\r\n",
        "class Human:\r\n",
        "    def __init__(self, name, age, sex):\r\n",
        "        self.name = name\r\n",
        "        self.age = age\r\n",
        "        self.sex = sex\r\n",
        "\r\n",
        "areum = Human('조아름',25,'여자')\r\n",
        "areum.age()"
      ],
      "execution_count": 57,
      "outputs": [
        {
          "output_type": "execute_result",
          "data": {
            "text/plain": [
              "25"
            ]
          },
          "metadata": {
            "tags": []
          },
          "execution_count": 57
        }
      ]
    },
    {
      "cell_type": "code",
      "metadata": {
        "colab": {
          "base_uri": "https://localhost:8080/"
        },
        "id": "jAcnMVFI9QTu",
        "outputId": "6567b843-f922-4f1d-825c-943f1211f6ef"
      },
      "source": [
        "# 257. 클래스 메소드-1\r\n",
        "# Human 클래스에서 이름, 나이, 성별을 출력하는 who() 메소드 추가하기\r\n",
        "class Human:\r\n",
        "    def __init__(self, name, age, sex):\r\n",
        "        self.name = name\r\n",
        "        self.age = age\r\n",
        "        self.sex = sex\r\n",
        "\r\n",
        "    def who(self):\r\n",
        "        print(f'이름 : {self.name} \\n나이 : {self.age}\\n성별 : {self.sex}')\r\n",
        "\r\n",
        "areum = Human('조아름',25,'여')\r\n",
        "areum.who()"
      ],
      "execution_count": 65,
      "outputs": [
        {
          "output_type": "stream",
          "text": [
            "이름 : 조아름 \n",
            "나이 : 25\n",
            "성별 : 여\n"
          ],
          "name": "stdout"
        }
      ]
    },
    {
      "cell_type": "code",
      "metadata": {
        "colab": {
          "base_uri": "https://localhost:8080/"
        },
        "id": "I9ssFIn9-FUL",
        "outputId": "09d05289-093a-419a-bb94-118ceff403f1"
      },
      "source": [
        "# 258. 클래스 메소드-2\r\n",
        "# Human 클래스에 (이름, 나이, 성별)을 받는 setInfo 메소드를 추가\r\n",
        "# 예시1) areum = Human('unknown',0,'unknown')\r\n",
        "# 예시2) areum.setInfo('areum',25, 'female')\r\n",
        "\r\n",
        "class Human:\r\n",
        "    def __init__(self,name,age,gender):\r\n",
        "        self.name = name\r\n",
        "        self.age = age\r\n",
        "        self.gender = gender\r\n",
        "\r\n",
        "    def who(self):\r\n",
        "        print(f'이름 : {self.name} \\n나이 : {self.age}\\n성별 : {self.gender}')\r\n",
        "\r\n",
        "    def setInfo(self, name, age, sex):\r\n",
        "        self.name = name\r\n",
        "        self.age = age\r\n",
        "        self.sex = sex\r\n",
        "\r\n",
        "areum = Human('unknown',0,'unkonwn')\r\n",
        "areum.who()  # Human.who(areum), 같은 표현\r\n",
        "\r\n",
        "areum.setInfo('areum',25,'female')\r\n",
        "areum.who()        "
      ],
      "execution_count": 80,
      "outputs": [
        {
          "output_type": "stream",
          "text": [
            "이름 : unknown \n",
            "나이 : 0\n",
            "성별 : unkonwn\n",
            "이름 : areum \n",
            "나이 : 25\n",
            "성별 : unkonwn\n"
          ],
          "name": "stdout"
        }
      ]
    },
    {
      "cell_type": "code",
      "metadata": {
        "colab": {
          "base_uri": "https://localhost:8080/"
        },
        "id": "Iz1iWbEe_2b8",
        "outputId": "5fbe101e-c4b3-497d-d882-fcfd30f10aed"
      },
      "source": [
        "# 259. 클래스 소멸자\r\n",
        "# Human 클래스에 '나의 죽음을 알리지 마라'를 출력하는 소멸자 추가\r\n",
        "\r\n",
        "class Human:\r\n",
        "    def __init__(self, name, age, gender):\r\n",
        "        self.name = name\r\n",
        "        self.age = age\r\n",
        "        self.gender = gender\r\n",
        "\r\n",
        "    def __del__(self):\r\n",
        "        print('나의 죽음을 알리지 마라')\r\n",
        "\r\n",
        "    def who(self):\r\n",
        "        print(f'name : {self.name}, age : {self.age}, gender:{self.gender}')\r\n",
        "    \r\n",
        "    def setInfo(self, name, age, gender):\r\n",
        "        self.name = name\r\n",
        "        self.age = age\r\n",
        "        self.gender = gender\r\n",
        "\r\n",
        "areum = Human('jo',23,'female')\r\n",
        "del areum"
      ],
      "execution_count": 81,
      "outputs": [
        {
          "output_type": "stream",
          "text": [
            "나의 죽음을 알리지 마라\n"
          ],
          "name": "stdout"
        }
      ]
    },
    {
      "cell_type": "code",
      "metadata": {
        "colab": {
          "base_uri": "https://localhost:8080/",
          "height": 205
        },
        "id": "pYoDzf6zBwpd",
        "outputId": "2c76abc2-4dfe-404a-9eb7-5a24eb3c989f"
      },
      "source": [
        "# 260. 에러의 원인 (에러 발생 원인 설명)\r\n",
        "class OMG:\r\n",
        "    def print():  # self\r\n",
        "        print('oh my god')\r\n",
        "\r\n",
        "mystock = OMG()\r\n",
        "mystock.print()  # OMG.print(mystock) 형태\r\n",
        "# print() takes 0 positional arguments but 1 was given //  print함수에 인자값이 없기 때문 (self)"
      ],
      "execution_count": 88,
      "outputs": [
        {
          "output_type": "error",
          "ename": "TypeError",
          "evalue": "ignored",
          "traceback": [
            "\u001b[0;31m---------------------------------------------------------------------------\u001b[0m",
            "\u001b[0;31mTypeError\u001b[0m                                 Traceback (most recent call last)",
            "\u001b[0;32m<ipython-input-88-7518d5ed1802>\u001b[0m in \u001b[0;36m<module>\u001b[0;34m()\u001b[0m\n\u001b[1;32m     14\u001b[0m \u001b[0;34m\u001b[0m\u001b[0m\n\u001b[1;32m     15\u001b[0m \u001b[0mmystock\u001b[0m \u001b[0;34m=\u001b[0m \u001b[0mOMG\u001b[0m\u001b[0;34m(\u001b[0m\u001b[0;34m)\u001b[0m\u001b[0;34m\u001b[0m\u001b[0;34m\u001b[0m\u001b[0m\n\u001b[0;32m---> 16\u001b[0;31m \u001b[0mmystock\u001b[0m\u001b[0;34m.\u001b[0m\u001b[0mprint\u001b[0m\u001b[0;34m(\u001b[0m\u001b[0;34m)\u001b[0m\u001b[0;34m\u001b[0m\u001b[0;34m\u001b[0m\u001b[0m\n\u001b[0m",
            "\u001b[0;31mTypeError\u001b[0m: print() takes 0 positional arguments but 1 was given"
          ]
        }
      ]
    },
    {
      "cell_type": "code",
      "metadata": {
        "colab": {
          "base_uri": "https://localhost:8080/"
        },
        "id": "STB3aK-jDBHk",
        "outputId": "e2df4d47-ed1f-4dee-ff15-fbbb5423c51f"
      },
      "source": [
        "class OMG:\r\n",
        "    def print(slef):\r\n",
        "        print('oh my god')\r\n",
        "\r\n",
        "mystock = OMG()\r\n",
        "mystock.print() "
      ],
      "execution_count": 89,
      "outputs": [
        {
          "output_type": "stream",
          "text": [
            "oh my god\n"
          ],
          "name": "stdout"
        }
      ]
    },
    {
      "cell_type": "code",
      "metadata": {
        "id": "Hg31Ni-fC6Cm"
      },
      "source": [
        "# 261. stock 함수 생성\r\n",
        "# 주식 종목에 대한 정보를 저장하는 stock 클래스 정의. (클래스는 속성과 메서드를 갖고있지 않다.)\r\n",
        "class stock:\r\n",
        "    pass"
      ],
      "execution_count": 90,
      "outputs": []
    },
    {
      "cell_type": "code",
      "metadata": {
        "colab": {
          "base_uri": "https://localhost:8080/"
        },
        "id": "9dqv5DX6D8H6",
        "outputId": "da693db7-b88e-44a4-8a54-dbc0e8a536bb"
      },
      "source": [
        "# 262. 생성자\r\n",
        "# stock 클래스의 객체가 생성될때 종목명과 종목코드를 입력 받을 수 있도록 생성자 정의\r\n",
        "class stock:\r\n",
        "    def __init__(self, name, code):\r\n",
        "        self.name = name\r\n",
        "        self.code = code\r\n",
        "\r\n",
        "삼성 = stock('삼성전자','005930')\r\n",
        "print(삼성.name)\r\n",
        "print(삼성.code)"
      ],
      "execution_count": 95,
      "outputs": [
        {
          "output_type": "stream",
          "text": [
            "삼성전자\n",
            "005930\n"
          ],
          "name": "stdout"
        }
      ]
    },
    {
      "cell_type": "code",
      "metadata": {
        "colab": {
          "base_uri": "https://localhost:8080/"
        },
        "id": "FUs-TsGuEmcj",
        "outputId": "494139c1-197c-4bf3-bf43-9acf3c181e64"
      },
      "source": [
        "# 263. 메서드\r\n",
        "# 객체에 종목명을 입력할 수 있는 set_name 메서드 추가\r\n",
        "class Stock:\r\n",
        "    def __init__(self, name, code):\r\n",
        "        self.name = name\r\n",
        "        self.code = code\r\n",
        "    \r\n",
        "    def set_name(self, name):\r\n",
        "        self.name = name\r\n",
        "\r\n",
        "a = Stock(None, None)\r\n",
        "a.set_name('samsung')\r\n",
        "print(a.name)"
      ],
      "execution_count": 98,
      "outputs": [
        {
          "output_type": "stream",
          "text": [
            "samsung\n"
          ],
          "name": "stdout"
        }
      ]
    },
    {
      "cell_type": "code",
      "metadata": {
        "colab": {
          "base_uri": "https://localhost:8080/"
        },
        "id": "XYOvqreEG-HI",
        "outputId": "e6595c93-b2bf-4572-f239-35f4f29bb595"
      },
      "source": [
        "# 264. 메서드\r\n",
        "# 객체에 종목코드를 입력할 수 잇는 set_code 메서드 추가\r\n",
        "class Stock:\r\n",
        "    def __init__(self, name, code):\r\n",
        "        self.name = name\r\n",
        "        self.code = code\r\n",
        "\r\n",
        "    def set_name(self, name):\r\n",
        "        self.name = name\r\n",
        "    \r\n",
        "    def set_code(self, code):\r\n",
        "        self.code=code\r\n",
        "\r\n",
        "a=Stock(None, None)\r\n",
        "a.set_code('005930')\r\n",
        "print(a.set_code)"
      ],
      "execution_count": 101,
      "outputs": [
        {
          "output_type": "stream",
          "text": [
            "None\n"
          ],
          "name": "stdout"
        }
      ]
    },
    {
      "cell_type": "code",
      "metadata": {
        "colab": {
          "base_uri": "https://localhost:8080/"
        },
        "id": "IOSKjjAHHw1r",
        "outputId": "053915d1-45f0-4643-8c19-eb17468462cc"
      },
      "source": [
        "# 265. 메서드\r\n",
        "# 종목명과 종목코드를 리턴하는 get_name, get_code 메서드를 추가.\r\n",
        "class Stock:\r\n",
        "    def __init__(self, name, code):\r\n",
        "        self.name = name\r\n",
        "        self.code = code\r\n",
        "    def set_name(self, name):\r\n",
        "        self.name = name \r\n",
        "    def set_code(self, code):\r\n",
        "        self.code\r\n",
        "\r\n",
        "    def get_name(self):\r\n",
        "        return self.name\r\n",
        "    def get_code(self):\r\n",
        "        return self.code\r\n",
        "\r\n",
        "삼성 = Stock('삼성전자','005123')\r\n",
        "print(삼성.get_code())\r\n",
        "print(삼성.code)"
      ],
      "execution_count": 109,
      "outputs": [
        {
          "output_type": "stream",
          "text": [
            "005123\n",
            "005123\n"
          ],
          "name": "stdout"
        }
      ]
    },
    {
      "cell_type": "code",
      "metadata": {
        "id": "1L8T6jWyJiSE"
      },
      "source": [
        "# 266. 객체의 속성값 업데이트\r\n",
        "# 생성자에서 종목명, 종목코드, PER, PBR 배당수익률을 입력 받을 수 있도록 생성자를 수정.(타임은 float)\r\n",
        "\r\n",
        "class Stock:\r\n",
        "    def __init__(self, name, code, per, pbr, benefit):\r\n",
        "        self.name = name \r\n",
        "        self.code = code\r\n",
        "        self.per = per\r\n",
        "        self.pbr = pbr\r\n",
        "        self.benetif = benefit\r\n",
        "\r\n",
        "    def set_name(self, name):\r\n",
        "        self.name = name\r\n",
        "    def set_code(self, code):\r\n",
        "        self.code = code\r\n",
        "    \r\n",
        "    def get_name(self):\r\n",
        "        return self.name\r\n",
        "    def get_code(self):\r\n",
        "        return self.code"
      ],
      "execution_count": 110,
      "outputs": []
    },
    {
      "cell_type": "code",
      "metadata": {
        "colab": {
          "base_uri": "https://localhost:8080/"
        },
        "id": "sTrHujoaKv2h",
        "outputId": "68027ee3-919b-4e44-d97b-a87edd31ddb7"
      },
      "source": [
        "# 267 객체 생성\r\n",
        "# 266에서 정의한 생성자를 통해 다음 정보를 갖는 객체를 생성.\r\n",
        "삼성 = Stock('삼성전자','005930', 15.75,1.33,2.83)\r\n",
        "print(삼성.get_code())"
      ],
      "execution_count": 114,
      "outputs": [
        {
          "output_type": "stream",
          "text": [
            "005930\n"
          ],
          "name": "stdout"
        }
      ]
    },
    {
      "cell_type": "code",
      "metadata": {
        "id": "e-Frea36LudC"
      },
      "source": [
        "# 268 객체의 속성 수정\r\n",
        "# PER, PBR 배당 수익률은 변경될 수 있는 값이다. 이 값을 변경할 때 사용하는 set_per, set_pbr, set_dividend 메서드를 추가.\r\n",
        "\r\n",
        "class Stock:\r\n",
        "    def __init__(self, name, code, per, pbr, dividend):\r\n",
        "        self.name = name \r\n",
        "        self.code = code\r\n",
        "        self.per = per\r\n",
        "        self.pbr = pbr\r\n",
        "        self.dividend = dividend\r\n",
        "\r\n",
        "    def set_name(self, name):\r\n",
        "        self.name = name\r\n",
        "    def set_code(self, code):\r\n",
        "        self.code = code\r\n",
        "    \r\n",
        "    def get_name(self):\r\n",
        "        return self.name\r\n",
        "    def get_code(self):\r\n",
        "        return self.code\r\n",
        "\r\n",
        "    def set_per(self, per):\r\n",
        "        self.per = per\r\n",
        "    def set_pbr(self, per):\r\n",
        "        self.pbr = pbr\r\n",
        "    def set_dividend(self, dividend):\r\n",
        "        self.dividend = dividend"
      ],
      "execution_count": 123,
      "outputs": []
    },
    {
      "cell_type": "code",
      "metadata": {
        "colab": {
          "base_uri": "https://localhost:8080/"
        },
        "id": "Ez2uKuh5M8X0",
        "outputId": "353452bb-f935-4002-ef83-76e7ee06c214"
      },
      "source": [
        "# 269 객체의 속성 수정\r\n",
        "# 267에서 생성한 객체에 set_per 메서드를 호출해 per값을 12.75로 수정\r\n",
        "samsung = Stock('삼성전자','005930', 15.75,1.33,2.83)\r\n",
        "samsung.set_per(12.75)\r\n",
        "print(samsung.per)"
      ],
      "execution_count": 131,
      "outputs": [
        {
          "output_type": "stream",
          "text": [
            "12.75\n"
          ],
          "name": "stdout"
        }
      ]
    },
    {
      "cell_type": "markdown",
      "metadata": {
        "id": "0wB1Nyy1VnM2"
      },
      "source": [
        "### > 다시 볼 것\r\n",
        "---\r\n",
        "* classmethod\r\n",
        " > 참고, [핵심만 간단히, Hello World! 파이썬3](https://wikidocs.net/21054)\r\n",
        " * 정적 메소드(@staticmethod, @classmethod)\r\n",
        "\r\n",
        "* super\r\n",
        " > 참고, [파이썬 super 기초 개념 및 예제](https://rednooby.tistory.com/56)\r\n",
        " * super(), 자식클래스에서 부모클래스 내용을 사용하고 싶을 경우</br>\r\n",
        " * super().부모클래스내용\r\n",
        "\r\n",
        "* 메소드 오버라이딩(method overriding)\r\n",
        " > 참고, [상속(Inheritance), 메서드 오버라이딩(method overriding)](https://ordo.tistory.com/30)\r\n",
        " * 상속 : 클래스의 기능을 물려주고(부모클래스), 물려받음(자식클래스)\r\n",
        " * 메소드 오버라이딩 : 자식클래스가 부모클래스들 중 하나에 의해 이미 제공된 메소드를 특정 형태로 구현한 것.\r\n",
        "    * 메소드의 이름은 같지만 기능을 다르게 할 때 사용.\r\n",
        "\r\n"
      ]
    },
    {
      "cell_type": "code",
      "metadata": {
        "colab": {
          "base_uri": "https://localhost:8080/"
        },
        "id": "Ift8MXkCN1ca",
        "outputId": "fb1fcad9-70c7-4b75-ef6e-21e7045f0fcc"
      },
      "source": [
        "# 270. 여러 종목의 객체 생성\r\n",
        "# 아래의 표를 참조해 3 종목에 대해 객체를 생성하고 이를 리스트에 저장하시오\r\n",
        "# 리스트 저장된 종목에 대해 for문을 사용해 종목코드와 per 출력.\r\n",
        "\r\n",
        "class Stock:\r\n",
        "    def __init__(self, name, code, per, pbr, dividend):\r\n",
        "        self.name = name \r\n",
        "        self.code = code\r\n",
        "        self.per = per\r\n",
        "        self.pbr = pbr\r\n",
        "        self.dividend = dividend\r\n",
        "종목 = []\r\n",
        "samsung = Stock('samsung','0059123',15.27,1.33,2.38)\r\n",
        "hyundae = Stock('hyundae','0053800',8.70, 0.35,4.27)\r\n",
        "LG = Stock('LG', '0054321',317.34, 0.69, 1.37)\r\n",
        "\r\n",
        "종목.append(samsung)\r\n",
        "종목.append(LG)\r\n",
        "종목.append(hyundae)\r\n",
        "\r\n",
        "for 응 in 종목:\r\n",
        "    print(응.code, 응.per)\r\n"
      ],
      "execution_count": 136,
      "outputs": [
        {
          "output_type": "stream",
          "text": [
            "0059123 15.27\n",
            "0054321 317.34\n",
            "0053800 8.7\n"
          ],
          "name": "stdout"
        }
      ]
    },
    {
      "cell_type": "code",
      "metadata": {
        "colab": {
          "base_uri": "https://localhost:8080/"
        },
        "id": "zK4u1eevRun7",
        "outputId": "240a42ea-a6bf-4569-fa3d-4d6a819ddcc9"
      },
      "source": [
        "# 271. Account 클래스\r\n",
        "#  Account 클래스를 생성한 후 생성자를 구현해보세요. (은행이름, 예금주, 계좌번호, 잔액이 설정됩니다)\r\n",
        "# 생성자에서는 예금주와 초기 잔액만 입력 받습니다. \r\n",
        "# 은행이름은 SC은행으로 계좌번호는 3자리-2자리-6자리 형태로 랜덤하게 생성됩니다.\r\n",
        "\r\n",
        "\r\n",
        "# class Account:\r\n",
        "#     def __init__(self, bname, oname, num, account):\r\n",
        "#         self.bname = bname\r\n",
        "#         self.oname = oname\r\n",
        "#         self.num = num\r\n",
        "#         self.account = ccount\r\n",
        "\r\n",
        "# >>>답안코드<<<\r\n",
        "import random\r\n",
        "\r\n",
        "class Account:\r\n",
        "    def __init__(self, name, balance):\r\n",
        "        self.name = name\r\n",
        "        self.balance = balance\r\n",
        "        self.bank = 'SC'\r\n",
        "\r\n",
        "        num1 = random.randint(0,999)\r\n",
        "        num2 = random.randint(0,99)\r\n",
        "        num3 = random.randint(0,999999)\r\n",
        "\r\n",
        "        num1 = str(num1).zfill(3)\r\n",
        "        num2 = str(num2).zfill(2)\r\n",
        "        num3 = str(num3).zfill(6)\r\n",
        "        self.account_number = num1+'-'+num2+'-'+num3\r\n",
        "\r\n",
        "kim = Account('kim',100)\r\n",
        "\r\n",
        "print(kim.name)\r\n",
        "print(kim.balance)\r\n",
        "print(kim.account_number)"
      ],
      "execution_count": 150,
      "outputs": [
        {
          "output_type": "stream",
          "text": [
            "kim\n",
            "100\n",
            "253-99-799655\n"
          ],
          "name": "stdout"
        }
      ]
    },
    {
      "cell_type": "code",
      "metadata": {
        "colab": {
          "base_uri": "https://localhost:8080/"
        },
        "id": "ddBNxi_iUZG5",
        "outputId": "c400adba-fb87-48b6-c6b4-44578d0dc6c5"
      },
      "source": [
        "# 272. 클래스 변수\r\n",
        "# 클래스 변수를 사용해 Account 클래스로부터 생성된 계좌 객체의 개수 저장.\r\n",
        "import random\r\n",
        "\r\n",
        "class Account:\r\n",
        "    # class variable\r\n",
        "    account_count = 0\r\n",
        "\r\n",
        "    def __init__(self, name, balance):\r\n",
        "        self.name = name\r\n",
        "        self.balance = balance\r\n",
        "        self.bank = 'SC'\r\n",
        "\r\n",
        "        num1 = random.randint(0,999)\r\n",
        "        num2 = random.randint(0,99)\r\n",
        "        num3 = random.randint(0,999999)\r\n",
        "\r\n",
        "        num1 = str(num1).zfill(3)\r\n",
        "        num2 = str(num2).zfill(2)\r\n",
        "        num3 = str(num3).zfill(6)\r\n",
        "        self.account_number = num1+'-'+num2+'-'+num3\r\n",
        "\r\n",
        "        Account.account_count += 1\r\n",
        "\r\n",
        "kim = Account('kim',199)\r\n",
        "park = Account('Park', 300)\r\n",
        "print(Account.account_count)\r\n"
      ],
      "execution_count": 152,
      "outputs": [
        {
          "output_type": "stream",
          "text": [
            "2\n"
          ],
          "name": "stdout"
        }
      ]
    },
    {
      "cell_type": "code",
      "metadata": {
        "colab": {
          "base_uri": "https://localhost:8080/"
        },
        "id": "_0YotcLtVjVe",
        "outputId": "39f0c6bf-0480-4dde-93b2-af82182ecb01"
      },
      "source": [
        "# 273. 클래스 변수 출력\r\n",
        "# Account 클래스로부터 생성된 계좌의 개수를 출력하는 get_account_num() 메서드 추가\r\n",
        "class Account:\r\n",
        "    account_count = 0\r\n",
        "\r\n",
        "    def __init__(self, name, balance):\r\n",
        "        self.name = name\r\n",
        "        self.balance = balance\r\n",
        "        self.bank = 'SC'\r\n",
        "        \r\n",
        "        num1 = random.randint(0,999)\r\n",
        "        num2 = random.randint(0,99)\r\n",
        "        num3 = random.randint(0,999999)\r\n",
        "\r\n",
        "        num1 = str(num1).zfill(3)\r\n",
        "        num2 = str(num2).zfill(2)\r\n",
        "        num3 = str(num3).zfill(6)\r\n",
        "        self.account_number = num1+'-'+num2+'-'+num3\r\n",
        "        Account.account_count += 1\r\n",
        "\r\n",
        "    @classmethod  # 정적메서드, cls 추가-> cls를 통해 account_count에 접근\r\n",
        "    def get_account_num(cls):\r\n",
        "        print(cls.account_count)\r\n",
        "\r\n",
        "        \r\n",
        "kim = Account('kim',100)\r\n",
        "park = Account('park',300)\r\n",
        "park.get_account_num()\r\n"
      ],
      "execution_count": 169,
      "outputs": [
        {
          "output_type": "stream",
          "text": [
            "2\n"
          ],
          "name": "stdout"
        }
      ]
    },
    {
      "cell_type": "code",
      "metadata": {
        "id": "hVF2yLOeZC3X"
      },
      "source": [
        "# 274. 입금 메서드\r\n",
        "# Account 클래스에 입금을 위한 deposit 메서드 추가. (최소 1원 이상만 가능)\r\n",
        "\r\n",
        "class Account:\r\n",
        "    account_count = 0\r\n",
        "\r\n",
        "    def __init__(self, name, balance):\r\n",
        "        self.name = name\r\n",
        "        self.balance = balance\r\n",
        "        self.bank = 'SC'\r\n",
        "        \r\n",
        "        num1 = random.randint(0,999)\r\n",
        "        num2 = random.randint(0,99)\r\n",
        "        num3 = random.randint(0,999999)\r\n",
        "\r\n",
        "        num1 = str(num1).zfill(3)\r\n",
        "        num2 = str(num2).zfill(2)\r\n",
        "        num3 = str(num3).zfill(6)\r\n",
        "        self.account_number = num1+'-'+num2+'-'+num3\r\n",
        "        Account.account_count += 1\r\n",
        "    \r\n",
        "    @classmethod\r\n",
        "    def get_account_num(cls):\r\n",
        "        print(cls.account_count)\r\n",
        "\r\n",
        "    def deposit(self, amount):\r\n",
        "           if amount >= 1:\r\n",
        "            self.balance += amount"
      ],
      "execution_count": 183,
      "outputs": []
    },
    {
      "cell_type": "code",
      "metadata": {
        "id": "uU-1hCxNbAWZ"
      },
      "source": [
        "# 275 출금 메서드(withdraw 메서드 추가 // 잔고 이상은 출금 불가)\r\n",
        "class Account:        \r\n",
        "    account_count=0\r\n",
        "\r\n",
        "\r\n",
        "    def __init__(self, name, balance):\r\n",
        "        self.name = name\r\n",
        "        self.balance = balance\r\n",
        "        self.bank = 'SC'\r\n",
        "        \r\n",
        "        num1 = random.randint(0,999)\r\n",
        "        num2 = random.randint(0,99)\r\n",
        "        num3 = random.randint(0,999999)\r\n",
        "\r\n",
        "        num1 = str(num1).zfill(3)\r\n",
        "        num2 = str(num2).zfill(2)\r\n",
        "        num3 = str(num3).zfill(6)\r\n",
        "        self.account_number = num1+'-'+num2+'-'+num3\r\n",
        "        Account.account_count += 1\r\n",
        "    \r\n",
        "    @classmethod\r\n",
        "    def get_account_num(cls):\r\n",
        "        print(cls.account_count)\r\n",
        "\r\n",
        "    def deposit(slef, amount):\r\n",
        "        if amount >= 1:\r\n",
        "            self.balance += amount\r\n",
        "    \r\n",
        "    def withdraw(self, out):\r\n",
        "        if self.balance > out:\r\n",
        "            self.balance -= out"
      ],
      "execution_count": 173,
      "outputs": []
    },
    {
      "cell_type": "code",
      "metadata": {
        "colab": {
          "base_uri": "https://localhost:8080/"
        },
        "id": "P2JjoUy4bzUM",
        "outputId": "119309f6-5259-4189-ce71-3ce69431de36"
      },
      "source": [
        "# 276. 정보 출력 메서드\r\n",
        "# 저장된 정보를 출력하는 display_info() 메서드를 추가. (잔고는 세자리마다 쉼표 출력)\r\n",
        "class Account:\r\n",
        "    account_count=0\r\n",
        "\r\n",
        "    def __init__(self, name, balance):\r\n",
        "        self.name = name\r\n",
        "        self.balance = balance\r\n",
        "        self.bank = 'SC'\r\n",
        "        \r\n",
        "        num1 = random.randint(0,999)\r\n",
        "        num2 = random.randint(0,99)\r\n",
        "        num3 = random.randint(0,999999)\r\n",
        "\r\n",
        "        num1 = str(num1).zfill(3)\r\n",
        "        num2 = str(num2).zfill(2)\r\n",
        "        num3 = str(num3).zfill(6)\r\n",
        "        self.account_number = num1+'-'+num2+'-'+num3\r\n",
        "        Account.account_count += 1\r\n",
        "    \r\n",
        "    @classmethod\r\n",
        "    def get_account_num(cls):\r\n",
        "        print(cls.account_count)\r\n",
        "\r\n",
        "    def deposit(slef, amount):\r\n",
        "        if amount >= 1:\r\n",
        "            self.balance += amount\r\n",
        "    \r\n",
        "    def withdraw(self, out):\r\n",
        "        if self.balance > out:\r\n",
        "            self.balance -= out    \r\n",
        "\r\n",
        "    def display_info(self):\r\n",
        "        print(f'은행명:{self.bank}\\n예금주:{self.name}\\n계좌번호:{self.account_number}\\n잔고:{self.balance}')\r\n",
        "\r\n",
        "p = Account(\"파이썬\", 10000)\r\n",
        "p.display_info()"
      ],
      "execution_count": 177,
      "outputs": [
        {
          "output_type": "stream",
          "text": [
            "은행명:SC\n",
            "예금주:파이썬\n",
            "계좌번호:179-13-204220\n",
            "잔고:10000\n"
          ],
          "name": "stdout"
        }
      ]
    },
    {
      "cell_type": "code",
      "metadata": {
        "colab": {
          "base_uri": "https://localhost:8080/"
        },
        "id": "LZRYj82Ec9Uq",
        "outputId": "0b243b35-d7bf-448e-d0b9-b366304b2844"
      },
      "source": [
        "# 277. 이자 지급하기\r\n",
        "# 입금 횟수가 5회 이상일 경우 잔고 기준 1% 이자 추가되도록 코드 변경\r\n",
        "\r\n",
        "class Account:\r\n",
        "    account_count=0\r\n",
        "\r\n",
        "    def __init__(self, name, balance):\r\n",
        "        self.deposit_count=0\r\n",
        "\r\n",
        "        self.name = name\r\n",
        "        self.balance = balance\r\n",
        "        self.bank = 'SC'\r\n",
        "        \r\n",
        "        num1 = random.randint(0,999)\r\n",
        "        num2 = random.randint(0,99)\r\n",
        "        num3 = random.randint(0,999999)\r\n",
        "\r\n",
        "        num1 = str(num1).zfill(3)\r\n",
        "        num2 = str(num2).zfill(2)\r\n",
        "        num3 = str(num3).zfill(6)\r\n",
        "        self.account_number = num1+'-'+num2+'-'+num3\r\n",
        "        Account.account_count += 1\r\n",
        "    \r\n",
        "    @classmethod\r\n",
        "    def get_account_num(cls):\r\n",
        "        print(cls.account_count)\r\n",
        "\r\n",
        "    def deposit(self, amount):\r\n",
        "        if amount >= 1:\r\n",
        "            self.balance += amount\r\n",
        "\r\n",
        "            self.deposit_count +=1\r\n",
        "            if self.deposit_count%5==0:\r\n",
        "                self.balance = (self.balance*1.01)\r\n",
        "    \r\n",
        "    def withdraw(self, out):\r\n",
        "        if self.balance > out:\r\n",
        "            self.balance -= out    \r\n",
        "\r\n",
        "    def display_info(self):\r\n",
        "        print(f'은행명:{self.bank}\\n예금주:{self.name}\\n계좌번호:{self.account_number}\\n잔고:{self.balance}')\r\n",
        "        \r\n",
        "p = Account(\"파이썬\", 10000)\r\n",
        "p.deposit(10000)\r\n",
        "p.deposit(10000)\r\n",
        "p.deposit(10000)\r\n",
        "p.deposit(5000)\r\n",
        "p.deposit(5000)\r\n",
        "print(p.balance)\r\n"
      ],
      "execution_count": 195,
      "outputs": [
        {
          "output_type": "stream",
          "text": [
            "50500.0\n"
          ],
          "name": "stdout"
        }
      ]
    },
    {
      "cell_type": "code",
      "metadata": {
        "colab": {
          "base_uri": "https://localhost:8080/"
        },
        "id": "-yVclv8ce7f3",
        "outputId": "1dc8f3fd-8e70-4179-f57f-248086918733"
      },
      "source": [
        "# 278. 여러 객체 생성\r\n",
        "# Account로 3개 이상 인스턴스 생성하고 생성된 인스턴스를 리스트에 저장.\r\n",
        "li1 = []\r\n",
        "\r\n",
        "kim = Account('kim',100000)\r\n",
        "park = Account('park',30000)\r\n",
        "han = Account('han',5000)\r\n",
        "lee=Account('lee',99999999)\r\n",
        "\r\n",
        "li1.append(kim)\r\n",
        "li1.append(park)\r\n",
        "li1.append(han)\r\n",
        "li1.append(lee)\r\n",
        "print(li1)"
      ],
      "execution_count": 206,
      "outputs": [
        {
          "output_type": "stream",
          "text": [
            "[<__main__.Account object at 0x7f18d4b32810>, <__main__.Account object at 0x7f18d4b32b90>, <__main__.Account object at 0x7f18d4a33910>, <__main__.Account object at 0x7f18d4a33b90>]\n"
          ],
          "name": "stdout"
        }
      ]
    },
    {
      "cell_type": "code",
      "metadata": {
        "colab": {
          "base_uri": "https://localhost:8080/"
        },
        "id": "W_kgVTzVfk9H",
        "outputId": "0243be88-c81d-4ed2-bbcb-efa4f6f9a907"
      },
      "source": [
        "# 279. 객체 순회\r\n",
        "# 반복문을 통해 리스트에 있는 객체를 순회하며 잔고가 100만원 이상인 고객의 정보만 출력\r\n",
        "for i in li1:\r\n",
        "    if i.balance > 1000000:\r\n",
        "        print(i.display_info())"
      ],
      "execution_count": 208,
      "outputs": [
        {
          "output_type": "stream",
          "text": [
            "은행이름:  SC은행\n",
            "예금주:  lee\n",
            "계좌번호:  066-61-572408\n",
            "잔고:  99999999\n",
            "None\n"
          ],
          "name": "stdout"
        }
      ]
    },
    {
      "cell_type": "code",
      "metadata": {
        "colab": {
          "base_uri": "https://localhost:8080/"
        },
        "id": "dPmuQmKngCF4",
        "outputId": "e65415f3-4138-45af-8c62-4a26c0af0379"
      },
      "source": [
        "# 280. 입출금 내역\r\n",
        "# 입금과 출금 내역이 기록되도록 코드 업데이트(deposit_history, withdraw_history 메서드 추가)\r\n",
        "import random\r\n",
        "import datetime\r\n",
        "\r\n",
        "class Account:\r\n",
        "    # class variable\r\n",
        "    account_count = 0\r\n",
        "\r\n",
        "    def __init__(self, name, balance):\r\n",
        "        self.deposit_count = 0\r\n",
        "        self.withdraw_log=[]\r\n",
        "        self.deposit_log=[]\r\n",
        "\r\n",
        "        self.name = name\r\n",
        "        self.balance = balance\r\n",
        "        self.bank = \"SC은행\"\r\n",
        "\r\n",
        "        # 3-2-6\r\n",
        "        num1 = random.randint(0, 999)\r\n",
        "        num2 = random.randint(0, 99)\r\n",
        "        num3 = random.randint(0, 999999)\r\n",
        "\r\n",
        "        num1 = str(num1).zfill(3)  # 1 -> '1' -> '001'\r\n",
        "        num2 = str(num2).zfill(2)  # 1 -> '1' -> '01'\r\n",
        "        num3 = str(num3).zfill(6)  # 1 -> '1' -> '0000001'\r\n",
        "        self.account_number = num1 + '-' + num2 + '-' + num3  # 001-01-000001\r\n",
        "        Account.account_count += 1\r\n",
        "\r\n",
        "    @classmethod\r\n",
        "    def get_account_num(cls):\r\n",
        "        print(cls.account_count)  # Account.account_count\r\n",
        "\r\n",
        "    def deposit(self, amount):\r\n",
        "        if amount >= 1:\r\n",
        "            self.deposit_log.append(amount)\r\n",
        "            self.balance += amount\r\n",
        "\r\n",
        "            self.deposit_count += 1\r\n",
        "            if self.deposit_count % 5 == 0:         # 5, 10, 15\r\n",
        "                # 이자 지금\r\n",
        "                self.balance = (self.balance * 1.01)\r\n",
        "\r\n",
        "    def deposit_history(self):\r\n",
        "        for amount in self.deposit_log:\r\n",
        "            print(amount)\r\n",
        "\r\n",
        "    def withdraw(self, amount):\r\n",
        "        if self.balance > amount:\r\n",
        "            self.balance -= amount\r\n",
        "            self.withdraw_log.append(amount)\r\n",
        "\r\n",
        "    def withdraw_history(self):\r\n",
        "        for amount in self.withdraw_log:\r\n",
        "            print(amount)\r\n",
        "    \r\n",
        "    def display_info(self):\r\n",
        "        print(\"은행이름: \", self.bank)\r\n",
        "        print(\"예금주: \", self.name)\r\n",
        "        print(\"계좌번호: \", self.account_number)\r\n",
        "        print(\"잔고: \", self.balance)\r\n",
        "\r\n",
        "k = Account(\"Kim\", 1000)\r\n",
        "k.deposit(100)\r\n",
        "k.deposit(200)\r\n",
        "k.deposit(300)\r\n",
        "k.deposit_history()\r\n",
        "\r\n",
        "k.withdraw(100)\r\n",
        "k.withdraw(200)\r\n",
        "k.withdraw_history()"
      ],
      "execution_count": 214,
      "outputs": [
        {
          "output_type": "stream",
          "text": [
            "100\n",
            "200\n",
            "300\n",
            "100\n",
            "200\n"
          ],
          "name": "stdout"
        }
      ]
    },
    {
      "cell_type": "code",
      "metadata": {
        "colab": {
          "base_uri": "https://localhost:8080/"
        },
        "id": "iP0syw6jm8Ew",
        "outputId": "2fefa18a-92c0-4d66-d027-c84e767d1515"
      },
      "source": [
        "# 281. 클래스 정의\r\n",
        "# 다음 코드가 동작하도록 차 클래스를 정의하시오.\r\n",
        "\r\n",
        "# car = Car(2,1000)\r\n",
        "# car.wheel\r\n",
        "# car.price\r\n",
        "\r\n",
        "class Car:\r\n",
        "    def __init__(self, wheel, price):\r\n",
        "        self.wheel = wheel\r\n",
        "        self.price = price\r\n",
        "car = Car(2,1000)\r\n",
        "print(car.price, car.wheel)"
      ],
      "execution_count": 219,
      "outputs": [
        {
          "output_type": "stream",
          "text": [
            "1000 2\n"
          ],
          "name": "stdout"
        }
      ]
    },
    {
      "cell_type": "code",
      "metadata": {
        "id": "QkacT_LOneO1"
      },
      "source": [
        "# 282. 클래스 상속 (차 클래스를 상속받은 자전차 클래스를 정의)\r\n",
        "## (클래스 생성)Car\r\n",
        "class Car: \r\n",
        "    def __init__(self, wheel, price):\r\n",
        "        self.wheel = wheel\r\n",
        "        self.price = price\r\n",
        "\r\n",
        "## (클래스 상속) Car-Bycle\r\n",
        "class Bike(Car):\r\n",
        "    pass\r\n"
      ],
      "execution_count": 222,
      "outputs": []
    },
    {
      "cell_type": "code",
      "metadata": {
        "colab": {
          "base_uri": "https://localhost:8080/"
        },
        "id": "EDF80rALn-ov",
        "outputId": "b997d9c4-4aeb-4928-f5fa-cbd21c141ff5"
      },
      "source": [
        "# 283. 클래스 상속\r\n",
        "# 다음 코드가 동작하도록 자전차 클래스 정의(단, 자전차 클래스는 차 클래스를 상속받는다.)\r\n",
        "\r\n",
        "# bike = Bike(2,100)\r\n",
        "# biek.price\r\n",
        "\r\n",
        "class Car: \r\n",
        "    def __init__(self, wheel, price):\r\n",
        "        self.wheel = wheel\r\n",
        "        self.price = price\r\n",
        "\r\n",
        "## (클래스 상속) Car-Bycle\r\n",
        "class Bike(Car):\r\n",
        "    def __init__(self, wheel, price):\r\n",
        "        self.wheel = wheel\r\n",
        "        self.price = price\r\n",
        "\r\n",
        "bike = Bike(2,100)\r\n",
        "print(bike.price)"
      ],
      "execution_count": 228,
      "outputs": [
        {
          "output_type": "stream",
          "text": [
            "100\n"
          ],
          "name": "stdout"
        }
      ]
    },
    {
      "cell_type": "code",
      "metadata": {
        "colab": {
          "base_uri": "https://localhost:8080/",
          "height": 34
        },
        "id": "dXrAmJKjow7L",
        "outputId": "517a2b62-9b93-464f-dbc0-1e3b922184b7"
      },
      "source": [
        "# 284. 클래스 상속\r\n",
        "# 다음 코드가 동작하도록 자전차 클래스 정의(단, 자전차 클래스는 차 클래스를 상속받는다.)\r\n",
        "\r\n",
        "# bike = Bike(2,100,'simano')\r\n",
        "# bike.gear\r\n",
        "\r\n",
        "class Car: \r\n",
        "    def __init__(self, wheel, price):\r\n",
        "        self.wheel = wheel\r\n",
        "        self.price = price\r\n",
        "\r\n",
        "## (클래스 상속) Car-Bycle\r\n",
        "class Bike(Car):\r\n",
        "    def __init__(self, wheel, price, gear):\r\n",
        "        super().__init(wheel,price) # Car.__int__(self, wheel, price)\r\n",
        "        self.gear = gear\r\n",
        "\r\n",
        "\r\n",
        "bike = Bike(2,100,'simano')\r\n",
        "bike.gear"
      ],
      "execution_count": 230,
      "outputs": [
        {
          "output_type": "execute_result",
          "data": {
            "application/vnd.google.colaboratory.intrinsic+json": {
              "type": "string"
            },
            "text/plain": [
              "'simano'"
            ]
          },
          "metadata": {
            "tags": []
          },
          "execution_count": 230
        }
      ]
    },
    {
      "cell_type": "code",
      "metadata": {
        "colab": {
          "base_uri": "https://localhost:8080/"
        },
        "id": "-ZMcKgKHq2p1",
        "outputId": "820fd9dc-baf4-4e87-a90d-a8cdffdd40fe"
      },
      "source": [
        "# 285. 클래스 상속\r\n",
        "# 다음 코드가 동작하도록 차 클래스를 상속받는 자동차 클래스를 정의.(정보 추가)\r\n",
        "\r\n",
        "class 차:\r\n",
        "    def __init__(self, 바퀴, 가격):\r\n",
        "        self.바퀴 = 바퀴\r\n",
        "        self.가격 = 가격\r\n",
        "\r\n",
        "class 자동차(차):\r\n",
        "    def __init__(self, 바퀴, 가격):\r\n",
        "        super().__init__(바퀴, 가격)\r\n",
        "        \r\n",
        "    def 정보(self):\r\n",
        "        print('바퀴수:', self.바퀴)\r\n",
        "        print('가격 :', self.가격)\r\n",
        "\r\n",
        "car = 자동차(4,100)\r\n",
        "car.정보()\r\n"
      ],
      "execution_count": 241,
      "outputs": [
        {
          "output_type": "stream",
          "text": [
            "바퀴수: 4\n",
            "가격 : 100\n"
          ],
          "name": "stdout"
        }
      ]
    },
    {
      "cell_type": "code",
      "metadata": {
        "colab": {
          "base_uri": "https://localhost:8080/"
        },
        "id": "U0r8IpfGsIOo",
        "outputId": "35f6b6b9-236a-4581-d9d2-20d08bd9a774"
      },
      "source": [
        "# 286. 부모 클래스 생성자 호출\r\n",
        "# 다음 코드가 동작하도록 자전차 클래스 수정\r\n",
        "\r\n",
        "# >bicycle = 자전차(2,100,'시마노')\r\n",
        "# >bicycle.정보()\r\n",
        "\r\n",
        "class Car:\r\n",
        "    def __init__(self, wheel, price, gear):\r\n",
        "        self.wheel = wheel\r\n",
        "        self.price = price\r\n",
        "        self.gear = gear\r\n",
        "\r\n",
        "class Bicycle(Car):\r\n",
        "    def __init__(self, wheel, price,gear):\r\n",
        "        super().__init__(wheel,price,gear)\r\n",
        "\r\n",
        "    def info(self):\r\n",
        "        print(f'바퀴수:{self.wheel}\\n가격:{self.price}')\r\n",
        "\r\n",
        "bicycle = Bicycle(2,100,'simano')\r\n",
        "bicycle.info()\r\n",
        "        \r\n",
        "# >>>답안<<<\r\n",
        "class 차:\r\n",
        "    def __init__(self, 바퀴, 가격):\r\n",
        "        self.바퀴 = 바퀴\r\n",
        "        self.가격 = 가격\r\n",
        "    \r\n",
        "    def 정보(self):\r\n",
        "        print('바퀴 수', self.바퀴)\r\n",
        "        print('가격 ', self.가격)\r\n",
        "\r\n",
        "class 자동차(차):\r\n",
        "    def __init__(self, 바퀴, 가격):\r\n",
        "        super().__init__(바퀴,가격)\r\n",
        "\r\n",
        "class 자전거(차):\r\n",
        "    def __init__(self, 바퀴, 가격, 구동계):\r\n",
        "        super().__init__(바퀴,가격)\r\n",
        "        self.구동계 = 구동계\r\n",
        "\r\n",
        "bicycle = 자전거(2,100,'시마노')\r\n",
        "bicycle.정보()"
      ],
      "execution_count": 249,
      "outputs": [
        {
          "output_type": "stream",
          "text": [
            "바퀴수:2\n",
            "가격:100\n",
            "바퀴 수 2\n",
            "가격  100\n"
          ],
          "name": "stdout"
        }
      ]
    },
    {
      "cell_type": "code",
      "metadata": {
        "colab": {
          "base_uri": "https://localhost:8080/"
        },
        "id": "Q9iMD6wFugio",
        "outputId": "c26de004-0682-49b2-b290-651ac6f06992"
      },
      "source": [
        "# 287. 부모 클래스 메서드 호출\r\n",
        "# 자전차 정보() 메서드로 구동계 정보까지 출력하도록 수정\r\n",
        "class 차:\r\n",
        "    def __init__(self, 바퀴, 가격, 구동계):\r\n",
        "        self.바퀴 = 바퀴\r\n",
        "        self.가격 = 가격\r\n",
        "        self.구동계 = 구동계\r\n",
        "    \r\n",
        "    def 정보(self):\r\n",
        "        print('바퀴 수', self.바퀴)\r\n",
        "        print('가격 ', self.가격)\r\n",
        "        print('구동계', self.구동계)\r\n",
        "\r\n",
        "class 자동차(차):\r\n",
        "    def __init__(self, 바퀴, 가격):\r\n",
        "        super().__init__(바퀴,가격)\r\n",
        "\r\n",
        "class 자전거(차):\r\n",
        "    def __init__(self, 바퀴, 가격, 구동계):\r\n",
        "        super().__init__(바퀴,가격, 구동계)\r\n",
        "        \r\n",
        "bicycle = 자전거(2,100,'시마노')\r\n",
        "bicycle.정보()\r\n",
        "\r\n",
        "\r\n",
        "# >>>답안<<<\r\n",
        "class 차:\r\n",
        "    def __init__(self, 바퀴, 가격):\r\n",
        "        self.바퀴 = 바퀴\r\n",
        "        self.가격 = 가격\r\n",
        "    \r\n",
        "    def 정보(self):\r\n",
        "        print('바퀴 수', self.바퀴)\r\n",
        "        print('가격 ', self.가격)\r\n",
        "\r\n",
        "class 자동차(차):\r\n",
        "    def __init__(self, 바퀴, 가격):\r\n",
        "        super().__init__(바퀴,가격)\r\n",
        "\r\n",
        "class 자전거(차):\r\n",
        "    def __init__(self, 바퀴, 가격, 구동계):\r\n",
        "        super().__init__(바퀴,가격)\r\n",
        "        self.구동계 = 구동계\r\n",
        "\r\n",
        "    def 정보(self):\r\n",
        "        super().정보()\r\n",
        "        print('구동계',self.구동계)\r\n",
        "\r\n",
        "bicycle = 자전거(2,100,'시마노')\r\n",
        "bicycle.정보()\r\n"
      ],
      "execution_count": 253,
      "outputs": [
        {
          "output_type": "stream",
          "text": [
            "바퀴 수 2\n",
            "가격  100\n",
            "구동계 시마노\n",
            "바퀴 수 2\n",
            "가격  100\n",
            "구동계 시마노\n"
          ],
          "name": "stdout"
        }
      ]
    },
    {
      "cell_type": "code",
      "metadata": {
        "colab": {
          "base_uri": "https://localhost:8080/"
        },
        "id": "THQ_S7O-vdkM",
        "outputId": "e16954ce-e9a1-45e6-cd91-393d84ff2318"
      },
      "source": [
        "# 288. 메서드 오버라이딩 \r\n",
        "# 코드 실행 결과 예상\r\n",
        "class 부모:\r\n",
        "    def 호출(self):\r\n",
        "        print('부모호출')\r\n",
        "\r\n",
        "class 자식(부모):\r\n",
        "    def 호출(self):\r\n",
        "        print('자식호출')\r\n",
        "\r\n",
        "나 = 자식()\r\n",
        "나.호출() # >> 자식 호출 (호출의 모양은 같아도 기능이 다르기때문 - 오버라이딩)"
      ],
      "execution_count": 254,
      "outputs": [
        {
          "output_type": "stream",
          "text": [
            "자식호출\n"
          ],
          "name": "stdout"
        }
      ]
    },
    {
      "cell_type": "code",
      "metadata": {
        "colab": {
          "base_uri": "https://localhost:8080/"
        },
        "id": "YLdGwtc_xlPf",
        "outputId": "c6ce9311-cff3-4cbc-8bc9-6a79428b9c4d"
      },
      "source": [
        "# 289. 생성자\r\n",
        "# 코드 실행 결과 예상\r\n",
        "class 부모:\r\n",
        "    def __init__(self):\r\n",
        "        print('부모생성')\r\n",
        "\r\n",
        "class 자식(부모):\r\n",
        "    def __init__(self):\r\n",
        "        print('자식생성')\r\n",
        "\r\n",
        "나 = 자식()"
      ],
      "execution_count": 255,
      "outputs": [
        {
          "output_type": "stream",
          "text": [
            "자식생성\n"
          ],
          "name": "stdout"
        }
      ]
    },
    {
      "cell_type": "code",
      "metadata": {
        "colab": {
          "base_uri": "https://localhost:8080/"
        },
        "id": "_bWq8j2fyAQQ",
        "outputId": "d1965902-e503-4ba7-d2cc-7004bbd2716c"
      },
      "source": [
        "# 290. 부모클래스 생성자 호출\r\n",
        "# 코드 실행 결과 예측\r\n",
        "class 부모:\r\n",
        "    def __init__(self):\r\n",
        "        print('부모생성')\r\n",
        "\r\n",
        "class 자식(부모):\r\n",
        "    def __inti(self):\r\n",
        "        print('자식생성')\r\n",
        "        super().__init__()\r\n",
        "\r\n",
        "나=자식()"
      ],
      "execution_count": 257,
      "outputs": [
        {
          "output_type": "stream",
          "text": [
            "부모생성\n"
          ],
          "name": "stdout"
        }
      ]
    },
    {
      "cell_type": "markdown",
      "metadata": {
        "id": "dib8hjULyY8H"
      },
      "source": [
        "## 12 파일 입출력과 예외처리 (291~300)\r\n",
        "---\r\n",
        "[학습 목표]\r\n",
        "* 파일 읽고 쓰는 방법\r\n",
        "* 프로그램을 작성하다보면 예외가 발생할 수 있는데, 이를 처리하는 방법\r\n"
      ]
    },
    {
      "cell_type": "code",
      "metadata": {
        "id": "aNP6M22dytQs"
      },
      "source": [
        "# 291. 파일 쓰기\r\n",
        "# 바탕화면에 'ex1.txt' 파일을 생성한 후 다음과 같이 종목코드를 파일에 써보시오.\r\n",
        "f = open('ex1.txt','w')\r\n",
        "f.write('005930\\n')\r\n",
        "f.write('005380\\n')\r\n",
        "f.write('005231')\r\n",
        "f.close()"
      ],
      "execution_count": 258,
      "outputs": []
    },
    {
      "cell_type": "code",
      "metadata": {
        "id": "3F26iWkVzjNA"
      },
      "source": [
        "# 292. 파일 쓰기\r\n",
        "# ex2.txt 생성\r\n",
        "f = open('ex2.txt','w')\r\n",
        "f.write('005930\\t samsung\\n')\r\n",
        "f.write('005380\\t hyundae\\n')\r\n",
        "f.write('005231\\t naver')\r\n",
        "f.close()"
      ],
      "execution_count": 259,
      "outputs": []
    },
    {
      "cell_type": "code",
      "metadata": {
        "id": "OSl8s8bl0Jl8"
      },
      "source": [
        "# 293. CSV 파일 쓰기\r\n",
        "# ex.csv 생성 (인코딩은 cp949)\r\n",
        "import pandas as pd\r\n",
        "test = pd.DataFrame(np.array([['삼성전자','005930',15.79],['NAVER','035420',55.79]]),columns=['종목명','종목코드','PER'])\r\n",
        "test.to_csv('ex.csv', encoding='cp949')\r\n",
        "\r\n",
        "# >>>답안<<<\r\n",
        "# import csv\r\n",
        "\r\n",
        "# f = open(\"ex.csv\", mode=\"wt\", encoding=\"cp949\", newline='')\r\n",
        "\r\n",
        "# writer = csv.writer(f)\r\n",
        "# writer.writerow(['종목명','종목코드','PER'])\r\n",
        "# writer.writerow(['삼성전자','005930',15.79])\r\n",
        "# writer.writerow(['NAVER','035420',55.79])\r\n",
        "\r\n",
        "# f.close()"
      ],
      "execution_count": 281,
      "outputs": []
    },
    {
      "cell_type": "code",
      "metadata": {
        "colab": {
          "base_uri": "https://localhost:8080/"
        },
        "id": "ND773Gkv4bHR",
        "outputId": "f29ffd10-c93c-4156-8bf3-a74d9ce1f757"
      },
      "source": [
        "# 294. 파일 읽기\r\n",
        "# ex.txt 읽은 뒤 리스트에 저장\r\n",
        "f= open('/content/ex1.txt', encoding='cp949')\r\n",
        "lines = f.readlines()\r\n",
        "\r\n",
        "li1 = []\r\n",
        "for line in lines:\r\n",
        "    line = line.strip('\\n')\r\n",
        "    li1.append(line)\r\n",
        "\r\n",
        "print(li1)"
      ],
      "execution_count": 323,
      "outputs": [
        {
          "output_type": "stream",
          "text": [
            "['005930', '005380', '005231']\n"
          ],
          "name": "stdout"
        }
      ]
    },
    {
      "cell_type": "code",
      "metadata": {
        "colab": {
          "base_uri": "https://localhost:8080/"
        },
        "id": "KOXlFieY3I9y",
        "outputId": "ddeeddde-3314-4274-aaca-ff6ca3ac8d13"
      },
      "source": [
        "\r\n",
        "# 295. 파일 읽기\r\n",
        "# ex2.txt를 dict 형태로 저장\r\n",
        "f = open('ex2.txt', encoding='cp949')\r\n",
        "\r\n",
        "lines = f.readlines()\r\n",
        "\r\n",
        "data={}\r\n",
        "for line in lines:\r\n",
        "    line = (line.strip('\\n')).replace('\\t','')\r\n",
        "    k,v = line.split(' ')\r\n",
        "    data[k]=v\r\n",
        "\r\n",
        "print(data)\r\n",
        "f.close()"
      ],
      "execution_count": 301,
      "outputs": [
        {
          "output_type": "stream",
          "text": [
            "{'005930': 'samsung', '005380': 'hyundae', '005231': 'naver'}\n"
          ],
          "name": "stdout"
        }
      ]
    },
    {
      "cell_type": "code",
      "metadata": {
        "colab": {
          "base_uri": "https://localhost:8080/"
        },
        "id": "Cyb2_A9X4Wan",
        "outputId": "ab0f01a5-9ee9-47b1-8dbc-394cf281b33c"
      },
      "source": [
        "# 296. 예외처리\r\n",
        "# 문자열 PER(Price Earning Ratio)값을 실수로 변환할 때 에러가 발생한다.\r\n",
        "# 이를 예외처리를 통해 에러가 발생하는 PER은 0으로 출력하라.\r\n",
        "\r\n",
        "per = ['10.31','','8.00']\r\n",
        "# try:\r\n",
        "#     for i in per:\r\n",
        "#         print(float(i))\r\n",
        "# except Exception as E:\r\n",
        "#     pass\r\n",
        "\r\n",
        "# >>>답안<<<\r\n",
        "for i in per:\r\n",
        "    try:\r\n",
        "        print(float(i))\r\n",
        "    except:\r\n",
        "        print(0)"
      ],
      "execution_count": 326,
      "outputs": [
        {
          "output_type": "stream",
          "text": [
            "10.31\n",
            "0\n",
            "8.0\n"
          ],
          "name": "stdout"
        }
      ]
    },
    {
      "cell_type": "code",
      "metadata": {
        "colab": {
          "base_uri": "https://localhost:8080/"
        },
        "id": "kqTw3e4D7LU9",
        "outputId": "3c2c4c1b-9392-4d6f-cffc-fe472d550a2a"
      },
      "source": [
        "# 297. 예외처리 및 리스트에 저장\r\n",
        "# 문자열로 표현된 PER 값을 실수로 변환한 후 이를 새로운 리스트에 저장.\r\n",
        "per = ['10.31','','8.00']\r\n",
        "li2 = []\r\n",
        "\r\n",
        "for i in per:\r\n",
        "    try:\r\n",
        "        li2.append(float(i))\r\n",
        "    except:\r\n",
        "        li2.append(0)\r\n",
        "\r\n",
        "# >>>답안<<<\r\n",
        "# for i in per:\r\n",
        "#     try:\r\n",
        "#         v=float(i)\r\n",
        "#     except:\r\n",
        "#         v=0\r\n",
        "#     li2.append(v)\r\n",
        "\r\n",
        "print(li2)"
      ],
      "execution_count": 336,
      "outputs": [
        {
          "output_type": "stream",
          "text": [
            "[10.31, 0, 8.0]\n"
          ],
          "name": "stdout"
        }
      ]
    },
    {
      "cell_type": "code",
      "metadata": {
        "colab": {
          "base_uri": "https://localhost:8080/"
        },
        "id": "mYNyVzeG8OUy",
        "outputId": "10b780b9-49c5-4b0b-f1bb-271aebb8947d"
      },
      "source": [
        "# 298. 특정 예외만 처리하기 \r\n",
        "# 어떤 값을 0으로 나누면 ZeroDivisionError 에러가 발생한다. try~except로 해당 에러에 대해서만 예외처리.\r\n",
        "try:\r\n",
        "    b= 3/0\r\n",
        "except ZeroDivisionError as Z:\r\n",
        "    print(Z)"
      ],
      "execution_count": 343,
      "outputs": [
        {
          "output_type": "stream",
          "text": [
            "division by zero\n"
          ],
          "name": "stdout"
        }
      ]
    },
    {
      "cell_type": "code",
      "metadata": {
        "colab": {
          "base_uri": "https://localhost:8080/"
        },
        "id": "zlGyhz3A84BN",
        "outputId": "74f47938-88eb-4ecf-d98e-2b56196094c2"
      },
      "source": [
        "# 299. 예외 메세지 출력하기\r\n",
        "data = [1,2,3]\r\n",
        "# for i in range(5):\r\n",
        "#     print(data[i])\r\n",
        "for i in range(5):\r\n",
        "    try:\r\n",
        "        print(data[i])\r\n",
        "    except IndexError as I:\r\n",
        "        print(I)"
      ],
      "execution_count": 350,
      "outputs": [
        {
          "output_type": "stream",
          "text": [
            "1\n",
            "2\n",
            "3\n",
            "list index out of range\n",
            "list index out of range\n"
          ],
          "name": "stdout"
        }
      ]
    },
    {
      "cell_type": "code",
      "metadata": {
        "id": "u5WtH2nv9plv"
      },
      "source": [
        "# 300 try, except, else, finally 구조 사용해보기"
      ],
      "execution_count": null,
      "outputs": []
    },
    {
      "cell_type": "markdown",
      "metadata": {
        "id": "lJYEovxp-bcl"
      },
      "source": [
        " 파이썬 예외처리는 다음과 같은 구조를 가질 수 있다.\r\n",
        "```\r\n",
        "try: \r\n",
        "    실행 코드\r\n",
        "except:\r\n",
        "    예외 발생시 경우 수행할 코드\r\n",
        "else: \r\n",
        "    예외 미발생시 수행할 코드\r\n",
        "finally:\r\n",
        "    예외 발생 여부와 상관없이 수행\r\n",
        "```"
      ]
    },
    {
      "cell_type": "code",
      "metadata": {
        "colab": {
          "base_uri": "https://localhost:8080/"
        },
        "id": "2Gt-cmNg-y6u",
        "outputId": "8aa67a71-a685-49cc-b0a2-14350eea6b16"
      },
      "source": [
        "per = ['10.31','','8.00']\r\n",
        "\r\n",
        "for i in per:\r\n",
        "    try:\r\n",
        "        print(float(per))\r\n",
        "    except:\r\n",
        "        try:\r\n",
        "            print(float(i))\r\n",
        "        except:\r\n",
        "            print(0)\r\n",
        "        else:\r\n",
        "            print('에러 미발생')\r\n",
        "    finally:\r\n",
        "        print('-'*8)\r\n",
        "    \r\n"
      ],
      "execution_count": 363,
      "outputs": [
        {
          "output_type": "stream",
          "text": [
            "10.31\n",
            "에러 미발생\n",
            "--------\n",
            "0\n",
            "--------\n",
            "8.0\n",
            "에러 미발생\n",
            "--------\n"
          ],
          "name": "stdout"
        }
      ]
    }
  ]
}